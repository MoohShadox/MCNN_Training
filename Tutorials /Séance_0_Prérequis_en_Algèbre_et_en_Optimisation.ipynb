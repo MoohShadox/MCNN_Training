{
  "nbformat": 4,
  "nbformat_minor": 0,
  "metadata": {
    "accelerator": "TPU",
    "colab": {
      "name": "Séance 0 : Prérequis en Algèbre et en Optimisation.ipynb",
      "provenance": [],
      "toc_visible": true,
      "authorship_tag": "ABX9TyNtGKB/aGIF/OHKRTqVNIVY",
      "include_colab_link": true
    },
    "kernelspec": {
      "display_name": "Python 3",
      "name": "python3"
    },
    "widgets": {
      "application/vnd.jupyter.widget-state+json": {
        "e7c7f44685124ec883bdfeea02785f63": {
          "model_module": "@jupyter-widgets/controls",
          "model_name": "HBoxModel",
          "state": {
            "_view_name": "HBoxView",
            "_dom_classes": [],
            "_model_name": "HBoxModel",
            "_view_module": "@jupyter-widgets/controls",
            "_model_module_version": "1.5.0",
            "_view_count": null,
            "_view_module_version": "1.5.0",
            "box_style": "",
            "layout": "IPY_MODEL_7fd524cd0d5a48faa6ed56d86045f572",
            "_model_module": "@jupyter-widgets/controls",
            "children": [
              "IPY_MODEL_3a8e1c8a3aa74725bdad9a6bc3846a6d",
              "IPY_MODEL_5d3cff587e16428ba2d09fd1ea03f8bf"
            ]
          }
        },
        "7fd524cd0d5a48faa6ed56d86045f572": {
          "model_module": "@jupyter-widgets/base",
          "model_name": "LayoutModel",
          "state": {
            "_view_name": "LayoutView",
            "grid_template_rows": null,
            "right": null,
            "justify_content": null,
            "_view_module": "@jupyter-widgets/base",
            "overflow": null,
            "_model_module_version": "1.2.0",
            "_view_count": null,
            "flex_flow": null,
            "width": null,
            "min_width": null,
            "border": null,
            "align_items": null,
            "bottom": null,
            "_model_module": "@jupyter-widgets/base",
            "top": null,
            "grid_column": null,
            "overflow_y": null,
            "overflow_x": null,
            "grid_auto_flow": null,
            "grid_area": null,
            "grid_template_columns": null,
            "flex": null,
            "_model_name": "LayoutModel",
            "justify_items": null,
            "grid_row": null,
            "max_height": null,
            "align_content": null,
            "visibility": null,
            "align_self": null,
            "height": null,
            "min_height": null,
            "padding": null,
            "grid_auto_rows": null,
            "grid_gap": null,
            "max_width": null,
            "order": null,
            "_view_module_version": "1.2.0",
            "grid_template_areas": null,
            "object_position": null,
            "object_fit": null,
            "grid_auto_columns": null,
            "margin": null,
            "display": null,
            "left": null
          }
        },
        "3a8e1c8a3aa74725bdad9a6bc3846a6d": {
          "model_module": "@jupyter-widgets/controls",
          "model_name": "FloatProgressModel",
          "state": {
            "_view_name": "ProgressView",
            "style": "IPY_MODEL_f80a0d2865a64df2af0560f743691863",
            "_dom_classes": [],
            "description": "Epochs:   4%",
            "_model_name": "FloatProgressModel",
            "bar_style": "",
            "max": 50,
            "_view_module": "@jupyter-widgets/controls",
            "_model_module_version": "1.5.0",
            "value": 2,
            "_view_count": null,
            "_view_module_version": "1.5.0",
            "orientation": "horizontal",
            "min": 0,
            "description_tooltip": null,
            "_model_module": "@jupyter-widgets/controls",
            "layout": "IPY_MODEL_7112c0a70f784cf59aa49b98c41e72e2"
          }
        },
        "5d3cff587e16428ba2d09fd1ea03f8bf": {
          "model_module": "@jupyter-widgets/controls",
          "model_name": "HTMLModel",
          "state": {
            "_view_name": "HTMLView",
            "style": "IPY_MODEL_dc6dd2f6e70845d98077699fdc0acaf3",
            "_dom_classes": [],
            "description": "",
            "_model_name": "HTMLModel",
            "placeholder": "​",
            "_view_module": "@jupyter-widgets/controls",
            "_model_module_version": "1.5.0",
            "value": " 2/50 [00:02&lt;00:57,  1.20s/it]",
            "_view_count": null,
            "_view_module_version": "1.5.0",
            "description_tooltip": null,
            "_model_module": "@jupyter-widgets/controls",
            "layout": "IPY_MODEL_1dc435e61f464ff7952c8ff19024c55c"
          }
        },
        "f80a0d2865a64df2af0560f743691863": {
          "model_module": "@jupyter-widgets/controls",
          "model_name": "ProgressStyleModel",
          "state": {
            "_view_name": "StyleView",
            "_model_name": "ProgressStyleModel",
            "description_width": "initial",
            "_view_module": "@jupyter-widgets/base",
            "_model_module_version": "1.5.0",
            "_view_count": null,
            "_view_module_version": "1.2.0",
            "bar_color": null,
            "_model_module": "@jupyter-widgets/controls"
          }
        },
        "7112c0a70f784cf59aa49b98c41e72e2": {
          "model_module": "@jupyter-widgets/base",
          "model_name": "LayoutModel",
          "state": {
            "_view_name": "LayoutView",
            "grid_template_rows": null,
            "right": null,
            "justify_content": null,
            "_view_module": "@jupyter-widgets/base",
            "overflow": null,
            "_model_module_version": "1.2.0",
            "_view_count": null,
            "flex_flow": null,
            "width": null,
            "min_width": null,
            "border": null,
            "align_items": null,
            "bottom": null,
            "_model_module": "@jupyter-widgets/base",
            "top": null,
            "grid_column": null,
            "overflow_y": null,
            "overflow_x": null,
            "grid_auto_flow": null,
            "grid_area": null,
            "grid_template_columns": null,
            "flex": null,
            "_model_name": "LayoutModel",
            "justify_items": null,
            "grid_row": null,
            "max_height": null,
            "align_content": null,
            "visibility": null,
            "align_self": null,
            "height": null,
            "min_height": null,
            "padding": null,
            "grid_auto_rows": null,
            "grid_gap": null,
            "max_width": null,
            "order": null,
            "_view_module_version": "1.2.0",
            "grid_template_areas": null,
            "object_position": null,
            "object_fit": null,
            "grid_auto_columns": null,
            "margin": null,
            "display": null,
            "left": null
          }
        },
        "dc6dd2f6e70845d98077699fdc0acaf3": {
          "model_module": "@jupyter-widgets/controls",
          "model_name": "DescriptionStyleModel",
          "state": {
            "_view_name": "StyleView",
            "_model_name": "DescriptionStyleModel",
            "description_width": "",
            "_view_module": "@jupyter-widgets/base",
            "_model_module_version": "1.5.0",
            "_view_count": null,
            "_view_module_version": "1.2.0",
            "_model_module": "@jupyter-widgets/controls"
          }
        },
        "1dc435e61f464ff7952c8ff19024c55c": {
          "model_module": "@jupyter-widgets/base",
          "model_name": "LayoutModel",
          "state": {
            "_view_name": "LayoutView",
            "grid_template_rows": null,
            "right": null,
            "justify_content": null,
            "_view_module": "@jupyter-widgets/base",
            "overflow": null,
            "_model_module_version": "1.2.0",
            "_view_count": null,
            "flex_flow": null,
            "width": null,
            "min_width": null,
            "border": null,
            "align_items": null,
            "bottom": null,
            "_model_module": "@jupyter-widgets/base",
            "top": null,
            "grid_column": null,
            "overflow_y": null,
            "overflow_x": null,
            "grid_auto_flow": null,
            "grid_area": null,
            "grid_template_columns": null,
            "flex": null,
            "_model_name": "LayoutModel",
            "justify_items": null,
            "grid_row": null,
            "max_height": null,
            "align_content": null,
            "visibility": null,
            "align_self": null,
            "height": null,
            "min_height": null,
            "padding": null,
            "grid_auto_rows": null,
            "grid_gap": null,
            "max_width": null,
            "order": null,
            "_view_module_version": "1.2.0",
            "grid_template_areas": null,
            "object_position": null,
            "object_fit": null,
            "grid_auto_columns": null,
            "margin": null,
            "display": null,
            "left": null
          }
        },
        "d3b480e3662c40e28a8c1c9693bf44a9": {
          "model_module": "@jupyter-widgets/controls",
          "model_name": "HBoxModel",
          "state": {
            "_view_name": "HBoxView",
            "_dom_classes": [],
            "_model_name": "HBoxModel",
            "_view_module": "@jupyter-widgets/controls",
            "_model_module_version": "1.5.0",
            "_view_count": null,
            "_view_module_version": "1.5.0",
            "box_style": "",
            "layout": "IPY_MODEL_b384119f596248bb995921eed941e6d7",
            "_model_module": "@jupyter-widgets/controls",
            "children": [
              "IPY_MODEL_0ca3f6744742447cb81ccc5a4c2ce7db",
              "IPY_MODEL_e8234d6985894ed684b07606250e5707"
            ]
          }
        },
        "b384119f596248bb995921eed941e6d7": {
          "model_module": "@jupyter-widgets/base",
          "model_name": "LayoutModel",
          "state": {
            "_view_name": "LayoutView",
            "grid_template_rows": null,
            "right": null,
            "justify_content": null,
            "_view_module": "@jupyter-widgets/base",
            "overflow": null,
            "_model_module_version": "1.2.0",
            "_view_count": null,
            "flex_flow": null,
            "width": null,
            "min_width": null,
            "border": null,
            "align_items": null,
            "bottom": null,
            "_model_module": "@jupyter-widgets/base",
            "top": null,
            "grid_column": null,
            "overflow_y": null,
            "overflow_x": null,
            "grid_auto_flow": null,
            "grid_area": null,
            "grid_template_columns": null,
            "flex": null,
            "_model_name": "LayoutModel",
            "justify_items": null,
            "grid_row": null,
            "max_height": null,
            "align_content": null,
            "visibility": null,
            "align_self": null,
            "height": null,
            "min_height": null,
            "padding": null,
            "grid_auto_rows": null,
            "grid_gap": null,
            "max_width": null,
            "order": null,
            "_view_module_version": "1.2.0",
            "grid_template_areas": null,
            "object_position": null,
            "object_fit": null,
            "grid_auto_columns": null,
            "margin": null,
            "display": null,
            "left": null
          }
        },
        "0ca3f6744742447cb81ccc5a4c2ce7db": {
          "model_module": "@jupyter-widgets/controls",
          "model_name": "FloatProgressModel",
          "state": {
            "_view_name": "ProgressView",
            "style": "IPY_MODEL_8613e5f8b40d4035beec3ddb89512965",
            "_dom_classes": [],
            "description": "Batch 1: 100%",
            "_model_name": "FloatProgressModel",
            "bar_style": "success",
            "max": 200,
            "_view_module": "@jupyter-widgets/controls",
            "_model_module_version": "1.5.0",
            "value": 200,
            "_view_count": null,
            "_view_module_version": "1.5.0",
            "orientation": "horizontal",
            "min": 0,
            "description_tooltip": null,
            "_model_module": "@jupyter-widgets/controls",
            "layout": "IPY_MODEL_70b5727f0c104b3ba266f118e6cebec4"
          }
        },
        "e8234d6985894ed684b07606250e5707": {
          "model_module": "@jupyter-widgets/controls",
          "model_name": "HTMLModel",
          "state": {
            "_view_name": "HTMLView",
            "style": "IPY_MODEL_3cece3903a214e1fa00b4745a5dea0d5",
            "_dom_classes": [],
            "description": "",
            "_model_name": "HTMLModel",
            "placeholder": "​",
            "_view_module": "@jupyter-widgets/controls",
            "_model_module_version": "1.5.0",
            "value": " 200/200 [00:03&lt;00:00, 62.23it/s, loss=144]",
            "_view_count": null,
            "_view_module_version": "1.5.0",
            "description_tooltip": null,
            "_model_module": "@jupyter-widgets/controls",
            "layout": "IPY_MODEL_7df21fa526d54f519c383b01595aa84e"
          }
        },
        "8613e5f8b40d4035beec3ddb89512965": {
          "model_module": "@jupyter-widgets/controls",
          "model_name": "ProgressStyleModel",
          "state": {
            "_view_name": "StyleView",
            "_model_name": "ProgressStyleModel",
            "description_width": "initial",
            "_view_module": "@jupyter-widgets/base",
            "_model_module_version": "1.5.0",
            "_view_count": null,
            "_view_module_version": "1.2.0",
            "bar_color": null,
            "_model_module": "@jupyter-widgets/controls"
          }
        },
        "70b5727f0c104b3ba266f118e6cebec4": {
          "model_module": "@jupyter-widgets/base",
          "model_name": "LayoutModel",
          "state": {
            "_view_name": "LayoutView",
            "grid_template_rows": null,
            "right": null,
            "justify_content": null,
            "_view_module": "@jupyter-widgets/base",
            "overflow": null,
            "_model_module_version": "1.2.0",
            "_view_count": null,
            "flex_flow": null,
            "width": null,
            "min_width": null,
            "border": null,
            "align_items": null,
            "bottom": null,
            "_model_module": "@jupyter-widgets/base",
            "top": null,
            "grid_column": null,
            "overflow_y": null,
            "overflow_x": null,
            "grid_auto_flow": null,
            "grid_area": null,
            "grid_template_columns": null,
            "flex": null,
            "_model_name": "LayoutModel",
            "justify_items": null,
            "grid_row": null,
            "max_height": null,
            "align_content": null,
            "visibility": null,
            "align_self": null,
            "height": null,
            "min_height": null,
            "padding": null,
            "grid_auto_rows": null,
            "grid_gap": null,
            "max_width": null,
            "order": null,
            "_view_module_version": "1.2.0",
            "grid_template_areas": null,
            "object_position": null,
            "object_fit": null,
            "grid_auto_columns": null,
            "margin": null,
            "display": null,
            "left": null
          }
        },
        "3cece3903a214e1fa00b4745a5dea0d5": {
          "model_module": "@jupyter-widgets/controls",
          "model_name": "DescriptionStyleModel",
          "state": {
            "_view_name": "StyleView",
            "_model_name": "DescriptionStyleModel",
            "description_width": "",
            "_view_module": "@jupyter-widgets/base",
            "_model_module_version": "1.5.0",
            "_view_count": null,
            "_view_module_version": "1.2.0",
            "_model_module": "@jupyter-widgets/controls"
          }
        },
        "7df21fa526d54f519c383b01595aa84e": {
          "model_module": "@jupyter-widgets/base",
          "model_name": "LayoutModel",
          "state": {
            "_view_name": "LayoutView",
            "grid_template_rows": null,
            "right": null,
            "justify_content": null,
            "_view_module": "@jupyter-widgets/base",
            "overflow": null,
            "_model_module_version": "1.2.0",
            "_view_count": null,
            "flex_flow": null,
            "width": null,
            "min_width": null,
            "border": null,
            "align_items": null,
            "bottom": null,
            "_model_module": "@jupyter-widgets/base",
            "top": null,
            "grid_column": null,
            "overflow_y": null,
            "overflow_x": null,
            "grid_auto_flow": null,
            "grid_area": null,
            "grid_template_columns": null,
            "flex": null,
            "_model_name": "LayoutModel",
            "justify_items": null,
            "grid_row": null,
            "max_height": null,
            "align_content": null,
            "visibility": null,
            "align_self": null,
            "height": null,
            "min_height": null,
            "padding": null,
            "grid_auto_rows": null,
            "grid_gap": null,
            "max_width": null,
            "order": null,
            "_view_module_version": "1.2.0",
            "grid_template_areas": null,
            "object_position": null,
            "object_fit": null,
            "grid_auto_columns": null,
            "margin": null,
            "display": null,
            "left": null
          }
        },
        "922375800389440b980e71ec48ffb4c5": {
          "model_module": "@jupyter-widgets/controls",
          "model_name": "HBoxModel",
          "state": {
            "_view_name": "HBoxView",
            "_dom_classes": [],
            "_model_name": "HBoxModel",
            "_view_module": "@jupyter-widgets/controls",
            "_model_module_version": "1.5.0",
            "_view_count": null,
            "_view_module_version": "1.5.0",
            "box_style": "",
            "layout": "IPY_MODEL_54f4678a1be149ae971929ac15f3a481",
            "_model_module": "@jupyter-widgets/controls",
            "children": [
              "IPY_MODEL_b1e0b712526549349031c7b1e815abab",
              "IPY_MODEL_18a28e108a9a4cca94c2b33c029fe4e9"
            ]
          }
        },
        "54f4678a1be149ae971929ac15f3a481": {
          "model_module": "@jupyter-widgets/base",
          "model_name": "LayoutModel",
          "state": {
            "_view_name": "LayoutView",
            "grid_template_rows": null,
            "right": null,
            "justify_content": null,
            "_view_module": "@jupyter-widgets/base",
            "overflow": null,
            "_model_module_version": "1.2.0",
            "_view_count": null,
            "flex_flow": null,
            "width": null,
            "min_width": null,
            "border": null,
            "align_items": null,
            "bottom": null,
            "_model_module": "@jupyter-widgets/base",
            "top": null,
            "grid_column": null,
            "overflow_y": null,
            "overflow_x": null,
            "grid_auto_flow": null,
            "grid_area": null,
            "grid_template_columns": null,
            "flex": null,
            "_model_name": "LayoutModel",
            "justify_items": null,
            "grid_row": null,
            "max_height": null,
            "align_content": null,
            "visibility": null,
            "align_self": null,
            "height": null,
            "min_height": null,
            "padding": null,
            "grid_auto_rows": null,
            "grid_gap": null,
            "max_width": null,
            "order": null,
            "_view_module_version": "1.2.0",
            "grid_template_areas": null,
            "object_position": null,
            "object_fit": null,
            "grid_auto_columns": null,
            "margin": null,
            "display": null,
            "left": null
          }
        },
        "b1e0b712526549349031c7b1e815abab": {
          "model_module": "@jupyter-widgets/controls",
          "model_name": "FloatProgressModel",
          "state": {
            "_view_name": "ProgressView",
            "style": "IPY_MODEL_60b32148d1704d21986fc2fff2187517",
            "_dom_classes": [],
            "description": "Batch 2: 100%",
            "_model_name": "FloatProgressModel",
            "bar_style": "success",
            "max": 200,
            "_view_module": "@jupyter-widgets/controls",
            "_model_module_version": "1.5.0",
            "value": 200,
            "_view_count": null,
            "_view_module_version": "1.5.0",
            "orientation": "horizontal",
            "min": 0,
            "description_tooltip": null,
            "_model_module": "@jupyter-widgets/controls",
            "layout": "IPY_MODEL_36acf43295464bbf891dbb25cd272dcd"
          }
        },
        "18a28e108a9a4cca94c2b33c029fe4e9": {
          "model_module": "@jupyter-widgets/controls",
          "model_name": "HTMLModel",
          "state": {
            "_view_name": "HTMLView",
            "style": "IPY_MODEL_3e5bc1001bd14a55b43fc3d5681c9f8f",
            "_dom_classes": [],
            "description": "",
            "_model_name": "HTMLModel",
            "placeholder": "​",
            "_view_module": "@jupyter-widgets/controls",
            "_model_module_version": "1.5.0",
            "value": " 200/200 [00:02&lt;00:00, 97.65it/s, loss=31]",
            "_view_count": null,
            "_view_module_version": "1.5.0",
            "description_tooltip": null,
            "_model_module": "@jupyter-widgets/controls",
            "layout": "IPY_MODEL_dedfbe4a4996416c89694106a83191de"
          }
        },
        "60b32148d1704d21986fc2fff2187517": {
          "model_module": "@jupyter-widgets/controls",
          "model_name": "ProgressStyleModel",
          "state": {
            "_view_name": "StyleView",
            "_model_name": "ProgressStyleModel",
            "description_width": "initial",
            "_view_module": "@jupyter-widgets/base",
            "_model_module_version": "1.5.0",
            "_view_count": null,
            "_view_module_version": "1.2.0",
            "bar_color": null,
            "_model_module": "@jupyter-widgets/controls"
          }
        },
        "36acf43295464bbf891dbb25cd272dcd": {
          "model_module": "@jupyter-widgets/base",
          "model_name": "LayoutModel",
          "state": {
            "_view_name": "LayoutView",
            "grid_template_rows": null,
            "right": null,
            "justify_content": null,
            "_view_module": "@jupyter-widgets/base",
            "overflow": null,
            "_model_module_version": "1.2.0",
            "_view_count": null,
            "flex_flow": null,
            "width": null,
            "min_width": null,
            "border": null,
            "align_items": null,
            "bottom": null,
            "_model_module": "@jupyter-widgets/base",
            "top": null,
            "grid_column": null,
            "overflow_y": null,
            "overflow_x": null,
            "grid_auto_flow": null,
            "grid_area": null,
            "grid_template_columns": null,
            "flex": null,
            "_model_name": "LayoutModel",
            "justify_items": null,
            "grid_row": null,
            "max_height": null,
            "align_content": null,
            "visibility": null,
            "align_self": null,
            "height": null,
            "min_height": null,
            "padding": null,
            "grid_auto_rows": null,
            "grid_gap": null,
            "max_width": null,
            "order": null,
            "_view_module_version": "1.2.0",
            "grid_template_areas": null,
            "object_position": null,
            "object_fit": null,
            "grid_auto_columns": null,
            "margin": null,
            "display": null,
            "left": null
          }
        },
        "3e5bc1001bd14a55b43fc3d5681c9f8f": {
          "model_module": "@jupyter-widgets/controls",
          "model_name": "DescriptionStyleModel",
          "state": {
            "_view_name": "StyleView",
            "_model_name": "DescriptionStyleModel",
            "description_width": "",
            "_view_module": "@jupyter-widgets/base",
            "_model_module_version": "1.5.0",
            "_view_count": null,
            "_view_module_version": "1.2.0",
            "_model_module": "@jupyter-widgets/controls"
          }
        },
        "dedfbe4a4996416c89694106a83191de": {
          "model_module": "@jupyter-widgets/base",
          "model_name": "LayoutModel",
          "state": {
            "_view_name": "LayoutView",
            "grid_template_rows": null,
            "right": null,
            "justify_content": null,
            "_view_module": "@jupyter-widgets/base",
            "overflow": null,
            "_model_module_version": "1.2.0",
            "_view_count": null,
            "flex_flow": null,
            "width": null,
            "min_width": null,
            "border": null,
            "align_items": null,
            "bottom": null,
            "_model_module": "@jupyter-widgets/base",
            "top": null,
            "grid_column": null,
            "overflow_y": null,
            "overflow_x": null,
            "grid_auto_flow": null,
            "grid_area": null,
            "grid_template_columns": null,
            "flex": null,
            "_model_name": "LayoutModel",
            "justify_items": null,
            "grid_row": null,
            "max_height": null,
            "align_content": null,
            "visibility": null,
            "align_self": null,
            "height": null,
            "min_height": null,
            "padding": null,
            "grid_auto_rows": null,
            "grid_gap": null,
            "max_width": null,
            "order": null,
            "_view_module_version": "1.2.0",
            "grid_template_areas": null,
            "object_position": null,
            "object_fit": null,
            "grid_auto_columns": null,
            "margin": null,
            "display": null,
            "left": null
          }
        },
        "3557e1a0a24741f6a81cf9bf0199d986": {
          "model_module": "@jupyter-widgets/controls",
          "model_name": "HBoxModel",
          "state": {
            "_view_name": "HBoxView",
            "_dom_classes": [],
            "_model_name": "HBoxModel",
            "_view_module": "@jupyter-widgets/controls",
            "_model_module_version": "1.5.0",
            "_view_count": null,
            "_view_module_version": "1.5.0",
            "box_style": "",
            "layout": "IPY_MODEL_db7fb08d12c54d3a93b867fbfb823e6f",
            "_model_module": "@jupyter-widgets/controls",
            "children": [
              "IPY_MODEL_1b67b46adf0d469faddbc30086f0f98f",
              "IPY_MODEL_0da1ac790bfb494e97e881349e6f3d51"
            ]
          }
        },
        "db7fb08d12c54d3a93b867fbfb823e6f": {
          "model_module": "@jupyter-widgets/base",
          "model_name": "LayoutModel",
          "state": {
            "_view_name": "LayoutView",
            "grid_template_rows": null,
            "right": null,
            "justify_content": null,
            "_view_module": "@jupyter-widgets/base",
            "overflow": null,
            "_model_module_version": "1.2.0",
            "_view_count": null,
            "flex_flow": null,
            "width": null,
            "min_width": null,
            "border": null,
            "align_items": null,
            "bottom": null,
            "_model_module": "@jupyter-widgets/base",
            "top": null,
            "grid_column": null,
            "overflow_y": null,
            "overflow_x": null,
            "grid_auto_flow": null,
            "grid_area": null,
            "grid_template_columns": null,
            "flex": null,
            "_model_name": "LayoutModel",
            "justify_items": null,
            "grid_row": null,
            "max_height": null,
            "align_content": null,
            "visibility": null,
            "align_self": null,
            "height": null,
            "min_height": null,
            "padding": null,
            "grid_auto_rows": null,
            "grid_gap": null,
            "max_width": null,
            "order": null,
            "_view_module_version": "1.2.0",
            "grid_template_areas": null,
            "object_position": null,
            "object_fit": null,
            "grid_auto_columns": null,
            "margin": null,
            "display": null,
            "left": null
          }
        },
        "1b67b46adf0d469faddbc30086f0f98f": {
          "model_module": "@jupyter-widgets/controls",
          "model_name": "FloatProgressModel",
          "state": {
            "_view_name": "ProgressView",
            "style": "IPY_MODEL_9c958670ea04445d92c90b57e0857eb5",
            "_dom_classes": [],
            "description": "Batch 3:  74%",
            "_model_name": "FloatProgressModel",
            "bar_style": "",
            "max": 200,
            "_view_module": "@jupyter-widgets/controls",
            "_model_module_version": "1.5.0",
            "value": 149,
            "_view_count": null,
            "_view_module_version": "1.5.0",
            "orientation": "horizontal",
            "min": 0,
            "description_tooltip": null,
            "_model_module": "@jupyter-widgets/controls",
            "layout": "IPY_MODEL_71dbbf551c4547d993c148ba80136440"
          }
        },
        "0da1ac790bfb494e97e881349e6f3d51": {
          "model_module": "@jupyter-widgets/controls",
          "model_name": "HTMLModel",
          "state": {
            "_view_name": "HTMLView",
            "style": "IPY_MODEL_6ce901864df549bcb58c8e5e2068edea",
            "_dom_classes": [],
            "description": "",
            "_model_name": "HTMLModel",
            "placeholder": "​",
            "_view_module": "@jupyter-widgets/controls",
            "_model_module_version": "1.5.0",
            "value": " 149/200 [00:00&lt;00:00, 175.41it/s, loss=37.1]",
            "_view_count": null,
            "_view_module_version": "1.5.0",
            "description_tooltip": null,
            "_model_module": "@jupyter-widgets/controls",
            "layout": "IPY_MODEL_7e140bbf183c498bb626ab7541e0c682"
          }
        },
        "9c958670ea04445d92c90b57e0857eb5": {
          "model_module": "@jupyter-widgets/controls",
          "model_name": "ProgressStyleModel",
          "state": {
            "_view_name": "StyleView",
            "_model_name": "ProgressStyleModel",
            "description_width": "initial",
            "_view_module": "@jupyter-widgets/base",
            "_model_module_version": "1.5.0",
            "_view_count": null,
            "_view_module_version": "1.2.0",
            "bar_color": null,
            "_model_module": "@jupyter-widgets/controls"
          }
        },
        "71dbbf551c4547d993c148ba80136440": {
          "model_module": "@jupyter-widgets/base",
          "model_name": "LayoutModel",
          "state": {
            "_view_name": "LayoutView",
            "grid_template_rows": null,
            "right": null,
            "justify_content": null,
            "_view_module": "@jupyter-widgets/base",
            "overflow": null,
            "_model_module_version": "1.2.0",
            "_view_count": null,
            "flex_flow": null,
            "width": null,
            "min_width": null,
            "border": null,
            "align_items": null,
            "bottom": null,
            "_model_module": "@jupyter-widgets/base",
            "top": null,
            "grid_column": null,
            "overflow_y": null,
            "overflow_x": null,
            "grid_auto_flow": null,
            "grid_area": null,
            "grid_template_columns": null,
            "flex": null,
            "_model_name": "LayoutModel",
            "justify_items": null,
            "grid_row": null,
            "max_height": null,
            "align_content": null,
            "visibility": null,
            "align_self": null,
            "height": null,
            "min_height": null,
            "padding": null,
            "grid_auto_rows": null,
            "grid_gap": null,
            "max_width": null,
            "order": null,
            "_view_module_version": "1.2.0",
            "grid_template_areas": null,
            "object_position": null,
            "object_fit": null,
            "grid_auto_columns": null,
            "margin": null,
            "display": null,
            "left": null
          }
        },
        "6ce901864df549bcb58c8e5e2068edea": {
          "model_module": "@jupyter-widgets/controls",
          "model_name": "DescriptionStyleModel",
          "state": {
            "_view_name": "StyleView",
            "_model_name": "DescriptionStyleModel",
            "description_width": "",
            "_view_module": "@jupyter-widgets/base",
            "_model_module_version": "1.5.0",
            "_view_count": null,
            "_view_module_version": "1.2.0",
            "_model_module": "@jupyter-widgets/controls"
          }
        },
        "7e140bbf183c498bb626ab7541e0c682": {
          "model_module": "@jupyter-widgets/base",
          "model_name": "LayoutModel",
          "state": {
            "_view_name": "LayoutView",
            "grid_template_rows": null,
            "right": null,
            "justify_content": null,
            "_view_module": "@jupyter-widgets/base",
            "overflow": null,
            "_model_module_version": "1.2.0",
            "_view_count": null,
            "flex_flow": null,
            "width": null,
            "min_width": null,
            "border": null,
            "align_items": null,
            "bottom": null,
            "_model_module": "@jupyter-widgets/base",
            "top": null,
            "grid_column": null,
            "overflow_y": null,
            "overflow_x": null,
            "grid_auto_flow": null,
            "grid_area": null,
            "grid_template_columns": null,
            "flex": null,
            "_model_name": "LayoutModel",
            "justify_items": null,
            "grid_row": null,
            "max_height": null,
            "align_content": null,
            "visibility": null,
            "align_self": null,
            "height": null,
            "min_height": null,
            "padding": null,
            "grid_auto_rows": null,
            "grid_gap": null,
            "max_width": null,
            "order": null,
            "_view_module_version": "1.2.0",
            "grid_template_areas": null,
            "object_position": null,
            "object_fit": null,
            "grid_auto_columns": null,
            "margin": null,
            "display": null,
            "left": null
          }
        }
      }
    }
  },
  "cells": [
    {
      "cell_type": "markdown",
      "metadata": {
        "id": "view-in-github",
        "colab_type": "text"
      },
      "source": [
        "<a href=\"https://colab.research.google.com/github/MoohShadox/MCNN_Training/blob/main/S%C3%A9ance_0_Pr%C3%A9requis_en_Alg%C3%A8bre_et_en_Optimisation.ipynb\" target=\"_parent\"><img src=\"https://colab.research.google.com/assets/colab-badge.svg\" alt=\"Open In Colab\"/></a>"
      ]
    },
    {
      "cell_type": "markdown",
      "metadata": {
        "id": "AxE_jEAzMKgE"
      },
      "source": [
        "# La descente de gradient : un outil indispensable d'optimisation numérique"
      ]
    },
    {
      "cell_type": "markdown",
      "metadata": {
        "id": "t0R2vvv48-fb"
      },
      "source": [
        "## Introduction \n",
        "Souvent en Machine Learning les modèles de décision dépendent de paramètres qui peuvent être \"\"\"optimisés\"\"\" et donc pour trouver les meilleurs paramètres il faut souvent minimiser une fonction d'erreur.\n",
        "\n",
        "Cette fonction est généralement **différentiable** (elle admet une dérivée) et donc la descente de gradient est largement utilisés pour \"fit\" un réseau de neurones (le faire coller aux données)."
      ]
    },
    {
      "cell_type": "markdown",
      "metadata": {
        "id": "MajjfPHKujiF"
      },
      "source": [
        "## Principe de base\n",
        "Imaginez qu'on ait une fonction simple de $\\mathcal{R}$ dans $\\mathcal{R}$ : \n",
        "$$f(x) = (x-5)^2 + 3$$\n",
        "Il est clair que le problème $z^* = min_{x \\in \\mathcal{R}}(f(x))$ admet comme solution optimale $x^*=5$ avec comme valeur $z^* =3$\n",
        "\n",
        "Imaginons qu'on veuille résoudre numériquement le problème suivant \n",
        "La fonction a optimiser est différentiable (Polynôme) et sa dérivée est : \n",
        "$$f'(x) = 2(x-5)$$\n",
        "D'abord essayons d'afficher ces deux fonctions pour trouver un moyen graphique de conçevoir un algorithme permettant de résoudre ce problème."
      ]
    },
    {
      "cell_type": "code",
      "metadata": {
        "colab": {
          "base_uri": "https://localhost:8080/",
          "height": 295
        },
        "id": "MVJjtVTEuiNZ",
        "outputId": "3d4e6161-581d-4702-b83f-01621a75c828"
      },
      "source": [
        "import matplotlib.pyplot as plt\n",
        "import numpy as np\n",
        "\n",
        "f = lambda x : (x-5)**2 + 3\n",
        "f_p = lambda x : 2*(x-5)\n",
        "\n",
        "\n",
        "x_0 = +800 #Par exemple\n",
        "\n",
        "X = np.linspace(-1000,1000,1000)\n",
        "Y = f(X)\n",
        "plt.plot(X,Y)\n",
        "\n",
        "\n",
        "\n",
        "while (np.abs(f_p(x_0)) > 1e-10):\n",
        "  plt.scatter(x_0,f(x_0))\n",
        "  plt.quiver(x_0,f(x_0),-f_p(x_0),0)\n",
        "  x_0 = x_0 - 0.1*f_p(x_0)\n",
        "\n",
        "\n",
        "print(\"Fin avec x_0 = \",x_0)"
      ],
      "execution_count": 2,
      "outputs": [
        {
          "output_type": "stream",
          "text": [
            "Fin avec x_0 =  5.000000000042043\n"
          ],
          "name": "stdout"
        },
        {
          "output_type": "display_data",
          "data": {
            "image/png": "[encoded data removed]",
            "text/plain": [
              "<Figure size 432x288 with 1 Axes>"
            ]
          },
          "metadata": {
            "tags": [],
            "needs_background": "light"
          }
        }
      ]
    },
    {
      "cell_type": "markdown",
      "metadata": {
        "id": "UwS7aAGMLvnG"
      },
      "source": [
        "## Auto-diff : Calcul automatique du gradient d'une fonction\n",
        "Torch et Tensorflow proposent un mécanisme d'auto-differentiation qui permet de calculer le gradient d'une fonction représentée par un DAG (Direct Acyclique Graph) de manière automatique en utilisant la règle de composition (The Chain Rule).\n",
        "\n",
        "D'abord commençons par montrer comment on peut construire un DAG."
      ]
    },
    {
      "cell_type": "code",
      "metadata": {
        "id": "haUOhd_1BQn1",
        "colab": {
          "base_uri": "https://localhost:8080/"
        },
        "outputId": "511b0767-11f9-418a-f230-bb5e90265780"
      },
      "source": [
        "import torch\n",
        "t = torch.tensor(10, dtype=torch.float , requires_grad=True)\n",
        "t.shape"
      ],
      "execution_count": 3,
      "outputs": [
        {
          "output_type": "execute_result",
          "data": {
            "text/plain": [
              "torch.Size([])"
            ]
          },
          "metadata": {
            "tags": []
          },
          "execution_count": 3
        }
      ]
    },
    {
      "cell_type": "code",
      "metadata": {
        "colab": {
          "base_uri": "https://localhost:8080/"
        },
        "id": "a3Z8jOwa34xf",
        "outputId": "8dbdfc5a-4368-4e33-f014-6d6e42dd61eb"
      },
      "source": [
        "import torch\n",
        "\n",
        "x_0 = -700.0\n",
        "\n",
        "\n",
        "# Pour commencer définissons des tenseurs dans lesquels nous allons introduire nos données.\n",
        "x = torch.tensor(x_0)\n",
        "\n",
        "#Ensuite la fonction f définie précédemment doit être donnée par la feuille de l'arbre donc : \n",
        "y_1 = x - 5\n",
        "y_2 = torch.pow(y_1,2)\n",
        "f_t = y_2 + 3\n",
        "print(\"Contenu du tensor : \" , f_t)\n",
        "print(\"Retour de la fonction pour le même x_0 \",f(x_0))\n"
      ],
      "execution_count": 4,
      "outputs": [
        {
          "output_type": "stream",
          "text": [
            "Contenu du tensor :  tensor(497028.)\n",
            "Retour de la fonction pour le même x_0  497028.0\n"
          ],
          "name": "stdout"
        }
      ]
    },
    {
      "cell_type": "markdown",
      "metadata": {
        "id": "DAopJL6jODYJ"
      },
      "source": [
        "Ensuite on va utiliser la librairie d'auto-differentiation pour calculer la dérivée de f_t en x_0 automatiquement.\n",
        "Pour ce faire un repéte le même processus en ajoutant un paramètre qui va spécifier a torch qu'il faut prévoire le calcul du gradient."
      ]
    },
    {
      "cell_type": "code",
      "metadata": {
        "colab": {
          "base_uri": "https://localhost:8080/"
        },
        "id": "FEm3bY2nMqjD",
        "outputId": "b9eb70bd-76e9-4396-c270-284e149e66c2"
      },
      "source": [
        "x = torch.tensor(x_0,requires_grad=True)\n",
        "y_1 = x - 1\n",
        "y_2 = torch.pow(y_1,2)\n",
        "f_t = y_2 + 3\n",
        "print(\"Contenu du tensor : \" , f_t)"
      ],
      "execution_count": 5,
      "outputs": [
        {
          "output_type": "stream",
          "text": [
            "Contenu du tensor :  tensor(491404., grad_fn=<AddBackward0>)\n"
          ],
          "name": "stdout"
        }
      ]
    },
    {
      "cell_type": "code",
      "metadata": {
        "colab": {
          "base_uri": "https://localhost:8080/"
        },
        "id": "CYXIlEYnQBRE",
        "outputId": "31eb1e4d-4d5e-4227-e614-11620b0afbe5"
      },
      "source": [
        "!pip install torchviz"
      ],
      "execution_count": 6,
      "outputs": [
        {
          "output_type": "stream",
          "text": [
            "Collecting torchviz\n",
            "\u001b[?25l  Downloading https://files.pythonhosted.org/packages/8f/8e/a9630c7786b846d08b47714dd363a051f5e37b4ea0e534460d8cdfc1644b/torchviz-0.0.1.tar.gz (41kB)\n",
            "\r\u001b[K     |████████                        | 10kB 17.7MB/s eta 0:00:01\r\u001b[K     |████████████████                | 20kB 14.3MB/s eta 0:00:01\r\u001b[K     |███████████████████████▉        | 30kB 9.9MB/s eta 0:00:01\r\u001b[K     |███████████████████████████████▉| 40kB 9.1MB/s eta 0:00:01\r\u001b[K     |████████████████████████████████| 51kB 4.6MB/s \n",
            "\u001b[?25hRequirement already satisfied: torch in /usr/local/lib/python3.6/dist-packages (from torchviz) (1.7.0+cu101)\n",
            "Requirement already satisfied: graphviz in /usr/local/lib/python3.6/dist-packages (from torchviz) (0.10.1)\n",
            "Requirement already satisfied: future in /usr/local/lib/python3.6/dist-packages (from torch->torchviz) (0.16.0)\n",
            "Requirement already satisfied: numpy in /usr/local/lib/python3.6/dist-packages (from torch->torchviz) (1.19.4)\n",
            "Requirement already satisfied: dataclasses in /usr/local/lib/python3.6/dist-packages (from torch->torchviz) (0.8)\n",
            "Requirement already satisfied: typing-extensions in /usr/local/lib/python3.6/dist-packages (from torch->torchviz) (3.7.4.3)\n",
            "Building wheels for collected packages: torchviz\n",
            "  Building wheel for torchviz (setup.py) ... \u001b[?25l\u001b[?25hdone\n",
            "  Created wheel for torchviz: filename=torchviz-0.0.1-cp36-none-any.whl size=3522 sha256=f5e1e751f31e6e29a4d7e1832b6aaf6849d518308ccb33c6cd98c750bec45608\n",
            "  Stored in directory: /root/.cache/pip/wheels/2a/c2/c5/b8b4d0f7992c735f6db5bfa3c5f354cf36502037ca2b585667\n",
            "Successfully built torchviz\n",
            "Installing collected packages: torchviz\n",
            "Successfully installed torchviz-0.0.1\n"
          ],
          "name": "stdout"
        }
      ]
    },
    {
      "cell_type": "code",
      "metadata": {
        "colab": {
          "base_uri": "https://localhost:8080/",
          "height": 306
        },
        "id": "o5UrppX4Nh3d",
        "outputId": "7aba2ffb-7916-4843-d407-80cf26234b85"
      },
      "source": [
        "from torchviz import make_dot\n",
        "make_dot(f_t)"
      ],
      "execution_count": 7,
      "outputs": [
        {
          "output_type": "execute_result",
          "data": {
            "text/plain": [
              "<graphviz.dot.Digraph at 0x7f37dc565b38>"
            ],
            "image/svg+xml": "<?xml version=\"1.0\" encoding=\"UTF-8\" standalone=\"no\"?>\n<!DOCTYPE svg PUBLIC \"-//W3C//DTD SVG 1.1//EN\"\n \"http://www.w3.org/Graphics/SVG/1.1/DTD/svg11.dtd\">\n<!-- Generated by graphviz version 2.40.1 (20161225.0304)\n -->\n<!-- Title: %3 Pages: 1 -->\n<svg width=\"101pt\" height=\"214pt\"\n viewBox=\"0.00 0.00 101.00 214.00\" xmlns=\"http://www.w3.org/2000/svg\" xmlns:xlink=\"http://www.w3.org/1999/xlink\">\n<g id=\"graph0\" class=\"graph\" transform=\"scale(1 1) rotate(0) translate(4 210)\">\n<title>%3</title>\n<polygon fill=\"#ffffff\" stroke=\"transparent\" points=\"-4,4 -4,-210 97,-210 97,4 -4,4\"/>\n<!-- 139877896575912 -->\n<g id=\"node1\" class=\"node\">\n<title>139877896575912</title>\n<polygon fill=\"#caff70\" stroke=\"#000000\" points=\"92.5,-21 .5,-21 .5,0 92.5,0 92.5,-21\"/>\n<text text-anchor=\"middle\" x=\"46.5\" y=\"-7.4\" font-family=\"Times,serif\" font-size=\"12.00\" fill=\"#000000\">AddBackward0</text>\n</g>\n<!-- 139877896575744 -->\n<g id=\"node2\" class=\"node\">\n<title>139877896575744</title>\n<polygon fill=\"#d3d3d3\" stroke=\"#000000\" points=\"93,-78 0,-78 0,-57 93,-57 93,-78\"/>\n<text text-anchor=\"middle\" x=\"46.5\" y=\"-64.4\" font-family=\"Times,serif\" font-size=\"12.00\" fill=\"#000000\">PowBackward0</text>\n</g>\n<!-- 139877896575744&#45;&gt;139877896575912 -->\n<g id=\"edge1\" class=\"edge\">\n<title>139877896575744&#45;&gt;139877896575912</title>\n<path fill=\"none\" stroke=\"#000000\" d=\"M46.5,-56.7787C46.5,-49.6134 46.5,-39.9517 46.5,-31.3097\"/>\n<polygon fill=\"#000000\" stroke=\"#000000\" points=\"50.0001,-31.1732 46.5,-21.1732 43.0001,-31.1732 50.0001,-31.1732\"/>\n</g>\n<!-- 139877896575408 -->\n<g id=\"node3\" class=\"node\">\n<title>139877896575408</title>\n<polygon fill=\"#d3d3d3\" stroke=\"#000000\" points=\"91.5,-135 1.5,-135 1.5,-114 91.5,-114 91.5,-135\"/>\n<text text-anchor=\"middle\" x=\"46.5\" y=\"-121.4\" font-family=\"Times,serif\" font-size=\"12.00\" fill=\"#000000\">SubBackward0</text>\n</g>\n<!-- 139877896575408&#45;&gt;139877896575744 -->\n<g id=\"edge2\" class=\"edge\">\n<title>139877896575408&#45;&gt;139877896575744</title>\n<path fill=\"none\" stroke=\"#000000\" d=\"M46.5,-113.7787C46.5,-106.6134 46.5,-96.9517 46.5,-88.3097\"/>\n<polygon fill=\"#000000\" stroke=\"#000000\" points=\"50.0001,-88.1732 46.5,-78.1732 43.0001,-88.1732 50.0001,-88.1732\"/>\n</g>\n<!-- 139878398148112 -->\n<g id=\"node4\" class=\"node\">\n<title>139878398148112</title>\n<polygon fill=\"#add8e6\" stroke=\"#000000\" points=\"73.5,-206 19.5,-206 19.5,-171 73.5,-171 73.5,-206\"/>\n<text text-anchor=\"middle\" x=\"46.5\" y=\"-178.4\" font-family=\"Times,serif\" font-size=\"12.00\" fill=\"#000000\"> ()</text>\n</g>\n<!-- 139878398148112&#45;&gt;139877896575408 -->\n<g id=\"edge3\" class=\"edge\">\n<title>139878398148112&#45;&gt;139877896575408</title>\n<path fill=\"none\" stroke=\"#000000\" d=\"M46.5,-170.6724C46.5,-162.8405 46.5,-153.5893 46.5,-145.4323\"/>\n<polygon fill=\"#000000\" stroke=\"#000000\" points=\"50.0001,-145.2234 46.5,-135.2234 43.0001,-145.2235 50.0001,-145.2234\"/>\n</g>\n</g>\n</svg>\n"
          },
          "metadata": {
            "tags": []
          },
          "execution_count": 7
        }
      ]
    },
    {
      "cell_type": "code",
      "metadata": {
        "colab": {
          "base_uri": "https://localhost:8080/"
        },
        "id": "SmaypJMOPjPy",
        "outputId": "e259e7f7-f9ed-4b47-d6ab-0886676e7dc2"
      },
      "source": [
        "from torch.autograd import Variable\n",
        "\n",
        "x = torch.tensor(8).float()\n",
        "x_v = Variable(x,requires_grad=True)\n",
        "y_1 = x_v - 5\n",
        "y_2 = torch.pow(y_1,2)\n",
        "f_t = y_2 + 3\n",
        "print(\"x_v = \",x_v)\n",
        "print(\"y_1 = \",y_1)\n",
        "print(\"y_2 = \",y_2)\n",
        "print(\"f_t = \",f_t)"
      ],
      "execution_count": 12,
      "outputs": [
        {
          "output_type": "stream",
          "text": [
            "x_v =  tensor(8., requires_grad=True)\n",
            "y_1 =  tensor(3., grad_fn=<SubBackward0>)\n",
            "y_2 =  tensor(9., grad_fn=<PowBackward0>)\n",
            "f_t =  tensor(12., grad_fn=<AddBackward0>)\n"
          ],
          "name": "stdout"
        }
      ]
    },
    {
      "cell_type": "code",
      "metadata": {
        "colab": {
          "base_uri": "https://localhost:8080/"
        },
        "id": "Feeo3U0XTwZK",
        "outputId": "f74f7b25-bbbf-47fb-dbac-e1e783660dff"
      },
      "source": [
        "f_t.backward()\n",
        "\n",
        "print(\"x_v = \",x_v.grad)\n",
        "print(\"y_1 = \",y_1.grad)\n",
        "print(\"y_2 = \",y_2.grad)\n",
        "print(\"f_t = \",f_t.grad)"
      ],
      "execution_count": 9,
      "outputs": [
        {
          "output_type": "stream",
          "text": [
            "x_v =  tensor(-6.)\n",
            "y_1 =  None\n",
            "y_2 =  None\n",
            "f_t =  None\n"
          ],
          "name": "stdout"
        },
        {
          "output_type": "stream",
          "text": [
            "/usr/local/lib/python3.6/dist-packages/ipykernel_launcher.py:4: UserWarning: The .grad attribute of a Tensor that is not a leaf Tensor is being accessed. Its .grad attribute won't be populated during autograd.backward(). If you indeed want the gradient for a non-leaf Tensor, use .retain_grad() on the non-leaf Tensor. If you access the non-leaf Tensor by mistake, make sure you access the leaf Tensor instead. See github.com/pytorch/pytorch/pull/30531 for more informations.\n",
            "  after removing the cwd from sys.path.\n",
            "/usr/local/lib/python3.6/dist-packages/ipykernel_launcher.py:5: UserWarning: The .grad attribute of a Tensor that is not a leaf Tensor is being accessed. Its .grad attribute won't be populated during autograd.backward(). If you indeed want the gradient for a non-leaf Tensor, use .retain_grad() on the non-leaf Tensor. If you access the non-leaf Tensor by mistake, make sure you access the leaf Tensor instead. See github.com/pytorch/pytorch/pull/30531 for more informations.\n",
            "  \"\"\"\n",
            "/usr/local/lib/python3.6/dist-packages/ipykernel_launcher.py:6: UserWarning: The .grad attribute of a Tensor that is not a leaf Tensor is being accessed. Its .grad attribute won't be populated during autograd.backward(). If you indeed want the gradient for a non-leaf Tensor, use .retain_grad() on the non-leaf Tensor. If you access the non-leaf Tensor by mistake, make sure you access the leaf Tensor instead. See github.com/pytorch/pytorch/pull/30531 for more informations.\n",
            "  \n"
          ],
          "name": "stderr"
        }
      ]
    },
    {
      "cell_type": "markdown",
      "metadata": {
        "id": "b0XF5OujGGHS"
      },
      "source": [
        "Ici on va essayer de dérouler manuellement les différentes étapes de calcul du gradient de la loss en utilisant la chain rule.\n",
        "\n",
        "Pour rappel la chain rule fonctionne comme suit : \n",
        "- Je veux calculer la dérviée d'une fonction w.r.t x disons que je veuille calculer $\\frac{\\partial f}{\\partial x}$ et f s'écrit comme $f(x) = g(y) $ avec y=h(x) c'est a dire avec une fonction qui ne s'écrit pas en x mais en une autre variable y qu'on obtient par une fonction sur x.\n",
        "\n",
        "On peut calculer le gradient progressivement grâce a la relation : \n",
        "$\\frac{\\partial f}{\\partial x} = \\frac{\\partial f}{\\partial y} * \\frac{\\partial y}{\\partial x}$"
      ]
    },
    {
      "cell_type": "code",
      "metadata": {
        "colab": {
          "base_uri": "https://localhost:8080/"
        },
        "id": "Aq8QZvWXWGkt",
        "outputId": "227a6b14-1ebc-45d2-cab7-671e3553df4b"
      },
      "source": [
        "x = torch.tensor(8.)\n",
        "x_v = Variable(x,requires_grad=True)\n",
        "\n",
        "y_1 = x_v - 5\n",
        "y_2 = torch.pow(y_1,2)\n",
        "f_t = y_2 + 3\n",
        "\n",
        "y_1.retain_grad()\n",
        "y_2.retain_grad()\n",
        "f_t.retain_grad()\n",
        "\n",
        "f_t.backward()\n",
        "print(\"x_v = \",x_v.grad) # x_v = 8 #6 \n",
        "print(\"y_1 = \",y_1.grad) # y_1 = x_v - 5 = 3 --> dy_1/dx_v = 1 en remplaçant 8 ça donne 1 et en multipliant par 6 ça remonte 6\n",
        "print(\"y_2 = \",y_2.grad) # y_2 = y_1**2 = 9 --> dy_2/d_y1 = 2y_1 en remplaçant en 3 on trouve 6 et on multuplie par 1 donc ça remonte 6\n",
        "print(\"f_t = \",f_t.grad) # f_t = y_2 + 3 = 12 --> df_t/dy_2 = 1 en remplaçant en 9 on trouve 1"
      ],
      "execution_count": 11,
      "outputs": [
        {
          "output_type": "stream",
          "text": [
            "x_v =  tensor(6.)\n",
            "y_1 =  tensor(6.)\n",
            "y_2 =  tensor(1.)\n",
            "f_t =  tensor(1.)\n"
          ],
          "name": "stdout"
        }
      ]
    },
    {
      "cell_type": "code",
      "metadata": {
        "colab": {
          "base_uri": "https://localhost:8080/"
        },
        "id": "2saZx4xTWjb5",
        "outputId": "9dc909ac-e9df-40d5-e1c3-495127dd668a"
      },
      "source": [
        "print(\"Vraie dérivée = \",f_p(8))"
      ],
      "execution_count": 14,
      "outputs": [
        {
          "output_type": "stream",
          "text": [
            "Vraie dérivée =  6\n"
          ],
          "name": "stdout"
        }
      ]
    },
    {
      "cell_type": "markdown",
      "metadata": {
        "id": "fmW_itkdX3ID"
      },
      "source": [
        "A présent montrons comment on peut utiliser le gradient de la même manière \n",
        "que précédemment afin d'effectuer une descente de gradient."
      ]
    },
    {
      "cell_type": "code",
      "metadata": {
        "colab": {
          "base_uri": "https://localhost:8080/"
        },
        "id": "XxTN5KNsWxLi",
        "outputId": "2522034d-7136-429d-d9fe-bfa7ad0c4f91"
      },
      "source": [
        "x = torch.tensor(x_0)\n",
        "x_v = Variable(x,requires_grad=True)\n",
        "\n",
        "for i in range(0,1000):\n",
        "  y_1 = x_v - 5\n",
        "  y_2 = torch.pow(y_1,2)\n",
        "  f_t = y_2 + 3\n",
        "  f_t.backward()\n",
        "  #x_v  = x_v - 0.01 * x_v.grad\n",
        "  #x_v  -= 0.01 * x_v.grad\n",
        "  \n",
        "  with torch.no_grad():\n",
        "    x_v  -= 0.01 * x_v.grad\n",
        "  \n",
        "  x_v.grad.zero_()\n",
        "\n",
        "print(\"x = \",x)"
      ],
      "execution_count": null,
      "outputs": [
        {
          "output_type": "stream",
          "text": [
            "x =  tensor(5.0000)\n"
          ],
          "name": "stdout"
        }
      ]
    },
    {
      "cell_type": "markdown",
      "metadata": {
        "id": "6S4IoxgnYFGp"
      },
      "source": [
        "Pas trés pratique de devoir fixer un nombre d'itérations avant convergence..\n",
        "\n",
        "Nous préférerons par conséquence partir sur une formulation tel que celle ci qui fixe comme condition de sortie que le gradient soit suffisament proche de 0 (ce qui indique qu'on est proche de l'optimum)"
      ]
    },
    {
      "cell_type": "code",
      "metadata": {
        "colab": {
          "base_uri": "https://localhost:8080/"
        },
        "id": "RWUG1god41bM",
        "outputId": "122aa534-f447-473e-88f0-b0d6f2ce256c"
      },
      "source": [
        "x = torch.tensor(x_0)\n",
        "x_v = Variable(x,requires_grad=True)\n",
        "\n",
        "it = 0\n",
        "while (True):\n",
        "  it += 1\n",
        "  y_1 = x_v - 5\n",
        "  y_2 = torch.pow(y_1,2)\n",
        "  f_t = y_2 + 3\n",
        "  f_t.backward()\n",
        "  with torch.no_grad():\n",
        "    x_v  -= 0.01 * x_v.grad #A l'occasion 0.1 : Learning Rate \n",
        "    if (np.abs(x_v.grad) < 1e-4):\n",
        "      break\n",
        "  x_v.grad.zero_()\n",
        "\n",
        "print(\"x_v = \",x_v)\n",
        "print(f\"En {it} itérations ! \")"
      ],
      "execution_count": null,
      "outputs": [
        {
          "output_type": "stream",
          "text": [
            "x_v =  tensor(5.0000, requires_grad=True)\n",
            "En 817 itérations ! \n"
          ],
          "name": "stdout"
        }
      ]
    },
    {
      "cell_type": "markdown",
      "metadata": {
        "id": "6BK4-7m_9WjH"
      },
      "source": [
        "## Quelques conseils de conception : \n",
        "Dans cette partie je vais essayer de détailler des conventions qui sont fréquemment utilisés quand on veut conçevoir des DAG en vu de se servir du module d'auto-differentiation.\n",
        "Nous allons utiliser chaque convention séquentiellement sur l'exemple précédent pour montrer comment nous pouvons améliorer la lisiblité du code et sa modularité."
      ]
    },
    {
      "cell_type": "markdown",
      "metadata": {
        "id": "idQabkZA9uoH"
      },
      "source": [
        "### Séparer dans deux fonctions le calcul de la fonction a optimiser et le processus d'optimisation\n",
        "\n",
        "Pour faciliter la manipulation des DAG il est pratique de les considérer comme des objets qui sont construits par l'intermédiaire d'une fonction.\n",
        "\n",
        "Le processus d'optimisation également peut être modélisé par une fonction ce qui a pour aventage de permettre de le paramètrer plus facilement."
      ]
    },
    {
      "cell_type": "code",
      "metadata": {
        "colab": {
          "base_uri": "https://localhost:8080/"
        },
        "id": "Jh953h6_9ruz",
        "outputId": "caf078bd-3a84-41dc-e640-874765f7e35d"
      },
      "source": [
        "\"\"\"\n",
        "Cette fonction construit un DAG et va \"brancher\" le x que je lui donne en paramètre\n",
        "\"\"\"\n",
        "def get_f(x):\n",
        "  y_1 = x - 5\n",
        "  y_2 = torch.pow(y_1,2)\n",
        "  f_t = y_2 + 3\n",
        "  return f_t\n",
        "\n",
        "\"\"\"\n",
        "Et celle la déclenche l'optimisation a partir du x_0 que je lui donne en paramètre et renvoie la valeur optimale de x.\n",
        "Je peux donner la précision et le teau d'apprentissage en paramètres en leur donnant une valeur par défaut.\n",
        "Je peux également récupérer le nombre d'itérations avant convergence.\n",
        "\"\"\"\n",
        "def optimize(x_0, precision = 1e-4, alpha = 0.01):\n",
        "  x_0 = float(x_0) #essayez de commenter cette ligne.\n",
        "  x = torch.tensor(x_0)\n",
        "  x_v = Variable(x,requires_grad=True)\n",
        "  it = 0\n",
        "  while (True):\n",
        "    it += 1\n",
        "    f_t = get_f(x_v)\n",
        "    f_t.backward()\n",
        "    with torch.no_grad():\n",
        "      x_v  -= alpha * x_v.grad\n",
        "      if (np.abs(x_v.grad) < precision):\n",
        "        break\n",
        "    x_v.grad.zero_()\n",
        "  return x_v, it\n",
        "\n",
        "\n",
        "x_v, it = optimize(10)\n",
        "print(\"x_v = \",x_v)\n",
        "print(f\"En seulement {it} itérations ! \")"
      ],
      "execution_count": null,
      "outputs": [
        {
          "output_type": "stream",
          "text": [
            "x_v =  tensor(5.0000, requires_grad=True)\n",
            "En seulement 572 itérations ! \n"
          ],
          "name": "stdout"
        }
      ]
    },
    {
      "cell_type": "markdown",
      "metadata": {
        "id": "aTn3afSKFTud"
      },
      "source": [
        "### Servez vous du fait que les fonctions soient des objets\n",
        "En python les fonctions sont également des objets qui peuvent être passés en paramètres.\n",
        "\n",
        "Petit exemple :"
      ]
    },
    {
      "cell_type": "code",
      "metadata": {
        "colab": {
          "base_uri": "https://localhost:8080/"
        },
        "id": "mJPiL0g5HmbP",
        "outputId": "5924c710-5d72-4e85-e33e-9145e84e8697"
      },
      "source": [
        "def composition(f, g, x):\n",
        "  print(\"Composé : \",f(g(x)))\n",
        "  return f(g(x))\n",
        "\n",
        "\n",
        "def f(x):\n",
        "  return x + 1\n",
        "\n",
        "\n",
        "def g(x):\n",
        "  return x**2\n",
        "\n",
        "composition(f,f,2)"
      ],
      "execution_count": null,
      "outputs": [
        {
          "output_type": "stream",
          "text": [
            "Composé :  4\n"
          ],
          "name": "stdout"
        },
        {
          "output_type": "execute_result",
          "data": {
            "text/plain": [
              "4"
            ]
          },
          "metadata": {
            "tags": []
          },
          "execution_count": 65
        }
      ]
    },
    {
      "cell_type": "code",
      "metadata": {
        "colab": {
          "base_uri": "https://localhost:8080/"
        },
        "id": "YJ0k36nHDuOL",
        "outputId": "380e6dcf-125f-45c2-d63c-e475ae01617d"
      },
      "source": [
        "def f1(x):\n",
        "  y_1 = x - 1\n",
        "  y_2 = torch.pow(y_1,2)\n",
        "  f_t = y_2 + 3\n",
        "  return f_t\n",
        "\n",
        "def f2(x):\n",
        "  y_1 = x - 5\n",
        "  y_2 = torch.pow(y_1,4)\n",
        "  f_t = y_2 + 3\n",
        "  return f_t\n",
        "\n",
        "#J'ai ajouté le maximum d'itérations je vous laisse deviner pourquoi (non je l'explique dans la partie sur comment débugger ) \n",
        "def optimize(x_0, func, precision = 1e-4, alpha = 0.01, max_it = 1000):\n",
        "  x_0 = float(x_0)\n",
        "  x = torch.tensor(x_0)\n",
        "  x_v = Variable(x,requires_grad=True)\n",
        "  it = 0\n",
        "  while (True):\n",
        "    it += 1\n",
        "    f_t = func(x_v)\n",
        "    f_t.backward()\n",
        "    with torch.no_grad():\n",
        "      x_v  -= alpha * x_v.grad\n",
        "      if (np.abs(x_v.grad) < precision):\n",
        "        break\n",
        "    x_v.grad.zero_()\n",
        "    if(it == max_it):\n",
        "      break\n",
        "  return x_v, it\n",
        "\n",
        "#A présent on peut donner en paramètre la fonction a optimiser.\n",
        "\n",
        "x_v, it = optimize(20.0,f1)\n",
        "print(\"optimum de f1 = \",x_v)\n",
        "print(f\"En {it} itérations ! \")\n",
        "\n",
        "x_v, it = optimize(20.0,f2)\n",
        "print(\"optimum de f2 = \",x_v)\n",
        "print(f\"En {it} itérations ! \")"
      ],
      "execution_count": null,
      "outputs": [
        {
          "output_type": "stream",
          "text": [
            "optimum de f1 =  tensor(1.0000, requires_grad=True)\n",
            "En 637 itérations ! \n",
            "optimum de f2 =  tensor(nan, requires_grad=True)\n",
            "En 1000 itérations ! \n"
          ],
          "name": "stdout"
        }
      ]
    },
    {
      "cell_type": "markdown",
      "metadata": {
        "id": "uuK1k-VdSCxy"
      },
      "source": [
        "### Personne ne le sait mais on peut typer en Python\n",
        "A vrai dire le typage peut éviter a vos camarades de mal utiliser vos fonctions en plus de faciliter la relecture du code donc n'hésitez pas a vous en servir.\n",
        "\n"
      ]
    },
    {
      "cell_type": "code",
      "metadata": {
        "id": "CahtJZFpSDkc"
      },
      "source": [
        "#Trés utile pour préciser qu'on attend un certain genre de fonctions en paramètres\n",
        "#Donc pour preciser par exemple qu'un argument est une fonction qui prend en paramètres deux entiers et retourne un float on écrira : \n",
        "# func : Callable[[int, int], float]\n",
        "from typing import Callable\n",
        "\n",
        "def get_f(x : torch.tensor ) -> torch.tensor:\n",
        "  y_1 = x - 1\n",
        "  y_2 = torch.pow(y_1,2)\n",
        "  f_t = y_2 + 3\n",
        "  return f_t\n",
        "\n",
        "#Pas la peine de le mettre sur tout les paramètres juste sur ceux qui sont délicats\n",
        "def optimize(x_0 : torch.tensor , func:Callable[[torch.tensor], torch.tensor] , precision = 1e-4, alpha = 0.01, max_it = 1000) -> (torch.tensor, int):\n",
        "  x_0 = float(x_0)\n",
        "  x = torch.tensor(x_0)\n",
        "  x_v = Variable(x,requires_grad=True)\n",
        "  it = 0\n",
        "  while (True):\n",
        "    it += 1\n",
        "    f_t = func(x_v)\n",
        "    f_t.backward()\n",
        "    with torch.no_grad():\n",
        "      x_v  -= alpha * x_v.grad\n",
        "      if (np.abs(x_v.grad) < precision):\n",
        "        break\n",
        "    x_v.grad.zero_()\n",
        "    if(it == max_it):\n",
        "      break\n",
        "  return x_v, it\n",
        "\n"
      ],
      "execution_count": null,
      "outputs": []
    },
    {
      "cell_type": "markdown",
      "metadata": {
        "id": "GYhxt_FPVLg1"
      },
      "source": [
        "### La documentation c'est vital\n",
        "C'est bien beau d'avoir paramètré et typé nos paramètres mais maintenant il faut qu'on puisse comprendre ce qui se passe quand on les change sans avoir a éplucher le code.\n",
        "\n",
        "De plus, quand on fait du dévelopemment on passe infiniment plus de temps a lire du code qu'a en écrire et particulièrement si on travaille en équipe.\n",
        "Ainsi faciliter la relecture de son code rapporte plus de temps a une équipe que d'écrire du code rapidement."
      ]
    },
    {
      "cell_type": "code",
      "metadata": {
        "id": "K5bfp0cqVKhq"
      },
      "source": [
        "#Dans cette partie je vais écrire ce qui s'appelle une \"docstring\" les docstring suivent en général toujours le même format qui est en l'occurrence le suivant : \n",
        "\"\"\"\n",
        "[Un petit résumé de ce que fait la fonction dans les grandes lignes (pas la peine de mettre \"cette fonction additionne si la fonction s'appelle add)]\n",
        "Params (même conseil les paramètres évidents il n'y a pas besoin de les expliquer): \n",
        "  - param1 : son explication\n",
        "  - param2 : son explication \n",
        "  -... etc\n",
        "Returns : \n",
        "  - premier retour : son explication\n",
        "  - deuxième retour : son explication \n",
        "  - etc...\n",
        "[Eventuellement des notes et des remarques]\n",
        "N'oubliez pas qu'une fonction qui effectue des modifications \"in place\" au lieu de retourner une copie modifiée est indiquée par le fait qu'elle se termine par un \"_\" (en général)\n",
        "\"\"\"\n",
        "\n",
        "\n",
        "def optimize(x_0 : torch.tensor , func:Callable[[torch.tensor], torch.tensor] , precision = 1e-4, alpha = 0.01, max_it = 1000) -> (torch.tensor, int):\n",
        "  \"\"\"\n",
        "  Compute a gradient descent.\n",
        "  Params: \n",
        "    - x_0: Initial point\n",
        "    - func: Function to optimize (DAG).\n",
        "    - alpha: Learning rate\n",
        "    - max_it: Maximum of iterations\n",
        "  Returns:\n",
        "    - x_v: Optimum\n",
        "    - it: Number of iterations before convergence.\n",
        "  \"\"\"\n",
        "  x_0 = float(x_0)\n",
        "  x = torch.tensor(x_0)\n",
        "  x_v = Variable(x,requires_grad=True)\n",
        "  it = 0\n",
        "  while (True):\n",
        "    it += 1\n",
        "    f_t = func(x_v)\n",
        "    f_t.backward()\n",
        "    with torch.no_grad():\n",
        "      x_v  -= alpha * x_v.grad\n",
        "      if (np.abs(x_v.grad) < precision):\n",
        "        break\n",
        "    x_v.grad.zero_()\n",
        "    if(it == max_it):\n",
        "      break\n",
        "  return x_v, it"
      ],
      "execution_count": null,
      "outputs": []
    },
    {
      "cell_type": "code",
      "metadata": {
        "colab": {
          "base_uri": "https://localhost:8080/"
        },
        "id": "pJv6egHugsfA",
        "outputId": "bc524cf2-6c77-43cb-b71e-6da18ddafb91"
      },
      "source": [
        "help(optimize)"
      ],
      "execution_count": null,
      "outputs": [
        {
          "output_type": "stream",
          "text": [
            "Help on function optimize in module __main__:\n",
            "\n",
            "optimize(x_0:<built-in method tensor of type object at 0x7f7cc4073560>, func:Callable[[<built-in method tensor of type object at 0x7f7cc4073560>], <built-in method tensor of type object at 0x7f7cc4073560>], precision=0.0001, alpha=0.01, max_it=1000) -> (<built-in method tensor of type object at 0x7f7cc4073560>, <class 'int'>)\n",
            "    Compute a gradient descent.\n",
            "    Params: \n",
            "      - x_0: Initial point\n",
            "      - func: Function to optimize (DAG).\n",
            "      - alpha: Learning rate\n",
            "      - max_it: Maximum of iterations\n",
            "    Returns:\n",
            "      - x_v: Optimum\n",
            "      - it: Number of iterations before convergence.\n",
            "\n"
          ],
          "name": "stdout"
        }
      ]
    },
    {
      "cell_type": "markdown",
      "metadata": {
        "id": "lQArFqZCY7xe"
      },
      "source": [
        "### Pour ceux qui développent un **nouvel** outil : prévoir des utilitaires facilitant le suivi de l'évolution des paramètres\n",
        "Quand on développe une nouvel approche ce qui n'est généralement pas le cas (sauf si vous avez un PFE) il faut souvent fournir des courbes montrant l'efficacité de notre approche et donc prévoire certaines fonctions utiles pour ça tel que l'enregistrement de l'évolution du certains paramètres liés a au déroulement de l'algorithme.\n",
        "\n",
        "Ici typiquement il serais intéressant de voire l'allure de la courbe correspondant a l'évolution du gradient et de l'objectif au fil des itérations afin de l'inclure dans un rapport."
      ]
    },
    {
      "cell_type": "code",
      "metadata": {
        "colab": {
          "base_uri": "https://localhost:8080/"
        },
        "id": "ohlC6TTAaOnM",
        "outputId": "f63d9012-5ff0-49d8-cc05-5a8ea1dee8e6"
      },
      "source": [
        "def optimize(x_0 : torch.tensor , func:Callable[[torch.tensor], torch.tensor] , precision = 1e-4, alpha = 0.01, max_it = 1000) -> (torch.tensor, int):\n",
        "  \"\"\"\n",
        "  Compute a gradient descent.\n",
        "  Params: \n",
        "    - x_0: Initial point\n",
        "    - func: Function to optimize.\n",
        "    - alpha: Learning rate\n",
        "    - max_it: Maximum of iterations\n",
        "  Returns:\n",
        "    - x_v: Optimum\n",
        "    - it: Number of iterations before convergence.\n",
        "  \"\"\"\n",
        "  #Par convention on appelle ça des \"logs\"\n",
        "  \n",
        "  logs = {\n",
        "      \"grad\":[],\n",
        "      \"obj\":[]\n",
        "  }\n",
        "\n",
        "  x_0 = float(x_0)\n",
        "  x = torch.tensor(x_0)\n",
        "  x_v = Variable(x,requires_grad=True)\n",
        "  it = 0\n",
        "  while (True):\n",
        "    it += 1\n",
        "    f_t = func(x_v)\n",
        "    f_t.backward()\n",
        "    with torch.no_grad():\n",
        "      x_v  -= alpha * x_v.grad\n",
        "      logs[\"grad\"].append(float(x_v.grad.detach().numpy()))\n",
        "      logs[\"obj\"].append(float(f_t.detach().numpy()))\n",
        "      if (np.abs(x_v.grad) < precision):\n",
        "        break\n",
        "    x_v.grad.zero_()\n",
        "    if(it == max_it):\n",
        "      break\n",
        "  return x_v, it, logs\n",
        "\n",
        "\n",
        "\n",
        "x_v, it, logs = optimize(20.0,f1)\n",
        "print(\"optimum de f2 = \",x_v)\n",
        "print(f\"En {it} itérations ! \")"
      ],
      "execution_count": null,
      "outputs": [
        {
          "output_type": "stream",
          "text": [
            "optimum de f2 =  tensor(1.0000, requires_grad=True)\n",
            "En 637 itérations ! \n"
          ],
          "name": "stdout"
        }
      ]
    },
    {
      "cell_type": "markdown",
      "metadata": {
        "id": "yRdZskMLb5-2"
      },
      "source": [
        "Ces logs sont trés pratiques car ils permettent de dessiner des figures "
      ]
    },
    {
      "cell_type": "code",
      "metadata": {
        "colab": {
          "base_uri": "https://localhost:8080/",
          "height": 313
        },
        "id": "AtIqcyMlb3ZT",
        "outputId": "e7e0a12b-f5d2-4f46-deb1-957179a479e3"
      },
      "source": [
        "plt.plot(np.arange(it), logs[\"grad\"])\n",
        "plt.xlabel(\"Itérations\")\n",
        "plt.ylabel(\"Gradient\")\n",
        "plt.title(\"Evolution du gradient en fonction du nombre d'itérations\")"
      ],
      "execution_count": null,
      "outputs": [
        {
          "output_type": "execute_result",
          "data": {
            "text/plain": [
              "Text(0.5, 1.0, \"Evolution du gradient en fonction du nombre d'itérations\")"
            ]
          },
          "metadata": {
            "tags": []
          },
          "execution_count": 71
        },
        {
          "output_type": "display_data",
          "data": {
            "image/png": "[encoded data removed]",
            "text/plain": [
              "<Figure size 432x288 with 1 Axes>"
            ]
          },
          "metadata": {
            "tags": [],
            "needs_background": "light"
          }
        }
      ]
    },
    {
      "cell_type": "code",
      "metadata": {
        "colab": {
          "base_uri": "https://localhost:8080/",
          "height": 313
        },
        "id": "1uqTc1GXcCpG",
        "outputId": "f328255b-2022-421e-927a-e47b2d185435"
      },
      "source": [
        "plt.plot(np.arange(it), logs[\"obj\"])\n",
        "plt.xlabel(\"Itérations\")\n",
        "plt.ylabel(\"Objectif\")\n",
        "plt.title(\"Evolution de l'objectif en fonction du nombre d'itérations\")"
      ],
      "execution_count": null,
      "outputs": [
        {
          "output_type": "execute_result",
          "data": {
            "text/plain": [
              "Text(0.5, 1.0, \"Evolution de l'objectif en fonction du nombre d'itérations\")"
            ]
          },
          "metadata": {
            "tags": []
          },
          "execution_count": 72
        },
        {
          "output_type": "display_data",
          "data": {
            "image/png": "[encoded data removed]",
            "text/plain": [
              "<Figure size 432x288 with 1 Axes>"
            ]
          },
          "metadata": {
            "tags": [],
            "needs_background": "light"
          }
        }
      ]
    },
    {
      "cell_type": "markdown",
      "metadata": {
        "id": "d2ydPE0Qc1bt"
      },
      "source": [
        "### Pensez a regrouper les fonctionnalités en utilisant la programmation orientée objet \n",
        "\n",
        "Souvent Python est apprécié pour son paradigm fonctionnel mais le paradigm orienté objet peut dans plusieurs cas s'avérer utile.\n",
        "\n",
        "Dans l'exemple précédent je ne retourne les historiques que pour pouvoir afficher des figures et rien d'autre, une autre façon de voire le fonctionnement du code serrait d'inclure la fonction d'affichage au coté de la fonction d'optimisation au sein d'un objet et d'utiliser un attribut interne du dit objet pour stocker les différents historiques."
      ]
    },
    {
      "cell_type": "code",
      "metadata": {
        "id": "_gteG1had3X4"
      },
      "source": [
        "class Optimizer():\n",
        "\n",
        "  #C'est comme ça qu'on défini un constructeur.\n",
        "  def __init__(self):\n",
        "    self.logs = {\n",
        "      \"grad\":[],\n",
        "      \"obj\":[]\n",
        "    }\n",
        "    self.it = 0\n",
        "    self.obj = None\n",
        "  \n",
        "  def optimize(self,x_0 : torch.tensor , func:Callable[[torch.tensor], torch.tensor] , precision = 1e-4, alpha = 0.01, max_it = 1000) -> (torch.tensor, int):\n",
        "    \"\"\"\n",
        "    Compute a gradient descent.\n",
        "    Params: \n",
        "      - x_0: Initial point\n",
        "      - func: Function to optimize.\n",
        "      - alpha: Learning rate\n",
        "      - max_it: Maximum of iterations\n",
        "    Returns:\n",
        "      - x_v: Optimum\n",
        "    \"\"\"\n",
        "    #Par convention on appelle ça des \"logs\"\n",
        "    self.obj = func\n",
        "    x_0 = float(x_0)\n",
        "    x = torch.tensor(x_0)\n",
        "    x_v = Variable(x,requires_grad=True)\n",
        "    self.it = 0\n",
        "    while (True):\n",
        "      self.it += 1\n",
        "      f_t = func(x_v)\n",
        "      f_t.backward()\n",
        "      with torch.no_grad():\n",
        "        x_v  -= alpha * x_v.grad\n",
        "        self.logs[\"grad\"].append(float(x_v.grad.detach().numpy()))\n",
        "        self.logs[\"obj\"].append(float(f_t.detach().numpy()))\n",
        "        if (np.abs(x_v.grad) < precision):\n",
        "          break\n",
        "      x_v.grad.zero_()\n",
        "      if(self.it == max_it):\n",
        "        break\n",
        "    return x_v\n",
        "  \n",
        "  def plot_gradient_evol(self):\n",
        "    plt.plot(np.arange(it), logs[\"grad\"])\n",
        "    plt.xlabel(\"Itérations\")\n",
        "    plt.ylabel(\"Gradient\")\n",
        "    plt.title(\"Evolution du gradient en fonction du nombre d'itérations\")\n",
        "    return plt\n",
        "  \n",
        "  def plot_objectif_evol(self):\n",
        "    plt.plot(np.arange(it), logs[\"obj\"])\n",
        "    plt.xlabel(\"Itérations\")\n",
        "    plt.ylabel(\"Objectif\")\n",
        "    plt.title(\"Evolution de l'objectif en fonction du nombre d'itérations\")\n",
        "    return plt\n",
        "  \n",
        "  def plot_obj_func(self):\n",
        "    X = torch.tensor(np.linspace(-40,40, 1000))\n",
        "    y = self.obj(X).detach().numpy()\n",
        "    plt.plot(X,y)\n",
        "    return plt\n"
      ],
      "execution_count": null,
      "outputs": []
    },
    {
      "cell_type": "code",
      "metadata": {
        "colab": {
          "base_uri": "https://localhost:8080/"
        },
        "id": "VSdc4aFWf-0T",
        "outputId": "f5ab02ec-d24d-4a4e-93b5-2694dc48242d"
      },
      "source": [
        "op = Optimizer()\n",
        "x_v = op.optimize(10,f1)\n",
        "print(\"x_v = \",x_v)\n",
        "print(f\"En seulement {op.it} itérations ! \")"
      ],
      "execution_count": null,
      "outputs": [
        {
          "output_type": "stream",
          "text": [
            "x_v =  tensor(1.0000, requires_grad=True)\n",
            "En seulement 600 itérations ! \n"
          ],
          "name": "stdout"
        }
      ]
    },
    {
      "cell_type": "code",
      "metadata": {
        "colab": {
          "base_uri": "https://localhost:8080/",
          "height": 285
        },
        "id": "ZTUriSZphD9W",
        "outputId": "67410837-57b3-48f1-92b4-bd92c727f37f"
      },
      "source": [
        "op.plot_obj_func()"
      ],
      "execution_count": null,
      "outputs": [
        {
          "output_type": "execute_result",
          "data": {
            "text/plain": [
              "<module 'matplotlib.pyplot' from '/usr/local/lib/python3.6/dist-packages/matplotlib/pyplot.py'>"
            ]
          },
          "metadata": {
            "tags": []
          },
          "execution_count": 75
        },
        {
          "output_type": "display_data",
          "data": {
            "image/png": "[encoded data removed]",
            "text/plain": [
              "<Figure size 432x288 with 1 Axes>"
            ]
          },
          "metadata": {
            "tags": [],
            "needs_background": "light"
          }
        }
      ]
    },
    {
      "cell_type": "code",
      "metadata": {
        "colab": {
          "base_uri": "https://localhost:8080/",
          "height": 313
        },
        "id": "DL7CowN7hHZZ",
        "outputId": "e1aa69e7-7959-435b-b68f-6284bfc932a2"
      },
      "source": [
        "op.plot_gradient_evol()"
      ],
      "execution_count": null,
      "outputs": [
        {
          "output_type": "execute_result",
          "data": {
            "text/plain": [
              "<module 'matplotlib.pyplot' from '/usr/local/lib/python3.6/dist-packages/matplotlib/pyplot.py'>"
            ]
          },
          "metadata": {
            "tags": []
          },
          "execution_count": 76
        },
        {
          "output_type": "display_data",
          "data": {
            "image/png": "[encoded data removed]",
            "text/plain": [
              "<Figure size 432x288 with 1 Axes>"
            ]
          },
          "metadata": {
            "tags": [],
            "needs_background": "light"
          }
        }
      ]
    },
    {
      "cell_type": "code",
      "metadata": {
        "colab": {
          "base_uri": "https://localhost:8080/",
          "height": 313
        },
        "id": "FyOBmF99hVRU",
        "outputId": "a5603cb2-e849-49c9-b39a-8052a05fc2bf"
      },
      "source": [
        "op.plot_objectif_evol()"
      ],
      "execution_count": null,
      "outputs": [
        {
          "output_type": "execute_result",
          "data": {
            "text/plain": [
              "<module 'matplotlib.pyplot' from '/usr/local/lib/python3.6/dist-packages/matplotlib/pyplot.py'>"
            ]
          },
          "metadata": {
            "tags": []
          },
          "execution_count": 77
        },
        {
          "output_type": "display_data",
          "data": {
            "image/png": "[encoded data removed]",
            "text/plain": [
              "<Figure size 432x288 with 1 Axes>"
            ]
          },
          "metadata": {
            "tags": [],
            "needs_background": "light"
          }
        }
      ]
    },
    {
      "cell_type": "markdown",
      "metadata": {
        "id": "IpW14uT8hb6c"
      },
      "source": [
        "### N'en faites pas trop !\n",
        "Le concept le plus important a retenir s'appelle KISS : Keep It Simple Stupid.\n",
        "\n",
        "Il ne faut compléxifier le code qu'en cas d'extème nécéssité, par exemple la pertinence de l'utilisation d'une classe dans les cellules précédentes en cas réel est très discutable, de même que de passer une fonction en paramètres.\n",
        "\n",
        "Le plus clair du temps la fonction a optimiser sera unique, et les courbes que vous chercherez a afficher vous les afficherez une seule fois et vous les enregistrerez pour votre rapport mais le fait de pouvoir afficher ce genre de courbes ne doit pas **nécéssairement** faire partie des fonctionnalités accessibles a la personne qui utilise votre code.\n",
        "\n",
        "Donc selon moi, le plus clair du temps vos collegues, supérieurs et enseignants s'attendrons a un produit final qui ressemble a ça : "
      ]
    },
    {
      "cell_type": "code",
      "metadata": {
        "id": "UwS4guyIiTG9"
      },
      "source": [
        "def optimize(x_0 : torch.tensor , func:Callable[[torch.tensor], torch.tensor] , precision = 1e-4, alpha = 0.01, max_it = 1000) -> (torch.tensor, int):\n",
        "  \"\"\"\n",
        "  Compute a gradient descent.\n",
        "  Params: \n",
        "    - x_0: Initial point\n",
        "    - func: Function to optimize.\n",
        "    - alpha: Learning rate\n",
        "    - max_it: Maximum of iterations\n",
        "  Returns:\n",
        "    - x_v: Optimum\n",
        "  \"\"\"\n",
        "  x_0 = float(x_0)\n",
        "  x = torch.tensor(x_0)\n",
        "  x_v = Variable(x,requires_grad=True)\n",
        "  it = 0\n",
        "  while (True):\n",
        "    it += 1\n",
        "    f_t = func(x_v)\n",
        "    f_t.backward()\n",
        "    with torch.no_grad():\n",
        "      x_v  -= alpha * x_v.grad\n",
        "      if (np.abs(x_v.grad) < precision):\n",
        "        break\n",
        "    x_v.grad.zero_()\n",
        "    if(it == max_it):\n",
        "      break\n",
        "  return x_v"
      ],
      "execution_count": null,
      "outputs": []
    },
    {
      "cell_type": "markdown",
      "metadata": {
        "id": "ivNaM3Tli_vj"
      },
      "source": [
        "## Quelques conseils de développement\n",
        "Dans cette partie je vais aborder certaines spécificités a connaitre quand on développe une solution sous pyTorch."
      ]
    },
    {
      "cell_type": "markdown",
      "metadata": {
        "id": "EPZHJCfYjL0Q"
      },
      "source": [
        "### Utiliser les optimizers de pytorch\n",
        "\n",
        "Comme vous pouvez vous en douter nous ne sommes pas les premiers a penser a développer une classe qui permet d'optimiser une fonction. \n",
        "\n",
        "Pytorch propose pour cela le module Optimizer qui contient plusieurs algorithmes de descente de gradient plus ou moins sophistiqués."
      ]
    },
    {
      "cell_type": "code",
      "metadata": {
        "colab": {
          "base_uri": "https://localhost:8080/"
        },
        "id": "x7Q8J5Gpk4kQ",
        "outputId": "33dd6dae-d7ed-43d9-8a72-595a29e8da84"
      },
      "source": [
        "def optimize(x_0 : torch.tensor , func:Callable[[torch.tensor], torch.tensor] , precision = 1e-4, alpha = 0.01, max_it = 1000) -> (torch.tensor, int):\n",
        "  \"\"\"\n",
        "  Compute a gradient descent.\n",
        "  Params: \n",
        "    - x_0: Initial point\n",
        "    - func: Function to optimize.\n",
        "    - alpha: Learning rate\n",
        "    - max_it: Maximum of iterations\n",
        "  Returns:\n",
        "    - x_v: Optimum\n",
        "    - it: Number of iterations before convergence.\n",
        "  \"\"\"\n",
        "  x_0 = float(x_0)\n",
        "  x = torch.tensor(x_0)\n",
        "  x_v = Variable(x,requires_grad=True)\n",
        "\n",
        "  #SGD : Stochastic Gradient Descent \n",
        "  optimizer = torch.optim.SGD( [x_v] , lr=alpha)\n",
        "\n",
        "  it = 0\n",
        "  for i in range(max_it):\n",
        "    it += 1\n",
        "    f_t = func(x_v)\n",
        "    ## Attention ces trois lignes vous les verrez jusqu'a l'indigestion donc comprenez les bien ! \n",
        "    ## === Etape 01 : Refaire monter le gradient jusqu'au variables qui sont dans l'optimizer \n",
        "    f_t.backward()\n",
        "    ## == Etape 02 : On effectue une étape d'optimisation, cette étape peut être aussi simple que celle qu'on faisait ou être plus sophistiquée (en utilisant un moment par exemple)\n",
        "    optimizer.step()\n",
        "    ## == Etape 03 : On efface les gradients pour qu'ils ne s'accumulent pas\n",
        "    optimizer.zero_grad()\n",
        "    ## ====\n",
        "\n",
        "  return x_v\n",
        "\n",
        "\n",
        "optimize(10.0, f1)"
      ],
      "execution_count": null,
      "outputs": [
        {
          "output_type": "execute_result",
          "data": {
            "text/plain": [
              "tensor(1.0000, requires_grad=True)"
            ]
          },
          "metadata": {
            "tags": []
          },
          "execution_count": 79
        }
      ]
    },
    {
      "cell_type": "code",
      "metadata": {
        "colab": {
          "base_uri": "https://localhost:8080/"
        },
        "id": "p0j2e5Bfl86n",
        "outputId": "5c7ecaa1-7813-4fa6-848e-ff71391415f5"
      },
      "source": [
        "def optimize(x_0 : torch.tensor , func:Callable[[torch.tensor], torch.tensor] , precision = 1e-4, alpha = 0.01, max_it = 1000) -> (torch.tensor, int):\n",
        "  \"\"\"\n",
        "  Compute a gradient descent.\n",
        "  Params: \n",
        "    - x_0: Initial point\n",
        "    - func: Function to optimize.\n",
        "    - alpha: Learning rate\n",
        "    - max_it: Maximum of iterations\n",
        "  Returns:\n",
        "    - x_v: Optimum\n",
        "    - it: Number of iterations before convergence.\n",
        "  \"\"\"\n",
        "  \n",
        "  x_0 = float(x_0)\n",
        "  x = torch.tensor(x_0)\n",
        "  x_v = Variable(x,requires_grad=True)\n",
        "\n",
        "  #Adam Optimizer\n",
        "  optimizer = torch.optim.Adam([x_v], lr=1e-1)\n",
        "\n",
        "  it = 0\n",
        "  for i in range(max_it):\n",
        "    it += 1\n",
        "    f_t = func(x_v)\n",
        "    f_t.backward()\n",
        "    optimizer.step()\n",
        "    optimizer.zero_grad()\n",
        "  return x_v\n",
        "\n",
        "optimize(10.0, f1, max_it=4000)"
      ],
      "execution_count": null,
      "outputs": [
        {
          "output_type": "execute_result",
          "data": {
            "text/plain": [
              "tensor(1.0000, requires_grad=True)"
            ]
          },
          "metadata": {
            "tags": []
          },
          "execution_count": 80
        }
      ]
    },
    {
      "cell_type": "markdown",
      "metadata": {
        "id": "3QFZ5e9w4jJ2"
      },
      "source": [
        "### Exécuter sur un GPU voire un TPU \n",
        "\n",
        "Il arrive qu'on soit fréiné dans nos recherches par le nombre de simulations qu'on peut exécuter a cause du fait notamment qu'elles peuvent prendre beaucoup de temps, l'une des solutions qu'il est possible d'envisager est d'éxécuter les opérations tensorielles sur un GPU ou sur un TPU pour qu'elles soient plus rapides.\n",
        "\n",
        "Etant donné que vous disposez quasi-tous d'un GPU sur votre ordinateur nous allons d'abord montrer comment une exécuter sur GPU est possible."
      ]
    },
    {
      "cell_type": "code",
      "metadata": {
        "colab": {
          "base_uri": "https://localhost:8080/"
        },
        "id": "pdn0bD325iV3",
        "outputId": "82ce1919-fdc9-4417-8573-3b19b17ea581"
      },
      "source": [
        "import torch\n",
        "import numpy as np\n",
        "\n",
        "#D'abord on assigne a cette variable la chaine \"cuda\" si ce périphérique est accessible\n",
        "device_gpu = 'cuda' if torch.cuda.is_available() else 'cpu'\n",
        "#Maintenant définissons une deuxième chaine pour qu'on puisse comparer les performances\n",
        "device_cpu = \"cpu\"\n",
        "\n",
        "#On crée des matrices\n",
        "mat1 = torch.rand(10)\n",
        "mat2 = torch.rand(10)\n",
        "mat2"
      ],
      "execution_count": null,
      "outputs": [
        {
          "output_type": "execute_result",
          "data": {
            "text/plain": [
              "tensor([0.5378, 0.0949, 0.6142, 0.7431, 0.3135, 0.9394, 0.8817, 0.2835, 0.9552,\n",
              "        0.2789])"
            ]
          },
          "metadata": {
            "tags": []
          },
          "execution_count": 81
        }
      ]
    },
    {
      "cell_type": "code",
      "metadata": {
        "colab": {
          "base_uri": "https://localhost:8080/"
        },
        "id": "hRcJiWotF2Su",
        "outputId": "1d9e0f9e-97b2-4fc2-ebda-928f35a3a77b"
      },
      "source": [
        "#C'est comme ça qu'on transfère une matrice sur un périphérique\n",
        "mat1 = mat1.to(device_gpu)\n",
        "mat1\n",
        "mat2 = mat2.to(device_cpu)\n",
        "mat2"
      ],
      "execution_count": null,
      "outputs": [
        {
          "output_type": "execute_result",
          "data": {
            "text/plain": [
              "tensor([0.5378, 0.0949, 0.6142, 0.7431, 0.3135, 0.9394, 0.8817, 0.2835, 0.9552,\n",
              "        0.2789])"
            ]
          },
          "metadata": {
            "tags": []
          },
          "execution_count": 82
        }
      ]
    },
    {
      "cell_type": "code",
      "metadata": {
        "colab": {
          "base_uri": "https://localhost:8080/"
        },
        "id": "94Gj2aIKHQnd",
        "outputId": "d53f4614-6b10-4725-dc10-4a210fd3efe7"
      },
      "source": [
        "#Essayons de faire des opérations par exemple une multiplication\n",
        "#mat1@mat2 #comme tout le monde peut le deviner ça va pas marcher parce qu'ils ne sont pas sur le même périphérique\n",
        "\n",
        "#Donc on les déplace\n",
        "mat2 = mat2.to(device_gpu)\n",
        "m = mat1@mat2\n",
        "m"
      ],
      "execution_count": null,
      "outputs": [
        {
          "output_type": "execute_result",
          "data": {
            "text/plain": [
              "tensor(3.7120)"
            ]
          },
          "metadata": {
            "tags": []
          },
          "execution_count": 83
        }
      ]
    },
    {
      "cell_type": "code",
      "metadata": {
        "colab": {
          "base_uri": "https://localhost:8080/"
        },
        "id": "JJxMO1PJISCN",
        "outputId": "d2f21a4c-1417-457c-a8ec-725e13fb66a5"
      },
      "source": [
        "#Et si on essayais de le transformer en un tenseur numpy (je dis ça au hasard)\n",
        "\n",
        "#arr = np.array(m) Oh mais quel surprise ! ça marche pas ! \n",
        "\n",
        "arr = np.array(m.cpu()) #m.cpu() permet de copier le contenu du tenseur m sur le CPU\n",
        "arr"
      ],
      "execution_count": null,
      "outputs": [
        {
          "output_type": "execute_result",
          "data": {
            "text/plain": [
              "array(3.712019, dtype=float32)"
            ]
          },
          "metadata": {
            "tags": []
          },
          "execution_count": 84
        }
      ]
    },
    {
      "cell_type": "markdown",
      "metadata": {
        "id": "6XeNl-AvJOVG"
      },
      "source": [
        "A présent afin d'expérimenter les différence de performances au niveau du temps d'exécution on va définir une fonction qui va effectuer un certain nombre d'opérations et qui aura comme paramètre un device sur lesquels les executer.\n"
      ]
    },
    {
      "cell_type": "code",
      "metadata": {
        "id": "IvvpStH7JYse"
      },
      "source": [
        "def simulation(device):\n",
        "  mat1 = torch.rand((1000,1000)).to(device)\n",
        "  ei = torch.eig(mat1)"
      ],
      "execution_count": null,
      "outputs": []
    },
    {
      "cell_type": "code",
      "metadata": {
        "colab": {
          "base_uri": "https://localhost:8080/"
        },
        "id": "ZgBaBAC9J6qU",
        "outputId": "74425cc0-e43d-4adf-ae0a-5ebc60112760"
      },
      "source": [
        "%timeit simulation(\"cpu\")"
      ],
      "execution_count": null,
      "outputs": [
        {
          "output_type": "stream",
          "text": [
            "1 loop, best of 3: 485 ms per loop\n"
          ],
          "name": "stdout"
        }
      ]
    },
    {
      "cell_type": "code",
      "metadata": {
        "id": "CcGHde7IKQmv",
        "colab": {
          "base_uri": "https://localhost:8080/",
          "height": 395
        },
        "outputId": "c52c2a57-7115-4c62-b62b-d29bfb41dbb5"
      },
      "source": [
        "%timeit simulation(\"cuda\")"
      ],
      "execution_count": null,
      "outputs": [
        {
          "output_type": "error",
          "ename": "RuntimeError",
          "evalue": "ignored",
          "traceback": [
            "\u001b[0;31m---------------------------------------------------------------------------\u001b[0m",
            "\u001b[0;31mRuntimeError\u001b[0m                              Traceback (most recent call last)",
            "\u001b[0;32m<ipython-input-87-46fb0b43430c>\u001b[0m in \u001b[0;36m<module>\u001b[0;34m()\u001b[0m\n\u001b[0;32m----> 1\u001b[0;31m \u001b[0mget_ipython\u001b[0m\u001b[0;34m(\u001b[0m\u001b[0;34m)\u001b[0m\u001b[0;34m.\u001b[0m\u001b[0mmagic\u001b[0m\u001b[0;34m(\u001b[0m\u001b[0;34m'timeit simulation(\"cuda\")'\u001b[0m\u001b[0;34m)\u001b[0m\u001b[0;34m\u001b[0m\u001b[0;34m\u001b[0m\u001b[0m\n\u001b[0m",
            "\u001b[0;32m/usr/local/lib/python3.6/dist-packages/IPython/core/interactiveshell.py\u001b[0m in \u001b[0;36mmagic\u001b[0;34m(self, arg_s)\u001b[0m\n\u001b[1;32m   2158\u001b[0m         \u001b[0mmagic_name\u001b[0m\u001b[0;34m,\u001b[0m \u001b[0m_\u001b[0m\u001b[0;34m,\u001b[0m \u001b[0mmagic_arg_s\u001b[0m \u001b[0;34m=\u001b[0m \u001b[0marg_s\u001b[0m\u001b[0;34m.\u001b[0m\u001b[0mpartition\u001b[0m\u001b[0;34m(\u001b[0m\u001b[0;34m' '\u001b[0m\u001b[0;34m)\u001b[0m\u001b[0;34m\u001b[0m\u001b[0;34m\u001b[0m\u001b[0m\n\u001b[1;32m   2159\u001b[0m         \u001b[0mmagic_name\u001b[0m \u001b[0;34m=\u001b[0m \u001b[0mmagic_name\u001b[0m\u001b[0;34m.\u001b[0m\u001b[0mlstrip\u001b[0m\u001b[0;34m(\u001b[0m\u001b[0mprefilter\u001b[0m\u001b[0;34m.\u001b[0m\u001b[0mESC_MAGIC\u001b[0m\u001b[0;34m)\u001b[0m\u001b[0;34m\u001b[0m\u001b[0;34m\u001b[0m\u001b[0m\n\u001b[0;32m-> 2160\u001b[0;31m         \u001b[0;32mreturn\u001b[0m \u001b[0mself\u001b[0m\u001b[0;34m.\u001b[0m\u001b[0mrun_line_magic\u001b[0m\u001b[0;34m(\u001b[0m\u001b[0mmagic_name\u001b[0m\u001b[0;34m,\u001b[0m \u001b[0mmagic_arg_s\u001b[0m\u001b[0;34m)\u001b[0m\u001b[0;34m\u001b[0m\u001b[0;34m\u001b[0m\u001b[0m\n\u001b[0m\u001b[1;32m   2161\u001b[0m \u001b[0;34m\u001b[0m\u001b[0m\n\u001b[1;32m   2162\u001b[0m     \u001b[0;31m#-------------------------------------------------------------------------\u001b[0m\u001b[0;34m\u001b[0m\u001b[0;34m\u001b[0m\u001b[0;34m\u001b[0m\u001b[0m\n",
            "\u001b[0;32m/usr/local/lib/python3.6/dist-packages/IPython/core/interactiveshell.py\u001b[0m in \u001b[0;36mrun_line_magic\u001b[0;34m(self, magic_name, line)\u001b[0m\n\u001b[1;32m   2079\u001b[0m                 \u001b[0mkwargs\u001b[0m\u001b[0;34m[\u001b[0m\u001b[0;34m'local_ns'\u001b[0m\u001b[0;34m]\u001b[0m \u001b[0;34m=\u001b[0m \u001b[0msys\u001b[0m\u001b[0;34m.\u001b[0m\u001b[0m_getframe\u001b[0m\u001b[0;34m(\u001b[0m\u001b[0mstack_depth\u001b[0m\u001b[0;34m)\u001b[0m\u001b[0;34m.\u001b[0m\u001b[0mf_locals\u001b[0m\u001b[0;34m\u001b[0m\u001b[0;34m\u001b[0m\u001b[0m\n\u001b[1;32m   2080\u001b[0m             \u001b[0;32mwith\u001b[0m \u001b[0mself\u001b[0m\u001b[0;34m.\u001b[0m\u001b[0mbuiltin_trap\u001b[0m\u001b[0;34m:\u001b[0m\u001b[0;34m\u001b[0m\u001b[0;34m\u001b[0m\u001b[0m\n\u001b[0;32m-> 2081\u001b[0;31m                 \u001b[0mresult\u001b[0m \u001b[0;34m=\u001b[0m \u001b[0mfn\u001b[0m\u001b[0;34m(\u001b[0m\u001b[0;34m*\u001b[0m\u001b[0margs\u001b[0m\u001b[0;34m,\u001b[0m\u001b[0;34m**\u001b[0m\u001b[0mkwargs\u001b[0m\u001b[0;34m)\u001b[0m\u001b[0;34m\u001b[0m\u001b[0;34m\u001b[0m\u001b[0m\n\u001b[0m\u001b[1;32m   2082\u001b[0m             \u001b[0;32mreturn\u001b[0m \u001b[0mresult\u001b[0m\u001b[0;34m\u001b[0m\u001b[0;34m\u001b[0m\u001b[0m\n\u001b[1;32m   2083\u001b[0m \u001b[0;34m\u001b[0m\u001b[0m\n",
            "\u001b[0;32m<decorator-gen-59>\u001b[0m in \u001b[0;36mtimeit\u001b[0;34m(self, line, cell)\u001b[0m\n",
            "\u001b[0;32m/usr/local/lib/python3.6/dist-packages/IPython/core/magic.py\u001b[0m in \u001b[0;36m<lambda>\u001b[0;34m(f, *a, **k)\u001b[0m\n\u001b[1;32m    186\u001b[0m     \u001b[0;31m# but it's overkill for just that one bit of state.\u001b[0m\u001b[0;34m\u001b[0m\u001b[0;34m\u001b[0m\u001b[0;34m\u001b[0m\u001b[0m\n\u001b[1;32m    187\u001b[0m     \u001b[0;32mdef\u001b[0m \u001b[0mmagic_deco\u001b[0m\u001b[0;34m(\u001b[0m\u001b[0marg\u001b[0m\u001b[0;34m)\u001b[0m\u001b[0;34m:\u001b[0m\u001b[0;34m\u001b[0m\u001b[0;34m\u001b[0m\u001b[0m\n\u001b[0;32m--> 188\u001b[0;31m         \u001b[0mcall\u001b[0m \u001b[0;34m=\u001b[0m \u001b[0;32mlambda\u001b[0m \u001b[0mf\u001b[0m\u001b[0;34m,\u001b[0m \u001b[0;34m*\u001b[0m\u001b[0ma\u001b[0m\u001b[0;34m,\u001b[0m \u001b[0;34m**\u001b[0m\u001b[0mk\u001b[0m\u001b[0;34m:\u001b[0m \u001b[0mf\u001b[0m\u001b[0;34m(\u001b[0m\u001b[0;34m*\u001b[0m\u001b[0ma\u001b[0m\u001b[0;34m,\u001b[0m \u001b[0;34m**\u001b[0m\u001b[0mk\u001b[0m\u001b[0;34m)\u001b[0m\u001b[0;34m\u001b[0m\u001b[0;34m\u001b[0m\u001b[0m\n\u001b[0m\u001b[1;32m    189\u001b[0m \u001b[0;34m\u001b[0m\u001b[0m\n\u001b[1;32m    190\u001b[0m         \u001b[0;32mif\u001b[0m \u001b[0mcallable\u001b[0m\u001b[0;34m(\u001b[0m\u001b[0marg\u001b[0m\u001b[0;34m)\u001b[0m\u001b[0;34m:\u001b[0m\u001b[0;34m\u001b[0m\u001b[0;34m\u001b[0m\u001b[0m\n",
            "\u001b[0;32m/usr/local/lib/python3.6/dist-packages/IPython/core/magics/execution.py\u001b[0m in \u001b[0;36mtimeit\u001b[0;34m(self, line, cell)\u001b[0m\n\u001b[1;32m   1055\u001b[0m             \u001b[0mnumber\u001b[0m \u001b[0;34m=\u001b[0m \u001b[0;36m1\u001b[0m\u001b[0;34m\u001b[0m\u001b[0;34m\u001b[0m\u001b[0m\n\u001b[1;32m   1056\u001b[0m             \u001b[0;32mfor\u001b[0m \u001b[0m_\u001b[0m \u001b[0;32min\u001b[0m \u001b[0mrange\u001b[0m\u001b[0;34m(\u001b[0m\u001b[0;36m1\u001b[0m\u001b[0;34m,\u001b[0m \u001b[0;36m10\u001b[0m\u001b[0;34m)\u001b[0m\u001b[0;34m:\u001b[0m\u001b[0;34m\u001b[0m\u001b[0;34m\u001b[0m\u001b[0m\n\u001b[0;32m-> 1057\u001b[0;31m                 \u001b[0mtime_number\u001b[0m \u001b[0;34m=\u001b[0m \u001b[0mtimer\u001b[0m\u001b[0;34m.\u001b[0m\u001b[0mtimeit\u001b[0m\u001b[0;34m(\u001b[0m\u001b[0mnumber\u001b[0m\u001b[0;34m)\u001b[0m\u001b[0;34m\u001b[0m\u001b[0;34m\u001b[0m\u001b[0m\n\u001b[0m\u001b[1;32m   1058\u001b[0m                 \u001b[0mworst_tuning\u001b[0m \u001b[0;34m=\u001b[0m \u001b[0mmax\u001b[0m\u001b[0;34m(\u001b[0m\u001b[0mworst_tuning\u001b[0m\u001b[0;34m,\u001b[0m \u001b[0mtime_number\u001b[0m \u001b[0;34m/\u001b[0m \u001b[0mnumber\u001b[0m\u001b[0;34m)\u001b[0m\u001b[0;34m\u001b[0m\u001b[0;34m\u001b[0m\u001b[0m\n\u001b[1;32m   1059\u001b[0m                 \u001b[0;32mif\u001b[0m \u001b[0mtime_number\u001b[0m \u001b[0;34m>=\u001b[0m \u001b[0;36m0.2\u001b[0m\u001b[0;34m:\u001b[0m\u001b[0;34m\u001b[0m\u001b[0;34m\u001b[0m\u001b[0m\n",
            "\u001b[0;32m/usr/local/lib/python3.6/dist-packages/IPython/core/magics/execution.py\u001b[0m in \u001b[0;36mtimeit\u001b[0;34m(self, number)\u001b[0m\n\u001b[1;32m    137\u001b[0m         \u001b[0mgc\u001b[0m\u001b[0;34m.\u001b[0m\u001b[0mdisable\u001b[0m\u001b[0;34m(\u001b[0m\u001b[0;34m)\u001b[0m\u001b[0;34m\u001b[0m\u001b[0;34m\u001b[0m\u001b[0m\n\u001b[1;32m    138\u001b[0m         \u001b[0;32mtry\u001b[0m\u001b[0;34m:\u001b[0m\u001b[0;34m\u001b[0m\u001b[0;34m\u001b[0m\u001b[0m\n\u001b[0;32m--> 139\u001b[0;31m             \u001b[0mtiming\u001b[0m \u001b[0;34m=\u001b[0m \u001b[0mself\u001b[0m\u001b[0;34m.\u001b[0m\u001b[0minner\u001b[0m\u001b[0;34m(\u001b[0m\u001b[0mit\u001b[0m\u001b[0;34m,\u001b[0m \u001b[0mself\u001b[0m\u001b[0;34m.\u001b[0m\u001b[0mtimer\u001b[0m\u001b[0;34m)\u001b[0m\u001b[0;34m\u001b[0m\u001b[0;34m\u001b[0m\u001b[0m\n\u001b[0m\u001b[1;32m    140\u001b[0m         \u001b[0;32mfinally\u001b[0m\u001b[0;34m:\u001b[0m\u001b[0;34m\u001b[0m\u001b[0;34m\u001b[0m\u001b[0m\n\u001b[1;32m    141\u001b[0m             \u001b[0;32mif\u001b[0m \u001b[0mgcold\u001b[0m\u001b[0;34m:\u001b[0m\u001b[0;34m\u001b[0m\u001b[0;34m\u001b[0m\u001b[0m\n",
            "\u001b[0;32m<magic-timeit>\u001b[0m in \u001b[0;36minner\u001b[0;34m(_it, _timer)\u001b[0m\n",
            "\u001b[0;32m<ipython-input-85-939715d94629>\u001b[0m in \u001b[0;36msimulation\u001b[0;34m(device)\u001b[0m\n\u001b[1;32m      1\u001b[0m \u001b[0;32mdef\u001b[0m \u001b[0msimulation\u001b[0m\u001b[0;34m(\u001b[0m\u001b[0mdevice\u001b[0m\u001b[0;34m)\u001b[0m\u001b[0;34m:\u001b[0m\u001b[0;34m\u001b[0m\u001b[0;34m\u001b[0m\u001b[0m\n\u001b[0;32m----> 2\u001b[0;31m   \u001b[0mmat1\u001b[0m \u001b[0;34m=\u001b[0m \u001b[0mtorch\u001b[0m\u001b[0;34m.\u001b[0m\u001b[0mrand\u001b[0m\u001b[0;34m(\u001b[0m\u001b[0;34m(\u001b[0m\u001b[0;36m1000\u001b[0m\u001b[0;34m,\u001b[0m\u001b[0;36m1000\u001b[0m\u001b[0;34m)\u001b[0m\u001b[0;34m)\u001b[0m\u001b[0;34m.\u001b[0m\u001b[0mto\u001b[0m\u001b[0;34m(\u001b[0m\u001b[0mdevice\u001b[0m\u001b[0;34m)\u001b[0m\u001b[0;34m\u001b[0m\u001b[0;34m\u001b[0m\u001b[0m\n\u001b[0m\u001b[1;32m      3\u001b[0m   \u001b[0mei\u001b[0m \u001b[0;34m=\u001b[0m \u001b[0mtorch\u001b[0m\u001b[0;34m.\u001b[0m\u001b[0meig\u001b[0m\u001b[0;34m(\u001b[0m\u001b[0mmat1\u001b[0m\u001b[0;34m)\u001b[0m\u001b[0;34m\u001b[0m\u001b[0;34m\u001b[0m\u001b[0m\n",
            "\u001b[0;32m/usr/local/lib/python3.6/dist-packages/torch/cuda/__init__.py\u001b[0m in \u001b[0;36m_lazy_init\u001b[0;34m()\u001b[0m\n\u001b[1;32m    170\u001b[0m         \u001b[0;31m# This function throws if there's a driver initialization error, no GPUs\u001b[0m\u001b[0;34m\u001b[0m\u001b[0;34m\u001b[0m\u001b[0;34m\u001b[0m\u001b[0m\n\u001b[1;32m    171\u001b[0m         \u001b[0;31m# are found or any other error occurs\u001b[0m\u001b[0;34m\u001b[0m\u001b[0;34m\u001b[0m\u001b[0;34m\u001b[0m\u001b[0m\n\u001b[0;32m--> 172\u001b[0;31m         \u001b[0mtorch\u001b[0m\u001b[0;34m.\u001b[0m\u001b[0m_C\u001b[0m\u001b[0;34m.\u001b[0m\u001b[0m_cuda_init\u001b[0m\u001b[0;34m(\u001b[0m\u001b[0;34m)\u001b[0m\u001b[0;34m\u001b[0m\u001b[0;34m\u001b[0m\u001b[0m\n\u001b[0m\u001b[1;32m    173\u001b[0m         \u001b[0;31m# Some of the queued calls may reentrantly call _lazy_init();\u001b[0m\u001b[0;34m\u001b[0m\u001b[0;34m\u001b[0m\u001b[0;34m\u001b[0m\u001b[0m\n\u001b[1;32m    174\u001b[0m         \u001b[0;31m# we need to just return without initializing in that case.\u001b[0m\u001b[0;34m\u001b[0m\u001b[0;34m\u001b[0m\u001b[0;34m\u001b[0m\u001b[0m\n",
            "\u001b[0;31mRuntimeError\u001b[0m: No CUDA GPUs are available"
          ]
        }
      ]
    },
    {
      "cell_type": "markdown",
      "metadata": {
        "id": "Bf20Ng0JNXEL"
      },
      "source": [
        "Alors la ça se voit pas énormement mais en réalité quand on entrain des gros modèles ça fait une grande différence (pour plus d'informations regardez [ici](https://github.com/ilkarman/DeepLearningFrameworks)"
      ]
    },
    {
      "cell_type": "markdown",
      "metadata": {
        "id": "c9MdpWkmORQg"
      },
      "source": [
        "Maintenant examinons comment on peut exécuter des calculs sur un TPU.\n",
        "\n",
        "Déja une principale différence c'est que a part si vous êtes quelqu'un de chez Google a priori vous n'avez pas accès physiquement a un TPU donc il faut utiliser un TPU accessible en SaaS sur une plateforme Cloud (comme Collab)."
      ]
    },
    {
      "cell_type": "code",
      "metadata": {
        "id": "8OkBfLlYRWpM",
        "colab": {
          "base_uri": "https://localhost:8080/"
        },
        "outputId": "67eee9fd-a666-4889-ccf6-52192ca50cae"
      },
      "source": [
        "!pip install cloud-tpu-client==0.10 https://storage.googleapis.com/tpu-pytorch/wheels/torch_xla-1.7-cp36-cp36m-linux_x86_64.whl"
      ],
      "execution_count": null,
      "outputs": [
        {
          "output_type": "stream",
          "text": [
            "Requirement already satisfied: cloud-tpu-client==0.10 in /usr/local/lib/python3.6/dist-packages (0.10)\n",
            "Requirement already satisfied: torch-xla==1.7 from https://storage.googleapis.com/tpu-pytorch/wheels/torch_xla-1.7-cp36-cp36m-linux_x86_64.whl in /usr/local/lib/python3.6/dist-packages (1.7)\n",
            "Requirement already satisfied: google-api-python-client==1.8.0 in /usr/local/lib/python3.6/dist-packages (from cloud-tpu-client==0.10) (1.8.0)\n",
            "Requirement already satisfied: oauth2client in /usr/local/lib/python3.6/dist-packages (from cloud-tpu-client==0.10) (4.1.3)\n",
            "Requirement already satisfied: uritemplate<4dev,>=3.0.0 in /usr/local/lib/python3.6/dist-packages (from google-api-python-client==1.8.0->cloud-tpu-client==0.10) (3.0.1)\n",
            "Requirement already satisfied: httplib2<1dev,>=0.9.2 in /usr/local/lib/python3.6/dist-packages (from google-api-python-client==1.8.0->cloud-tpu-client==0.10) (0.17.4)\n",
            "Requirement already satisfied: six<2dev,>=1.6.1 in /usr/local/lib/python3.6/dist-packages (from google-api-python-client==1.8.0->cloud-tpu-client==0.10) (1.15.0)\n",
            "Requirement already satisfied: google-api-core<2dev,>=1.13.0 in /usr/local/lib/python3.6/dist-packages (from google-api-python-client==1.8.0->cloud-tpu-client==0.10) (1.16.0)\n",
            "Requirement already satisfied: google-auth>=1.4.1 in /usr/local/lib/python3.6/dist-packages (from google-api-python-client==1.8.0->cloud-tpu-client==0.10) (1.17.2)\n",
            "Requirement already satisfied: google-auth-httplib2>=0.0.3 in /usr/local/lib/python3.6/dist-packages (from google-api-python-client==1.8.0->cloud-tpu-client==0.10) (0.0.4)\n",
            "Requirement already satisfied: pyasn1-modules>=0.0.5 in /usr/local/lib/python3.6/dist-packages (from oauth2client->cloud-tpu-client==0.10) (0.2.8)\n",
            "Requirement already satisfied: rsa>=3.1.4 in /usr/local/lib/python3.6/dist-packages (from oauth2client->cloud-tpu-client==0.10) (4.6)\n",
            "Requirement already satisfied: pyasn1>=0.1.7 in /usr/local/lib/python3.6/dist-packages (from oauth2client->cloud-tpu-client==0.10) (0.4.8)\n",
            "Requirement already satisfied: requests<3.0.0dev,>=2.18.0 in /usr/local/lib/python3.6/dist-packages (from google-api-core<2dev,>=1.13.0->google-api-python-client==1.8.0->cloud-tpu-client==0.10) (2.23.0)\n",
            "Requirement already satisfied: protobuf>=3.4.0 in /usr/local/lib/python3.6/dist-packages (from google-api-core<2dev,>=1.13.0->google-api-python-client==1.8.0->cloud-tpu-client==0.10) (3.12.4)\n",
            "Requirement already satisfied: setuptools>=34.0.0 in /usr/local/lib/python3.6/dist-packages (from google-api-core<2dev,>=1.13.0->google-api-python-client==1.8.0->cloud-tpu-client==0.10) (51.0.0)\n",
            "Requirement already satisfied: pytz in /usr/local/lib/python3.6/dist-packages (from google-api-core<2dev,>=1.13.0->google-api-python-client==1.8.0->cloud-tpu-client==0.10) (2018.9)\n",
            "Requirement already satisfied: googleapis-common-protos<2.0dev,>=1.6.0 in /usr/local/lib/python3.6/dist-packages (from google-api-core<2dev,>=1.13.0->google-api-python-client==1.8.0->cloud-tpu-client==0.10) (1.52.0)\n",
            "Requirement already satisfied: cachetools<5.0,>=2.0.0 in /usr/local/lib/python3.6/dist-packages (from google-auth>=1.4.1->google-api-python-client==1.8.0->cloud-tpu-client==0.10) (4.2.0)\n",
            "Requirement already satisfied: urllib3!=1.25.0,!=1.25.1,<1.26,>=1.21.1 in /usr/local/lib/python3.6/dist-packages (from requests<3.0.0dev,>=2.18.0->google-api-core<2dev,>=1.13.0->google-api-python-client==1.8.0->cloud-tpu-client==0.10) (1.24.3)\n",
            "Requirement already satisfied: chardet<4,>=3.0.2 in /usr/local/lib/python3.6/dist-packages (from requests<3.0.0dev,>=2.18.0->google-api-core<2dev,>=1.13.0->google-api-python-client==1.8.0->cloud-tpu-client==0.10) (3.0.4)\n",
            "Requirement already satisfied: certifi>=2017.4.17 in /usr/local/lib/python3.6/dist-packages (from requests<3.0.0dev,>=2.18.0->google-api-core<2dev,>=1.13.0->google-api-python-client==1.8.0->cloud-tpu-client==0.10) (2020.12.5)\n",
            "Requirement already satisfied: idna<3,>=2.5 in /usr/local/lib/python3.6/dist-packages (from requests<3.0.0dev,>=2.18.0->google-api-core<2dev,>=1.13.0->google-api-python-client==1.8.0->cloud-tpu-client==0.10) (2.10)\n"
          ],
          "name": "stdout"
        }
      ]
    },
    {
      "cell_type": "code",
      "metadata": {
        "id": "d7U-vXSRSCAu",
        "colab": {
          "base_uri": "https://localhost:8080/"
        },
        "outputId": "2a5344e7-7ed3-44d0-87cd-c19ea4ef97ca"
      },
      "source": [
        "import torch_xla.core.xla_model as xm\n",
        "\n",
        "device = xm.xla_device()"
      ],
      "execution_count": null,
      "outputs": [
        {
          "output_type": "stream",
          "text": [
            "WARNING:root:Waiting for TPU to be start up with version pytorch-1.7...\n",
            "WARNING:root:Waiting for TPU to be start up with version pytorch-1.7...\n",
            "WARNING:root:TPU has started up successfully with version pytorch-1.7\n"
          ],
          "name": "stderr"
        }
      ]
    },
    {
      "cell_type": "code",
      "metadata": {
        "id": "Bi1RXxmfSi8v",
        "colab": {
          "base_uri": "https://localhost:8080/"
        },
        "outputId": "ad8289fd-598b-4c49-cbfb-297df0cb0e53"
      },
      "source": [
        "%timeit simulation(device)"
      ],
      "execution_count": null,
      "outputs": [
        {
          "output_type": "stream",
          "text": [
            "1 loop, best of 3: 552 ms per loop\n"
          ],
          "name": "stdout"
        }
      ]
    },
    {
      "cell_type": "markdown",
      "metadata": {
        "id": "VkbeW0o9SdF5"
      },
      "source": [
        "## Quelques conseils sur comment investiger une erreur "
      ]
    },
    {
      "cell_type": "code",
      "metadata": {
        "colab": {
          "base_uri": "https://localhost:8080/",
          "height": 295
        },
        "id": "I-0_MK59LJWc",
        "outputId": "b7e6eb7f-d519-4bbb-c744-2457fe755224"
      },
      "source": [
        "\"\"\"\n",
        "A quoi sert le maximum d'itérations ?\n",
        "En général quand on code on n'est pas a l'abri des erreurs qui transforment la fonction objectif en une fonction non bornée ce qui fait que la boucle ne se termine jamais\n",
        "D'ou l'intéret de limiter son exécution !\n",
        "Ainsi quand on tombe sur un cas comme le précedent ou l'algorithme se termine sur une valeur infini on peut investiger la raison de cela.\n",
        "\"\"\"\n",
        "\n",
        "X = torch.tensor(np.linspace(-1000,1000, 1000)) #je transforme en tenseur pour pouvoir utiliser la fonction précédente\n",
        "y = f2(X).detach().numpy() #Au passage c'est comme ça qu'on retransforme un tenseur pytorch en tenseur numpy, on verra plus tard le sens du detach\n",
        "\n",
        "plt.plot(X,y)"
      ],
      "execution_count": null,
      "outputs": [
        {
          "output_type": "execute_result",
          "data": {
            "text/plain": [
              "[<matplotlib.lines.Line2D at 0x7f7c5f5bf5f8>]"
            ]
          },
          "metadata": {
            "tags": []
          },
          "execution_count": 91
        },
        {
          "output_type": "display_data",
          "data": {
            "image/png": "[encoded data removed]",
            "text/plain": [
              "<Figure size 432x288 with 1 Axes>"
            ]
          },
          "metadata": {
            "tags": [],
            "needs_background": "light"
          }
        }
      ]
    },
    {
      "cell_type": "code",
      "metadata": {
        "colab": {
          "base_uri": "https://localhost:8080/"
        },
        "id": "j7H_0px3IrAH",
        "outputId": "7cbe3b86-2bcc-4a5a-ab27-2d945e140f54"
      },
      "source": [
        "#Ajouter de la verbosité ! \n",
        "def optimize(x_0, func, precision = 1e-4, alpha = 0.01, max_it = 1000, verbose = False):\n",
        "  x_0 = float(x_0)\n",
        "  x = torch.tensor(x_0)\n",
        "  x_v = Variable(x,requires_grad=True)\n",
        "  it = 0\n",
        "  while (True):\n",
        "    it += 1\n",
        "    f_t = func(x_v)\n",
        "    f_t.backward()\n",
        "    with torch.no_grad():\n",
        "      x_v  -= alpha * x_v.grad\n",
        "      if (verbose):\n",
        "        print(\"val: \", x_v)\n",
        "        print(\"grad: \",x_v.grad)\n",
        "      if (np.abs(x_v.grad) < precision):\n",
        "        break\n",
        "    x_v.grad.zero_()\n",
        "    \n",
        "    if(it == max_it):\n",
        "      break\n",
        "  return x_v, it\n",
        "\n",
        "x_v, it = optimize(20.0,f2,verbose = True,max_it = 10)\n",
        "x_v"
      ],
      "execution_count": null,
      "outputs": [
        {
          "output_type": "stream",
          "text": [
            "val:  tensor(-115., requires_grad=True)\n",
            "grad:  tensor(13500.)\n",
            "val:  tensor(69005., requires_grad=True)\n",
            "grad:  tensor(-6912000.)\n",
            "val:  tensor(-1.3140e+13, requires_grad=True)\n",
            "grad:  tensor(1.3140e+15)\n",
            "val:  tensor(inf, requires_grad=True)\n",
            "grad:  tensor(-inf)\n",
            "val:  tensor(nan, requires_grad=True)\n",
            "grad:  tensor(inf)\n",
            "val:  tensor(nan, requires_grad=True)\n",
            "grad:  tensor(nan)\n",
            "val:  tensor(nan, requires_grad=True)\n",
            "grad:  tensor(nan)\n",
            "val:  tensor(nan, requires_grad=True)\n",
            "grad:  tensor(nan)\n",
            "val:  tensor(nan, requires_grad=True)\n",
            "grad:  tensor(nan)\n",
            "val:  tensor(nan, requires_grad=True)\n",
            "grad:  tensor(nan)\n"
          ],
          "name": "stdout"
        },
        {
          "output_type": "execute_result",
          "data": {
            "text/plain": [
              "tensor(nan, requires_grad=True)"
            ]
          },
          "metadata": {
            "tags": []
          },
          "execution_count": 94
        }
      ]
    },
    {
      "cell_type": "code",
      "metadata": {
        "colab": {
          "base_uri": "https://localhost:8080/",
          "height": 349
        },
        "id": "n1-XjKCdM-pP",
        "outputId": "65e2713d-954b-4517-f671-a140291b4dbd"
      },
      "source": [
        "#Voire ajouter du visuel !\n",
        "def optimize(x_0, func, precision = 1e-4, alpha = 0.01, max_it = 1000, verbose = False, visualize=False):\n",
        "  x_0 = float(x_0) \n",
        "  x = torch.tensor(x_0)\n",
        "  x_v = Variable(x,requires_grad=True)\n",
        "  it = 0\n",
        "  while (True):\n",
        "    it += 1\n",
        "    f_t = func(x_v)\n",
        "    f_t.backward()\n",
        "    with torch.no_grad():\n",
        "\n",
        "      if (verbose):\n",
        "        print(\"val: \", x_v)\n",
        "        print(\"grad: \",x_v.grad)\n",
        "\n",
        "\n",
        "      if (visualize):\n",
        "        plt.scatter(x_v.detach().numpy(), f_t.detach().numpy())\n",
        "\n",
        "      if (np.abs(x_v.grad) < precision):\n",
        "        break\n",
        "      x_v  -= alpha * x_v.grad\n",
        "\n",
        "      \n",
        "    x_v.grad.zero_()\n",
        "    \n",
        "    if(it == max_it):\n",
        "      break\n",
        "  return x_v, it\n",
        "\n",
        "X = torch.tensor(np.linspace(-40,40, 1000))\n",
        "y = f2(X).detach().numpy()\n",
        "plt.plot(X,y)\n",
        "\n",
        "\n",
        "x_v, it = optimize(20.0,f2,verbose = True,max_it = 2,visualize=True)\n",
        "plt.show()"
      ],
      "execution_count": null,
      "outputs": [
        {
          "output_type": "stream",
          "text": [
            "val:  tensor(20., requires_grad=True)\n",
            "grad:  tensor(13500.)\n",
            "val:  tensor(-115., requires_grad=True)\n",
            "grad:  tensor(-6912000.)\n"
          ],
          "name": "stdout"
        },
        {
          "output_type": "display_data",
          "data": {
            "image/png": "[encoded data removed]",
            "text/plain": [
              "<Figure size 432x288 with 1 Axes>"
            ]
          },
          "metadata": {
            "tags": [],
            "needs_background": "light"
          }
        }
      ]
    },
    {
      "cell_type": "markdown",
      "metadata": {
        "id": "6X1fmUNjP1xw"
      },
      "source": [
        "Ce phénomène est trés courant et s'appelle : **Divergence du gradient**\n",
        "Ce qui c'est passé c'est que j'étais a gauche de l'optimum et en métant a jour avec le gradient je me suis trop décalé a droite du coup le gradient était encore plus grand, et donc je suis allé encore plus a gauche ce qui a encore augmenté le gradient etc...\n",
        "\n",
        "La solution connue est : Diminuer le teau d'apprentissage."
      ]
    },
    {
      "cell_type": "code",
      "metadata": {
        "colab": {
          "base_uri": "https://localhost:8080/"
        },
        "id": "coCQ6mPHQehA",
        "outputId": "e9b715cf-2754-4b3e-c444-76afe2dec1c8"
      },
      "source": [
        "x_v, it = optimize(20.0,f2,alpha=0.001,max_it = 100000)\n",
        "plt.show()\n",
        "print(\"optimum de f2 = \",x_v)\n",
        "print(f\"En {it} itérations ! \")"
      ],
      "execution_count": null,
      "outputs": [
        {
          "output_type": "stream",
          "text": [
            "optimum de f2 =  tensor(5.0391, requires_grad=True)\n",
            "En 100000 itérations ! \n"
          ],
          "name": "stdout"
        }
      ]
    },
    {
      "cell_type": "markdown",
      "metadata": {
        "id": "iuYUgCKJkCNP"
      },
      "source": [
        "# Gradient Descent : cas à plusieurs variables "
      ]
    },
    {
      "cell_type": "markdown",
      "metadata": {
        "id": "8OGmghmFXfCJ"
      },
      "source": [
        "### Concept de base\n",
        "\n",
        "Le mot dérivée partielles est un mot qui effraie beaucoup de gens alors qu'en réalité c'est juste l'extension du concept de dérivée a une fonction qui dépend de plusieurs paramètres.\n",
        "\n",
        "Reprenons la fonction précédente mais imaginons cette fois qu'elle prend deux paramètres.\n",
        "\n",
        "$$f(x, y) = (x-5)^2 + (y-3)^2 + 5$$\n",
        "\n",
        "Première difficulté a envisager, comment représenter cette fonction ?\n",
        "\n",
        "Une façon simple est d'utiliser une \"heatmap\" c'est a dire une grille avec en abscisse les valeurs de x, en ordonnée celles de y et dont les couleurs des cases représenterons la valeur de la fonction f."
      ]
    },
    {
      "cell_type": "code",
      "metadata": {
        "id": "Wo7CMeZQXwm0"
      },
      "source": [
        "#J'en profite pour montrer cette notation qui permet de définir facilement une fonction sur une seule ligne\n",
        "\n",
        "f_2 = lambda x,y : (x-5)**2 + (y-3)**2 + 5\n",
        "\n",
        "#On initialise la grille\n",
        "grid = np.zeros((1000,1000))\n",
        "\n",
        "for x in range(grid.shape[0]):\n",
        "  for y in range(grid.shape[1]):\n",
        "    grid[x][y] = f_2(x, y)"
      ],
      "execution_count": null,
      "outputs": []
    },
    {
      "cell_type": "code",
      "metadata": {
        "colab": {
          "base_uri": "https://localhost:8080/"
        },
        "id": "r0QMza_Rae5G",
        "outputId": "5ca5ac9e-a252-4465-e763-f366c1a0bbc0"
      },
      "source": [
        "#Plus c'est rouge plus c'est une grande valeur et plus c'est rouge plus c'est une petite valeur\n",
        "plt.imshow(grid, cmap=\"inferno\")\n",
        "plt.scatter(5,3,c = \"magenta\")"
      ],
      "execution_count": null,
      "outputs": [
        {
          "output_type": "execute_result",
          "data": {
            "text/plain": [
              "<matplotlib.collections.PathCollection at 0x7f2c7af201d0>"
            ]
          },
          "metadata": {
            "tags": []
          },
          "execution_count": 44
        },
        {
          "output_type": "display_data",
          "data": {
            "image/png": "[encoded data removed]",
            "text/plain": [
              "<Figure size 432x288 with 1 Axes>"
            ]
          },
          "metadata": {
            "tags": [],
            "needs_background": "light"
          }
        }
      ]
    },
    {
      "cell_type": "markdown",
      "metadata": {
        "id": "qGFcF44Jdv4y"
      },
      "source": [
        "Maintenant pour effectuer une descente de gradient il faut calculer les dérivées \"partielles\" c'est a dire les dérivées w.r.t (with respect to) chaque paramètre (en considérant tout les autres commet des constantes) et donc :\n",
        "$$\\frac{\\partial f}{\\partial x} = 2(x-5)$$\n",
        "Idem pour y\n",
        "$$\\frac{\\partial f}{\\partial y} = 2(y-3)$$\n",
        "\n",
        "Et donc le **gradient** de f est la fonction qui a chaque (x,y) associe le vecteur $$(2(x-5), 2(y-3))$$ qui correspond a la direction vers lequel f augmente localement (tel3a)."
      ]
    },
    {
      "cell_type": "code",
      "metadata": {
        "colab": {
          "base_uri": "https://localhost:8080/"
        },
        "id": "biDtscSiawDW",
        "outputId": "0d4bd014-0b4b-4447-b6bf-157803692398"
      },
      "source": [
        "def f_2_p(x,y):\n",
        "  return (2*(x-5), 2*(y-3))\n",
        "\n",
        "#Et donc la descente de gradient fonctionne normalement \n",
        "x_0, y_0 = (500,800)\n",
        "f_2_p(x_0,y_0)"
      ],
      "execution_count": null,
      "outputs": [
        {
          "output_type": "execute_result",
          "data": {
            "text/plain": [
              "(990, 1594)"
            ]
          },
          "metadata": {
            "tags": []
          },
          "execution_count": 97
        }
      ]
    },
    {
      "cell_type": "markdown",
      "metadata": {
        "id": "x8zDPzfmgzS2"
      },
      "source": [
        "Donc a présent nous pouvons effectuer une descente de gradient comme précédemment :"
      ]
    },
    {
      "cell_type": "code",
      "metadata": {
        "colab": {
          "base_uri": "https://localhost:8080/"
        },
        "id": "BPDiczlVgEfa",
        "outputId": "153b8adb-bba2-4c65-96b4-7847fe1b08e0"
      },
      "source": [
        "x_0, y_0 = (800,800)\n",
        "x,y = x_0,y_0\n",
        "plt.imshow(grid, cmap=\"inferno\")\n",
        "plt.scatter(5,3,c = \"blue\")\n",
        "\n",
        "alpha = 0.1\n",
        "\n",
        "for i in range(100):\n",
        "  grad = f_2_p(x,y)\n",
        "  plt.scatter(x,y,c=\"red\")\n",
        "  x = x - alpha*grad[0]\n",
        "  y = y - alpha*grad[1]\n",
        "print(f\"Finalement x= {x}, y = {y}\")"
      ],
      "execution_count": null,
      "outputs": [
        {
          "output_type": "stream",
          "text": [
            "Finalement x= 5.00000016194436, y = 3.000000162351767\n"
          ],
          "name": "stdout"
        },
        {
          "output_type": "display_data",
          "data": {
            "image/png": "[encoded data removed]",
            "text/plain": [
              "<Figure size 432x288 with 1 Axes>"
            ]
          },
          "metadata": {
            "tags": [],
            "needs_background": "light"
          }
        }
      ]
    },
    {
      "cell_type": "markdown",
      "metadata": {
        "id": "Xh0Em2uOkIWl"
      },
      "source": [
        "## Utilisation de Pytorch\n",
        "Bien évidemment on peut utiliser pytorch pour calculer automatiquement le gradient."
      ]
    },
    {
      "cell_type": "code",
      "metadata": {
        "id": "fuharATOvSo7"
      },
      "source": [
        "def f(x,y):\n",
        "    y_1 = x - 5\n",
        "    y_2 = y - 3\n",
        "    f_t = torch.pow(y_1, 2) + torch.pow(y_2, 2) + 5\n",
        "    return f_t"
      ],
      "execution_count": null,
      "outputs": []
    },
    {
      "cell_type": "code",
      "metadata": {
        "colab": {
          "base_uri": "https://localhost:8080/",
          "height": 382
        },
        "id": "Du3-NzkHx9re",
        "outputId": "2b5b2a52-daa1-454a-92d2-7e92520b469e"
      },
      "source": [
        "x_0, y_0 = (800.0,800.0)\n",
        "x = Variable(torch.tensor(x_0),requires_grad=True)\n",
        "y = Variable(torch.tensor(y_0),requires_grad=True)\n",
        "f_t = f(x,y)\n",
        "make_dot(f_t)"
      ],
      "execution_count": null,
      "outputs": [
        {
          "output_type": "execute_result",
          "data": {
            "text/plain": [
              "<graphviz.dot.Digraph at 0x7f2c22c6b0b8>"
            ],
            "image/svg+xml": "<?xml version=\"1.0\" encoding=\"UTF-8\" standalone=\"no\"?>\n<!DOCTYPE svg PUBLIC \"-//W3C//DTD SVG 1.1//EN\"\n \"http://www.w3.org/Graphics/SVG/1.1/DTD/svg11.dtd\">\n<!-- Generated by graphviz version 2.40.1 (20161225.0304)\n -->\n<!-- Title: %3 Pages: 1 -->\n<svg width=\"212pt\" height=\"271pt\"\n viewBox=\"0.00 0.00 212.00 271.00\" xmlns=\"http://www.w3.org/2000/svg\" xmlns:xlink=\"http://www.w3.org/1999/xlink\">\n<g id=\"graph0\" class=\"graph\" transform=\"scale(1 1) rotate(0) translate(4 267)\">\n<title>%3</title>\n<polygon fill=\"#ffffff\" stroke=\"transparent\" points=\"-4,4 -4,-267 208,-267 208,4 -4,4\"/>\n<!-- 139827538736128 -->\n<g id=\"node1\" class=\"node\">\n<title>139827538736128</title>\n<polygon fill=\"#caff70\" stroke=\"#000000\" points=\"147.5,-21 55.5,-21 55.5,0 147.5,0 147.5,-21\"/>\n<text text-anchor=\"middle\" x=\"101.5\" y=\"-7.4\" font-family=\"Times,serif\" font-size=\"12.00\" fill=\"#000000\">AddBackward0</text>\n</g>\n<!-- 139827538735176 -->\n<g id=\"node2\" class=\"node\">\n<title>139827538735176</title>\n<polygon fill=\"#d3d3d3\" stroke=\"#000000\" points=\"147.5,-78 55.5,-78 55.5,-57 147.5,-57 147.5,-78\"/>\n<text text-anchor=\"middle\" x=\"101.5\" y=\"-64.4\" font-family=\"Times,serif\" font-size=\"12.00\" fill=\"#000000\">AddBackward0</text>\n</g>\n<!-- 139827538735176&#45;&gt;139827538736128 -->\n<g id=\"edge1\" class=\"edge\">\n<title>139827538735176&#45;&gt;139827538736128</title>\n<path fill=\"none\" stroke=\"#000000\" d=\"M101.5,-56.7787C101.5,-49.6134 101.5,-39.9517 101.5,-31.3097\"/>\n<polygon fill=\"#000000\" stroke=\"#000000\" points=\"105.0001,-31.1732 101.5,-21.1732 98.0001,-31.1732 105.0001,-31.1732\"/>\n</g>\n<!-- 139827538736240 -->\n<g id=\"node3\" class=\"node\">\n<title>139827538736240</title>\n<polygon fill=\"#d3d3d3\" stroke=\"#000000\" points=\"93,-135 0,-135 0,-114 93,-114 93,-135\"/>\n<text text-anchor=\"middle\" x=\"46.5\" y=\"-121.4\" font-family=\"Times,serif\" font-size=\"12.00\" fill=\"#000000\">PowBackward0</text>\n</g>\n<!-- 139827538736240&#45;&gt;139827538735176 -->\n<g id=\"edge2\" class=\"edge\">\n<title>139827538736240&#45;&gt;139827538735176</title>\n<path fill=\"none\" stroke=\"#000000\" d=\"M56.8451,-113.7787C64.5272,-105.8173 75.1831,-94.7739 84.1589,-85.4717\"/>\n<polygon fill=\"#000000\" stroke=\"#000000\" points=\"86.7763,-87.7997 91.2013,-78.1732 81.7389,-82.9391 86.7763,-87.7997\"/>\n</g>\n<!-- 139827538737920 -->\n<g id=\"node4\" class=\"node\">\n<title>139827538737920</title>\n<polygon fill=\"#d3d3d3\" stroke=\"#000000\" points=\"91.5,-192 1.5,-192 1.5,-171 91.5,-171 91.5,-192\"/>\n<text text-anchor=\"middle\" x=\"46.5\" y=\"-178.4\" font-family=\"Times,serif\" font-size=\"12.00\" fill=\"#000000\">SubBackward0</text>\n</g>\n<!-- 139827538737920&#45;&gt;139827538736240 -->\n<g id=\"edge3\" class=\"edge\">\n<title>139827538737920&#45;&gt;139827538736240</title>\n<path fill=\"none\" stroke=\"#000000\" d=\"M46.5,-170.7787C46.5,-163.6134 46.5,-153.9517 46.5,-145.3097\"/>\n<polygon fill=\"#000000\" stroke=\"#000000\" points=\"50.0001,-145.1732 46.5,-135.1732 43.0001,-145.1732 50.0001,-145.1732\"/>\n</g>\n<!-- 139827538736408 -->\n<g id=\"node5\" class=\"node\">\n<title>139827538736408</title>\n<polygon fill=\"#add8e6\" stroke=\"#000000\" points=\"73.5,-263 19.5,-263 19.5,-228 73.5,-228 73.5,-263\"/>\n<text text-anchor=\"middle\" x=\"46.5\" y=\"-235.4\" font-family=\"Times,serif\" font-size=\"12.00\" fill=\"#000000\"> ()</text>\n</g>\n<!-- 139827538736408&#45;&gt;139827538737920 -->\n<g id=\"edge4\" class=\"edge\">\n<title>139827538736408&#45;&gt;139827538737920</title>\n<path fill=\"none\" stroke=\"#000000\" d=\"M46.5,-227.6724C46.5,-219.8405 46.5,-210.5893 46.5,-202.4323\"/>\n<polygon fill=\"#000000\" stroke=\"#000000\" points=\"50.0001,-202.2234 46.5,-192.2234 43.0001,-202.2235 50.0001,-202.2234\"/>\n</g>\n<!-- 139827538737528 -->\n<g id=\"node6\" class=\"node\">\n<title>139827538737528</title>\n<polygon fill=\"#d3d3d3\" stroke=\"#000000\" points=\"204,-135 111,-135 111,-114 204,-114 204,-135\"/>\n<text text-anchor=\"middle\" x=\"157.5\" y=\"-121.4\" font-family=\"Times,serif\" font-size=\"12.00\" fill=\"#000000\">PowBackward0</text>\n</g>\n<!-- 139827538737528&#45;&gt;139827538735176 -->\n<g id=\"edge5\" class=\"edge\">\n<title>139827538737528&#45;&gt;139827538735176</title>\n<path fill=\"none\" stroke=\"#000000\" d=\"M146.9668,-113.7787C139.145,-105.8173 128.2954,-94.7739 119.1564,-85.4717\"/>\n<polygon fill=\"#000000\" stroke=\"#000000\" points=\"121.4909,-82.8537 111.9859,-78.1732 116.4975,-87.7595 121.4909,-82.8537\"/>\n</g>\n<!-- 139827538737976 -->\n<g id=\"node7\" class=\"node\">\n<title>139827538737976</title>\n<polygon fill=\"#d3d3d3\" stroke=\"#000000\" points=\"202.5,-192 112.5,-192 112.5,-171 202.5,-171 202.5,-192\"/>\n<text text-anchor=\"middle\" x=\"157.5\" y=\"-178.4\" font-family=\"Times,serif\" font-size=\"12.00\" fill=\"#000000\">SubBackward0</text>\n</g>\n<!-- 139827538737976&#45;&gt;139827538737528 -->\n<g id=\"edge6\" class=\"edge\">\n<title>139827538737976&#45;&gt;139827538737528</title>\n<path fill=\"none\" stroke=\"#000000\" d=\"M157.5,-170.7787C157.5,-163.6134 157.5,-153.9517 157.5,-145.3097\"/>\n<polygon fill=\"#000000\" stroke=\"#000000\" points=\"161.0001,-145.1732 157.5,-135.1732 154.0001,-145.1732 161.0001,-145.1732\"/>\n</g>\n<!-- 139827538738256 -->\n<g id=\"node8\" class=\"node\">\n<title>139827538738256</title>\n<polygon fill=\"#add8e6\" stroke=\"#000000\" points=\"184.5,-263 130.5,-263 130.5,-228 184.5,-228 184.5,-263\"/>\n<text text-anchor=\"middle\" x=\"157.5\" y=\"-235.4\" font-family=\"Times,serif\" font-size=\"12.00\" fill=\"#000000\"> ()</text>\n</g>\n<!-- 139827538738256&#45;&gt;139827538737976 -->\n<g id=\"edge7\" class=\"edge\">\n<title>139827538738256&#45;&gt;139827538737976</title>\n<path fill=\"none\" stroke=\"#000000\" d=\"M157.5,-227.6724C157.5,-219.8405 157.5,-210.5893 157.5,-202.4323\"/>\n<polygon fill=\"#000000\" stroke=\"#000000\" points=\"161.0001,-202.2234 157.5,-192.2234 154.0001,-202.2235 161.0001,-202.2234\"/>\n</g>\n</g>\n</svg>\n"
          },
          "metadata": {
            "tags": []
          },
          "execution_count": 48
        }
      ]
    },
    {
      "cell_type": "code",
      "metadata": {
        "colab": {
          "base_uri": "https://localhost:8080/"
        },
        "id": "WATJ_dcVzrDU",
        "outputId": "ad791871-bad4-40bb-cbf0-b934bac52d59"
      },
      "source": [
        "x_0, y_0 = (800.0,800.0)\n",
        "x = Variable(torch.tensor(x_0),requires_grad=True)\n",
        "y = Variable(torch.tensor(y_0),requires_grad=True)\n",
        "\n",
        "#On précise les deux variables\n",
        "optimizer = torch.optim.SGD([x,y], lr=1e-1)\n",
        "\n",
        "for i in range(100):\n",
        "  f_t = f(x,y)\n",
        "  f_t.backward()\n",
        "  optimizer.step()\n",
        "  optimizer.zero_grad()\n",
        "\n",
        "print(x,y)"
      ],
      "execution_count": null,
      "outputs": [
        {
          "output_type": "stream",
          "text": [
            "tensor(5.0000, requires_grad=True) tensor(3.0000, requires_grad=True)\n"
          ],
          "name": "stdout"
        }
      ]
    },
    {
      "cell_type": "markdown",
      "metadata": {
        "id": "GalrOxPZ1A4H"
      },
      "source": [
        "## Un dernier petit point conception : \n",
        "En réalité souvent la différence entre un tensor et une Variable est qu'une variable est généralement prévue pour contenir des paramètres a optimiser (ici typiquement x et y) alors que les variables tensors contiennent les données utilisées pour évaluer la fonction a optimiser (ici il n'y en a pas car f se calcule uniquement a partir de x et de y mais plus tard ça sera le dataset de test) \n",
        "\n",
        "Et les paramètres sont mises dans un vecteur (généralement appelé $\\theta$ ) donc en l'occurrence plûtot que d'avoir deux paramètres il serait plus correct de créer un vecteur de deux éléments.\n"
      ]
    },
    {
      "cell_type": "code",
      "metadata": {
        "colab": {
          "base_uri": "https://localhost:8080/",
          "height": 458
        },
        "id": "LUzRVxSe31oW",
        "outputId": "bad505d2-65c1-401e-a3a9-308c7e2d9e4f"
      },
      "source": [
        "def f(theta):\n",
        "    y_1 = theta[0] - 5\n",
        "    y_2 = theta[1] - 3\n",
        "    f_t = torch.pow(y_1, 2) + torch.pow(y_2, 2) + 5\n",
        "    return f_t\n",
        "  \n",
        "theta_0 = torch.tensor([300. , 800.])\n",
        "theta = Variable(theta_0,requires_grad=True)\n",
        "f_t = f(theta)\n",
        "make_dot(f_t)"
      ],
      "execution_count": null,
      "outputs": [
        {
          "output_type": "execute_result",
          "data": {
            "text/plain": [
              "<graphviz.dot.Digraph at 0x7f7c5814aa58>"
            ],
            "image/svg+xml": "<?xml version=\"1.0\" encoding=\"UTF-8\" standalone=\"no\"?>\n<!DOCTYPE svg PUBLIC \"-//W3C//DTD SVG 1.1//EN\"\n \"http://www.w3.org/Graphics/SVG/1.1/DTD/svg11.dtd\">\n<!-- Generated by graphviz version 2.40.1 (20161225.0304)\n -->\n<!-- Title: %3 Pages: 1 -->\n<svg width=\"214pt\" height=\"328pt\"\n viewBox=\"0.00 0.00 214.00 328.00\" xmlns=\"http://www.w3.org/2000/svg\" xmlns:xlink=\"http://www.w3.org/1999/xlink\">\n<g id=\"graph0\" class=\"graph\" transform=\"scale(1 1) rotate(0) translate(4 324)\">\n<title>%3</title>\n<polygon fill=\"#ffffff\" stroke=\"transparent\" points=\"-4,4 -4,-324 210,-324 210,4 -4,4\"/>\n<!-- 140172030421480 -->\n<g id=\"node1\" class=\"node\">\n<title>140172030421480</title>\n<polygon fill=\"#caff70\" stroke=\"#000000\" points=\"148,-21 56,-21 56,0 148,0 148,-21\"/>\n<text text-anchor=\"middle\" x=\"102\" y=\"-7.4\" font-family=\"Times,serif\" font-size=\"12.00\" fill=\"#000000\">AddBackward0</text>\n</g>\n<!-- 140172030421536 -->\n<g id=\"node2\" class=\"node\">\n<title>140172030421536</title>\n<polygon fill=\"#d3d3d3\" stroke=\"#000000\" points=\"148,-78 56,-78 56,-57 148,-57 148,-78\"/>\n<text text-anchor=\"middle\" x=\"102\" y=\"-64.4\" font-family=\"Times,serif\" font-size=\"12.00\" fill=\"#000000\">AddBackward0</text>\n</g>\n<!-- 140172030421536&#45;&gt;140172030421480 -->\n<g id=\"edge1\" class=\"edge\">\n<title>140172030421536&#45;&gt;140172030421480</title>\n<path fill=\"none\" stroke=\"#000000\" d=\"M102,-56.7787C102,-49.6134 102,-39.9517 102,-31.3097\"/>\n<polygon fill=\"#000000\" stroke=\"#000000\" points=\"105.5001,-31.1732 102,-21.1732 98.5001,-31.1732 105.5001,-31.1732\"/>\n</g>\n<!-- 140172030421760 -->\n<g id=\"node3\" class=\"node\">\n<title>140172030421760</title>\n<polygon fill=\"#d3d3d3\" stroke=\"#000000\" points=\"93.5,-135 .5,-135 .5,-114 93.5,-114 93.5,-135\"/>\n<text text-anchor=\"middle\" x=\"47\" y=\"-121.4\" font-family=\"Times,serif\" font-size=\"12.00\" fill=\"#000000\">PowBackward0</text>\n</g>\n<!-- 140172030421760&#45;&gt;140172030421536 -->\n<g id=\"edge2\" class=\"edge\">\n<title>140172030421760&#45;&gt;140172030421536</title>\n<path fill=\"none\" stroke=\"#000000\" d=\"M57.3451,-113.7787C65.0272,-105.8173 75.6831,-94.7739 84.6589,-85.4717\"/>\n<polygon fill=\"#000000\" stroke=\"#000000\" points=\"87.2763,-87.7997 91.7013,-78.1732 82.2389,-82.9391 87.2763,-87.7997\"/>\n</g>\n<!-- 140172030421928 -->\n<g id=\"node4\" class=\"node\">\n<title>140172030421928</title>\n<polygon fill=\"#d3d3d3\" stroke=\"#000000\" points=\"92,-192 2,-192 2,-171 92,-171 92,-192\"/>\n<text text-anchor=\"middle\" x=\"47\" y=\"-178.4\" font-family=\"Times,serif\" font-size=\"12.00\" fill=\"#000000\">SubBackward0</text>\n</g>\n<!-- 140172030421928&#45;&gt;140172030421760 -->\n<g id=\"edge3\" class=\"edge\">\n<title>140172030421928&#45;&gt;140172030421760</title>\n<path fill=\"none\" stroke=\"#000000\" d=\"M47,-170.7787C47,-163.6134 47,-153.9517 47,-145.3097\"/>\n<polygon fill=\"#000000\" stroke=\"#000000\" points=\"50.5001,-145.1732 47,-135.1732 43.5001,-145.1732 50.5001,-145.1732\"/>\n</g>\n<!-- 140172030422040 -->\n<g id=\"node5\" class=\"node\">\n<title>140172030422040</title>\n<polygon fill=\"#d3d3d3\" stroke=\"#000000\" points=\"94,-249 0,-249 0,-228 94,-228 94,-249\"/>\n<text text-anchor=\"middle\" x=\"47\" y=\"-235.4\" font-family=\"Times,serif\" font-size=\"12.00\" fill=\"#000000\">SelectBackward</text>\n</g>\n<!-- 140172030422040&#45;&gt;140172030421928 -->\n<g id=\"edge4\" class=\"edge\">\n<title>140172030422040&#45;&gt;140172030421928</title>\n<path fill=\"none\" stroke=\"#000000\" d=\"M47,-227.7787C47,-220.6134 47,-210.9517 47,-202.3097\"/>\n<polygon fill=\"#000000\" stroke=\"#000000\" points=\"50.5001,-202.1732 47,-192.1732 43.5001,-202.1732 50.5001,-202.1732\"/>\n</g>\n<!-- 140172030422152 -->\n<g id=\"node6\" class=\"node\">\n<title>140172030422152</title>\n<polygon fill=\"#add8e6\" stroke=\"#000000\" points=\"130,-320 76,-320 76,-285 130,-285 130,-320\"/>\n<text text-anchor=\"middle\" x=\"103\" y=\"-292.4\" font-family=\"Times,serif\" font-size=\"12.00\" fill=\"#000000\"> (2)</text>\n</g>\n<!-- 140172030422152&#45;&gt;140172030422040 -->\n<g id=\"edge5\" class=\"edge\">\n<title>140172030422152&#45;&gt;140172030422040</title>\n<path fill=\"none\" stroke=\"#000000\" d=\"M87.4009,-284.6724C79.8471,-276.0396 70.7844,-265.6821 63.1583,-256.9666\"/>\n<polygon fill=\"#000000\" stroke=\"#000000\" points=\"65.6021,-254.4444 56.383,-249.2234 60.3341,-259.054 65.6021,-254.4444\"/>\n</g>\n<!-- 140172030422096 -->\n<g id=\"node9\" class=\"node\">\n<title>140172030422096</title>\n<polygon fill=\"#d3d3d3\" stroke=\"#000000\" points=\"206,-249 112,-249 112,-228 206,-228 206,-249\"/>\n<text text-anchor=\"middle\" x=\"159\" y=\"-235.4\" font-family=\"Times,serif\" font-size=\"12.00\" fill=\"#000000\">SelectBackward</text>\n</g>\n<!-- 140172030422152&#45;&gt;140172030422096 -->\n<g id=\"edge9\" class=\"edge\">\n<title>140172030422152&#45;&gt;140172030422096</title>\n<path fill=\"none\" stroke=\"#000000\" d=\"M118.5991,-284.6724C126.1529,-276.0396 135.2156,-265.6821 142.8417,-256.9666\"/>\n<polygon fill=\"#000000\" stroke=\"#000000\" points=\"145.6659,-259.054 149.617,-249.2234 140.3979,-254.4444 145.6659,-259.054\"/>\n</g>\n<!-- 140172030421816 -->\n<g id=\"node7\" class=\"node\">\n<title>140172030421816</title>\n<polygon fill=\"#d3d3d3\" stroke=\"#000000\" points=\"204.5,-135 111.5,-135 111.5,-114 204.5,-114 204.5,-135\"/>\n<text text-anchor=\"middle\" x=\"158\" y=\"-121.4\" font-family=\"Times,serif\" font-size=\"12.00\" fill=\"#000000\">PowBackward0</text>\n</g>\n<!-- 140172030421816&#45;&gt;140172030421536 -->\n<g id=\"edge6\" class=\"edge\">\n<title>140172030421816&#45;&gt;140172030421536</title>\n<path fill=\"none\" stroke=\"#000000\" d=\"M147.4668,-113.7787C139.645,-105.8173 128.7954,-94.7739 119.6564,-85.4717\"/>\n<polygon fill=\"#000000\" stroke=\"#000000\" points=\"121.9909,-82.8537 112.4859,-78.1732 116.9975,-87.7595 121.9909,-82.8537\"/>\n</g>\n<!-- 140173899320960 -->\n<g id=\"node8\" class=\"node\">\n<title>140173899320960</title>\n<polygon fill=\"#d3d3d3\" stroke=\"#000000\" points=\"203,-192 113,-192 113,-171 203,-171 203,-192\"/>\n<text text-anchor=\"middle\" x=\"158\" y=\"-178.4\" font-family=\"Times,serif\" font-size=\"12.00\" fill=\"#000000\">SubBackward0</text>\n</g>\n<!-- 140173899320960&#45;&gt;140172030421816 -->\n<g id=\"edge7\" class=\"edge\">\n<title>140173899320960&#45;&gt;140172030421816</title>\n<path fill=\"none\" stroke=\"#000000\" d=\"M158,-170.7787C158,-163.6134 158,-153.9517 158,-145.3097\"/>\n<polygon fill=\"#000000\" stroke=\"#000000\" points=\"161.5001,-145.1732 158,-135.1732 154.5001,-145.1732 161.5001,-145.1732\"/>\n</g>\n<!-- 140172030422096&#45;&gt;140173899320960 -->\n<g id=\"edge8\" class=\"edge\">\n<title>140172030422096&#45;&gt;140173899320960</title>\n<path fill=\"none\" stroke=\"#000000\" d=\"M158.8119,-227.7787C158.6862,-220.6134 158.5167,-210.9517 158.3651,-202.3097\"/>\n<polygon fill=\"#000000\" stroke=\"#000000\" points=\"161.8622,-202.1102 158.1872,-192.1732 154.8633,-202.2331 161.8622,-202.1102\"/>\n</g>\n</g>\n</svg>\n"
          },
          "metadata": {
            "tags": []
          },
          "execution_count": 101
        }
      ]
    },
    {
      "cell_type": "code",
      "metadata": {
        "colab": {
          "base_uri": "https://localhost:8080/"
        },
        "id": "JRm7wpSe4Qg6",
        "outputId": "3c618309-7627-4ecf-d340-fc92a22ef039"
      },
      "source": [
        "#On précise theta au lieu de x et y\n",
        "optimizer = torch.optim.SGD([theta], lr=1e-1)\n",
        "\n",
        "for i in range(100):\n",
        "  f_t = f(theta)\n",
        "  f_t.backward()\n",
        "  optimizer.step()\n",
        "  optimizer.zero_grad()\n",
        "\n",
        "print(theta)"
      ],
      "execution_count": null,
      "outputs": [
        {
          "output_type": "stream",
          "text": [
            "tensor([5.0000, 3.0000], requires_grad=True)\n"
          ],
          "name": "stdout"
        }
      ]
    },
    {
      "cell_type": "markdown",
      "metadata": {
        "id": "Xb1m2ppI4ocX"
      },
      "source": [
        "# Recette : Comment définir un modèle\n",
        "\n",
        "Dans cette partie on va détailler les étapes a suivre dans la conception d'un modèle, ces étapes vont garentir que l'implémentation sous pytorch sera simple et efficace, on va les appliquer par la suite a deux cas concrêts : \n",
        "\n",
        "- **L'optimisation d'un modèle d'apprenitssage statistique par maximum de vraisemblance (Max Likelihood)**\n",
        "- **L'optimisation d'un modèle par minimisation d'un coût**\n",
        "\n",
        "Donc pour revenir a nos étapes, définir un modèle nécessite de passer par les étapes suivantes : \n",
        "\n",
        "1. Définir les données, les paramètres\n",
        "2. Préciser le calcul de la fonction a optimiser (faut qu'elle soit différentiable sinon la descente de gradient ne va pas fonctionner et il faudra se tourner vers un algorithme évolutionnaire cf mon dernier workshop)\n",
        "3. Ecrire l'algorithme d'optimisation en précisant ces hyper-paramètres.\n",
        "\n",
        "C'est flou ? c'est normal c'est a ça que vont servir les examples."
      ]
    },
    {
      "cell_type": "markdown",
      "metadata": {
        "id": "0385zrDXMVBd"
      },
      "source": [
        "## Maximum de vraisemblance pour le modèle le plus simple de l'univers\n"
      ]
    },
    {
      "cell_type": "markdown",
      "metadata": {
        "id": "4WtQC7Oh7Ver"
      },
      "source": [
        "\n",
        "### Problématique\n",
        "Imaginons qu'on ait une pièce et qu'on veuille prédire les tirages qu'elle est suceptible de faire typiquement on veut répondre a la question : \"combien de chances j'ai d'avoir pile et pile ?\"\n",
        "\n",
        "Cette expérience (de jeter une pièce) admet deux résultats possibles : pile et face, donc on peut la modéliser en utilisant une distribution de bernouilli.\n",
        "\n",
        "### Quelques notions en apprentissage statistique\n",
        "---\n",
        "\n",
        "**Rappel** : \n",
        "\n",
        "Une distribution de bernouilli c'est une distribution paramètrée par un seul paramètre $\\theta = [ p ]$ ce paramètre correspond a la probabilité d'obtenir le résultat 1.\n",
        "\n",
        "$$P(x=1, \\theta = [p] ) = p$$\n",
        "$$P(x=0, \\theta = [p] ) = 1-p$$\n",
        "\n",
        "---\n",
        "\n",
        "On peut calculer la probabilité de notre ensemble de données en multipliant les probabilité de chaque tirage qui s'appelle **vraisemblance** de l'ensemble de donnée.\n",
        "\n",
        "$$\\mathcal{L}(\\theta) =  P(x=X, \\theta = [p] ) = \\prod_{x_i \\in X} P(x=x_i, \\theta = [p] )$$\n",
        "\n",
        "Et comme les produits on est pas méga fan parce que ça s'annule rapidement on aime bien passer au logarithme.\n",
        "\n",
        "$$log(\\mathcal{L}(\\theta)) = \\sum_{x_i \\in X} log(P(x=x_i, \\theta = [p] ))$$\n",
        "\n",
        "### Et en pratique ça sert a quoi ?\n",
        "\n",
        "J'ai envie de conçevoir un modèle qui calcule la probabilité d'apparition d'un phénomène donné (ici un tirage de pièce), je choisi un modèle que je pense capable de modéliser le phénomène (ici un modèle de bernoulli) mais ce modèle va dépende de paramètre (ici la probabilité de faire pile) donc comment optimiser ce modèle ?\n",
        "\n",
        "**Solution** Avoir une base de ces phénomène me permet de calculer pour un $\\theta$ donné la probabilité que le modéle ait généré cette base de donnée, cette probabilité s'appelle **vraisemblance** et si j'utilise la log-vraisemblance comme loss je peux optimiser mon $\\theta$.\n",
        "\n",
        "Toujours un peu flou ? on va tester ça ! "
      ]
    },
    {
      "cell_type": "markdown",
      "metadata": {
        "id": "4A2gIcKXILHb"
      },
      "source": [
        "**Etape 01** La log vraisemblance dépend de deux choses : Les données (un tenseur) qui sont les tirages de pile ou face et les paramètres (un tenseur de variables) en l'occurrence un seul paramètre représentant la probabilité de tirer pile.\n",
        "\n",
        "**Etape 02** La fonction qu'on veut optimiser c'est la log-vraisemblance on veut l'augmenter donc on doit diminuer son négatif."
      ]
    },
    {
      "cell_type": "code",
      "metadata": {
        "id": "_PucUtzD583T"
      },
      "source": [
        "#J'écris un vecteur de 0 et de 1\n",
        "X = [1, 0, 1, 0, 1, 0, 0, 1]\n",
        "\n",
        "#Pour un theta donné la probabilité d'un x est facile a calculer\n",
        "def p(x,theta):\n",
        "  p = theta[0]\n",
        "  p2 = 1 - theta[0]\n",
        "  pr1 = torch.pow(p,x) #Si x vaut 1 p^x vaut p sinon il vaut 1\n",
        "  pr2 = torch.pow(p,(1-x)) # Si x vaut 0 (1-x) vaut 1 et donc p^(1-x) vaut p sinon il vaut 1\n",
        "  return pr1*pr2\n",
        "\n",
        "#Et donc la log-vraisemblance d'un échantillon de donnée est facile a calculer\n",
        "def Likelyhood(X,theta):\n",
        "  p = theta[0]\n",
        "  p2 = 1 - theta[0]\n",
        "  P_X = torch.pow(p2,(1-X))*torch.pow(p,X) #S'applique sur un tenseur pareil que sur un scalaire \n",
        "  return P_X"
      ],
      "execution_count": null,
      "outputs": []
    },
    {
      "cell_type": "code",
      "metadata": {
        "colab": {
          "base_uri": "https://localhost:8080/"
        },
        "id": "-1tmFqtqGai2",
        "outputId": "c8efed1d-1919-469f-b35f-8e3d7d0418e3"
      },
      "source": [
        "theta = Variable(torch.tensor([0.2,]),requires_grad=True)\n",
        "Likelyhood(torch.tensor(X),theta)"
      ],
      "execution_count": null,
      "outputs": [
        {
          "output_type": "execute_result",
          "data": {
            "text/plain": [
              "tensor([0.2000, 0.8000, 0.2000, 0.8000, 0.2000, 0.8000, 0.8000, 0.2000],\n",
              "       grad_fn=<MulBackward0>)"
            ]
          },
          "metadata": {
            "tags": []
          },
          "execution_count": 53
        }
      ]
    },
    {
      "cell_type": "code",
      "metadata": {
        "id": "PIX1W89uG-cA"
      },
      "source": [
        "def logLikelihood(X,theta):\n",
        "  datas = torch.tensor(X)\n",
        "  return -torch.sum(torch.log(Likelyhood(datas,theta)))"
      ],
      "execution_count": null,
      "outputs": []
    },
    {
      "cell_type": "code",
      "metadata": {
        "colab": {
          "base_uri": "https://localhost:8080/",
          "height": 610
        },
        "id": "nm2uXblkHmyx",
        "outputId": "e5bbb8fe-8bb6-4fe6-b8d3-3d09605e11a2"
      },
      "source": [
        "X = [1, 0, 1, 0, 1, 0, 0, 1]\n",
        "log_l = logLikelihood(X,theta)\n",
        "make_dot(log_l)"
      ],
      "execution_count": null,
      "outputs": [
        {
          "output_type": "execute_result",
          "data": {
            "text/plain": [
              "<graphviz.dot.Digraph at 0x7f2c22c757f0>"
            ],
            "image/svg+xml": "<?xml version=\"1.0\" encoding=\"UTF-8\" standalone=\"no\"?>\n<!DOCTYPE svg PUBLIC \"-//W3C//DTD SVG 1.1//EN\"\n \"http://www.w3.org/Graphics/SVG/1.1/DTD/svg11.dtd\">\n<!-- Generated by graphviz version 2.40.1 (20161225.0304)\n -->\n<!-- Title: %3 Pages: 1 -->\n<svg width=\"215pt\" height=\"442pt\"\n viewBox=\"0.00 0.00 215.00 442.00\" xmlns=\"http://www.w3.org/2000/svg\" xmlns:xlink=\"http://www.w3.org/1999/xlink\">\n<g id=\"graph0\" class=\"graph\" transform=\"scale(1 1) rotate(0) translate(4 438)\">\n<title>%3</title>\n<polygon fill=\"#ffffff\" stroke=\"transparent\" points=\"-4,4 -4,-438 211,-438 211,4 -4,4\"/>\n<!-- 139827538779048 -->\n<g id=\"node1\" class=\"node\">\n<title>139827538779048</title>\n<polygon fill=\"#caff70\" stroke=\"#000000\" points=\"146,-21 60,-21 60,0 146,0 146,-21\"/>\n<text text-anchor=\"middle\" x=\"103\" y=\"-7.4\" font-family=\"Times,serif\" font-size=\"12.00\" fill=\"#000000\">NegBackward</text>\n</g>\n<!-- 139827538778488 -->\n<g id=\"node2\" class=\"node\">\n<title>139827538778488</title>\n<polygon fill=\"#d3d3d3\" stroke=\"#000000\" points=\"149.5,-78 56.5,-78 56.5,-57 149.5,-57 149.5,-78\"/>\n<text text-anchor=\"middle\" x=\"103\" y=\"-64.4\" font-family=\"Times,serif\" font-size=\"12.00\" fill=\"#000000\">SumBackward0</text>\n</g>\n<!-- 139827538778488&#45;&gt;139827538779048 -->\n<g id=\"edge1\" class=\"edge\">\n<title>139827538778488&#45;&gt;139827538779048</title>\n<path fill=\"none\" stroke=\"#000000\" d=\"M103,-56.7787C103,-49.6134 103,-39.9517 103,-31.3097\"/>\n<polygon fill=\"#000000\" stroke=\"#000000\" points=\"106.5001,-31.1732 103,-21.1732 99.5001,-31.1732 106.5001,-31.1732\"/>\n</g>\n<!-- 139827538776416 -->\n<g id=\"node3\" class=\"node\">\n<title>139827538776416</title>\n<polygon fill=\"#d3d3d3\" stroke=\"#000000\" points=\"145.5,-135 60.5,-135 60.5,-114 145.5,-114 145.5,-135\"/>\n<text text-anchor=\"middle\" x=\"103\" y=\"-121.4\" font-family=\"Times,serif\" font-size=\"12.00\" fill=\"#000000\">LogBackward</text>\n</g>\n<!-- 139827538776416&#45;&gt;139827538778488 -->\n<g id=\"edge2\" class=\"edge\">\n<title>139827538776416&#45;&gt;139827538778488</title>\n<path fill=\"none\" stroke=\"#000000\" d=\"M103,-113.7787C103,-106.6134 103,-96.9517 103,-88.3097\"/>\n<polygon fill=\"#000000\" stroke=\"#000000\" points=\"106.5001,-88.1732 103,-78.1732 99.5001,-88.1732 106.5001,-88.1732\"/>\n</g>\n<!-- 139827538778880 -->\n<g id=\"node4\" class=\"node\">\n<title>139827538778880</title>\n<polygon fill=\"#d3d3d3\" stroke=\"#000000\" points=\"148.5,-192 57.5,-192 57.5,-171 148.5,-171 148.5,-192\"/>\n<text text-anchor=\"middle\" x=\"103\" y=\"-178.4\" font-family=\"Times,serif\" font-size=\"12.00\" fill=\"#000000\">MulBackward0</text>\n</g>\n<!-- 139827538778880&#45;&gt;139827538776416 -->\n<g id=\"edge3\" class=\"edge\">\n<title>139827538778880&#45;&gt;139827538776416</title>\n<path fill=\"none\" stroke=\"#000000\" d=\"M103,-170.7787C103,-163.6134 103,-153.9517 103,-145.3097\"/>\n<polygon fill=\"#000000\" stroke=\"#000000\" points=\"106.5001,-145.1732 103,-135.1732 99.5001,-145.1732 106.5001,-145.1732\"/>\n</g>\n<!-- 139827538779160 -->\n<g id=\"node5\" class=\"node\">\n<title>139827538779160</title>\n<polygon fill=\"#d3d3d3\" stroke=\"#000000\" points=\"94.5,-249 1.5,-249 1.5,-228 94.5,-228 94.5,-249\"/>\n<text text-anchor=\"middle\" x=\"48\" y=\"-235.4\" font-family=\"Times,serif\" font-size=\"12.00\" fill=\"#000000\">PowBackward1</text>\n</g>\n<!-- 139827538779160&#45;&gt;139827538778880 -->\n<g id=\"edge4\" class=\"edge\">\n<title>139827538779160&#45;&gt;139827538778880</title>\n<path fill=\"none\" stroke=\"#000000\" d=\"M58.3451,-227.7787C66.0272,-219.8173 76.6831,-208.7739 85.6589,-199.4717\"/>\n<polygon fill=\"#000000\" stroke=\"#000000\" points=\"88.2763,-201.7997 92.7013,-192.1732 83.2389,-196.9391 88.2763,-201.7997\"/>\n</g>\n<!-- 139827538777480 -->\n<g id=\"node6\" class=\"node\">\n<title>139827538777480</title>\n<polygon fill=\"#d3d3d3\" stroke=\"#000000\" points=\"96,-306 0,-306 0,-285 96,-285 96,-306\"/>\n<text text-anchor=\"middle\" x=\"48\" y=\"-292.4\" font-family=\"Times,serif\" font-size=\"12.00\" fill=\"#000000\">RsubBackward1</text>\n</g>\n<!-- 139827538777480&#45;&gt;139827538779160 -->\n<g id=\"edge5\" class=\"edge\">\n<title>139827538777480&#45;&gt;139827538779160</title>\n<path fill=\"none\" stroke=\"#000000\" d=\"M48,-284.7787C48,-277.6134 48,-267.9517 48,-259.3097\"/>\n<polygon fill=\"#000000\" stroke=\"#000000\" points=\"51.5001,-259.1732 48,-249.1732 44.5001,-259.1732 51.5001,-259.1732\"/>\n</g>\n<!-- 139827538777928 -->\n<g id=\"node7\" class=\"node\">\n<title>139827538777928</title>\n<polygon fill=\"#d3d3d3\" stroke=\"#000000\" points=\"95,-363 1,-363 1,-342 95,-342 95,-363\"/>\n<text text-anchor=\"middle\" x=\"48\" y=\"-349.4\" font-family=\"Times,serif\" font-size=\"12.00\" fill=\"#000000\">SelectBackward</text>\n</g>\n<!-- 139827538777928&#45;&gt;139827538777480 -->\n<g id=\"edge6\" class=\"edge\">\n<title>139827538777928&#45;&gt;139827538777480</title>\n<path fill=\"none\" stroke=\"#000000\" d=\"M48,-341.7787C48,-334.6134 48,-324.9517 48,-316.3097\"/>\n<polygon fill=\"#000000\" stroke=\"#000000\" points=\"51.5001,-316.1732 48,-306.1732 44.5001,-316.1732 51.5001,-316.1732\"/>\n</g>\n<!-- 139827538777984 -->\n<g id=\"node8\" class=\"node\">\n<title>139827538777984</title>\n<polygon fill=\"#add8e6\" stroke=\"#000000\" points=\"131,-434 77,-434 77,-399 131,-399 131,-434\"/>\n<text text-anchor=\"middle\" x=\"104\" y=\"-406.4\" font-family=\"Times,serif\" font-size=\"12.00\" fill=\"#000000\"> (1)</text>\n</g>\n<!-- 139827538777984&#45;&gt;139827538777928 -->\n<g id=\"edge7\" class=\"edge\">\n<title>139827538777984&#45;&gt;139827538777928</title>\n<path fill=\"none\" stroke=\"#000000\" d=\"M88.4009,-398.6724C80.8471,-390.0396 71.7844,-379.6821 64.1583,-370.9666\"/>\n<polygon fill=\"#000000\" stroke=\"#000000\" points=\"66.6021,-368.4444 57.383,-363.2234 61.3341,-373.054 66.6021,-368.4444\"/>\n</g>\n<!-- 139827538776528 -->\n<g id=\"node10\" class=\"node\">\n<title>139827538776528</title>\n<polygon fill=\"#d3d3d3\" stroke=\"#000000\" points=\"207,-363 113,-363 113,-342 207,-342 207,-363\"/>\n<text text-anchor=\"middle\" x=\"160\" y=\"-349.4\" font-family=\"Times,serif\" font-size=\"12.00\" fill=\"#000000\">SelectBackward</text>\n</g>\n<!-- 139827538777984&#45;&gt;139827538776528 -->\n<g id=\"edge10\" class=\"edge\">\n<title>139827538777984&#45;&gt;139827538776528</title>\n<path fill=\"none\" stroke=\"#000000\" d=\"M119.5991,-398.6724C127.1529,-390.0396 136.2156,-379.6821 143.8417,-370.9666\"/>\n<polygon fill=\"#000000\" stroke=\"#000000\" points=\"146.6659,-373.054 150.617,-363.2234 141.3979,-368.4444 146.6659,-373.054\"/>\n</g>\n<!-- 139827538778656 -->\n<g id=\"node9\" class=\"node\">\n<title>139827538778656</title>\n<polygon fill=\"#d3d3d3\" stroke=\"#000000\" points=\"205.5,-249 112.5,-249 112.5,-228 205.5,-228 205.5,-249\"/>\n<text text-anchor=\"middle\" x=\"159\" y=\"-235.4\" font-family=\"Times,serif\" font-size=\"12.00\" fill=\"#000000\">PowBackward1</text>\n</g>\n<!-- 139827538778656&#45;&gt;139827538778880 -->\n<g id=\"edge8\" class=\"edge\">\n<title>139827538778656&#45;&gt;139827538778880</title>\n<path fill=\"none\" stroke=\"#000000\" d=\"M148.4668,-227.7787C140.645,-219.8173 129.7954,-208.7739 120.6564,-199.4717\"/>\n<polygon fill=\"#000000\" stroke=\"#000000\" points=\"122.9909,-196.8537 113.4859,-192.1732 117.9975,-201.7595 122.9909,-196.8537\"/>\n</g>\n<!-- 139827538776528&#45;&gt;139827538778656 -->\n<g id=\"edge9\" class=\"edge\">\n<title>139827538776528&#45;&gt;139827538778656</title>\n<path fill=\"none\" stroke=\"#000000\" d=\"M159.9077,-341.9795C159.7434,-323.242 159.3971,-283.7701 159.183,-259.3565\"/>\n<polygon fill=\"#000000\" stroke=\"#000000\" points=\"162.6827,-259.2965 159.095,-249.3276 155.6829,-259.358 162.6827,-259.2965\"/>\n</g>\n</g>\n</svg>\n"
          },
          "metadata": {
            "tags": []
          },
          "execution_count": 55
        }
      ]
    },
    {
      "cell_type": "code",
      "metadata": {
        "colab": {
          "base_uri": "https://localhost:8080/",
          "height": 629
        },
        "id": "DQDiaPv5Hogl",
        "outputId": "048b79c4-03ae-4a81-fe53-bb9d0e8cef3a"
      },
      "source": [
        "#Quelqu'un peut dire pourquoi X est pas dans le graphe ? et qu'il est dans celui ci ? et lequel est plus correct\n",
        "def logLikelihood2(X,theta):\n",
        "  datas = torch.tensor(X,requires_grad=True)\n",
        "  return -torch.sum(torch.log(Likelyhood(datas,theta)))\n",
        "\n",
        "X = [1, 0, 1, 0, 1, 0, 0, 1]\n",
        "log_l = logLikelihood2(np.array(X).astype(float),theta)\n",
        "make_dot(log_l)"
      ],
      "execution_count": null,
      "outputs": [
        {
          "output_type": "execute_result",
          "data": {
            "text/plain": [
              "<graphviz.dot.Digraph at 0x7f2c22c751d0>"
            ],
            "image/svg+xml": "<?xml version=\"1.0\" encoding=\"UTF-8\" standalone=\"no\"?>\n<!DOCTYPE svg PUBLIC \"-//W3C//DTD SVG 1.1//EN\"\n \"http://www.w3.org/Graphics/SVG/1.1/DTD/svg11.dtd\">\n<!-- Generated by graphviz version 2.40.1 (20161225.0304)\n -->\n<!-- Title: %3 Pages: 1 -->\n<svg width=\"330pt\" height=\"456pt\"\n viewBox=\"0.00 0.00 329.50 456.00\" xmlns=\"http://www.w3.org/2000/svg\" xmlns:xlink=\"http://www.w3.org/1999/xlink\">\n<g id=\"graph0\" class=\"graph\" transform=\"scale(1 1) rotate(0) translate(4 452)\">\n<title>%3</title>\n<polygon fill=\"#ffffff\" stroke=\"transparent\" points=\"-4,4 -4,-452 325.5,-452 325.5,4 -4,4\"/>\n<!-- 139827538776416 -->\n<g id=\"node1\" class=\"node\">\n<title>139827538776416</title>\n<polygon fill=\"#caff70\" stroke=\"#000000\" points=\"145.5,-21 59.5,-21 59.5,0 145.5,0 145.5,-21\"/>\n<text text-anchor=\"middle\" x=\"102.5\" y=\"-7.4\" font-family=\"Times,serif\" font-size=\"12.00\" fill=\"#000000\">NegBackward</text>\n</g>\n<!-- 139827538777928 -->\n<g id=\"node2\" class=\"node\">\n<title>139827538777928</title>\n<polygon fill=\"#d3d3d3\" stroke=\"#000000\" points=\"149,-78 56,-78 56,-57 149,-57 149,-78\"/>\n<text text-anchor=\"middle\" x=\"102.5\" y=\"-64.4\" font-family=\"Times,serif\" font-size=\"12.00\" fill=\"#000000\">SumBackward0</text>\n</g>\n<!-- 139827538777928&#45;&gt;139827538776416 -->\n<g id=\"edge1\" class=\"edge\">\n<title>139827538777928&#45;&gt;139827538776416</title>\n<path fill=\"none\" stroke=\"#000000\" d=\"M102.5,-56.7787C102.5,-49.6134 102.5,-39.9517 102.5,-31.3097\"/>\n<polygon fill=\"#000000\" stroke=\"#000000\" points=\"106.0001,-31.1732 102.5,-21.1732 99.0001,-31.1732 106.0001,-31.1732\"/>\n</g>\n<!-- 139827538777984 -->\n<g id=\"node3\" class=\"node\">\n<title>139827538777984</title>\n<polygon fill=\"#d3d3d3\" stroke=\"#000000\" points=\"145,-135 60,-135 60,-114 145,-114 145,-135\"/>\n<text text-anchor=\"middle\" x=\"102.5\" y=\"-121.4\" font-family=\"Times,serif\" font-size=\"12.00\" fill=\"#000000\">LogBackward</text>\n</g>\n<!-- 139827538777984&#45;&gt;139827538777928 -->\n<g id=\"edge2\" class=\"edge\">\n<title>139827538777984&#45;&gt;139827538777928</title>\n<path fill=\"none\" stroke=\"#000000\" d=\"M102.5,-113.7787C102.5,-106.6134 102.5,-96.9517 102.5,-88.3097\"/>\n<polygon fill=\"#000000\" stroke=\"#000000\" points=\"106.0001,-88.1732 102.5,-78.1732 99.0001,-88.1732 106.0001,-88.1732\"/>\n</g>\n<!-- 139827538779160 -->\n<g id=\"node4\" class=\"node\">\n<title>139827538779160</title>\n<polygon fill=\"#d3d3d3\" stroke=\"#000000\" points=\"148,-192 57,-192 57,-171 148,-171 148,-192\"/>\n<text text-anchor=\"middle\" x=\"102.5\" y=\"-178.4\" font-family=\"Times,serif\" font-size=\"12.00\" fill=\"#000000\">MulBackward0</text>\n</g>\n<!-- 139827538779160&#45;&gt;139827538777984 -->\n<g id=\"edge3\" class=\"edge\">\n<title>139827538779160&#45;&gt;139827538777984</title>\n<path fill=\"none\" stroke=\"#000000\" d=\"M102.5,-170.7787C102.5,-163.6134 102.5,-153.9517 102.5,-145.3097\"/>\n<polygon fill=\"#000000\" stroke=\"#000000\" points=\"106.0001,-145.1732 102.5,-135.1732 99.0001,-145.1732 106.0001,-145.1732\"/>\n</g>\n<!-- 139829018011856 -->\n<g id=\"node5\" class=\"node\">\n<title>139829018011856</title>\n<polygon fill=\"#d3d3d3\" stroke=\"#000000\" points=\"206,-249 113,-249 113,-228 206,-228 206,-249\"/>\n<text text-anchor=\"middle\" x=\"159.5\" y=\"-235.4\" font-family=\"Times,serif\" font-size=\"12.00\" fill=\"#000000\">PowBackward1</text>\n</g>\n<!-- 139829018011856&#45;&gt;139827538779160 -->\n<g id=\"edge4\" class=\"edge\">\n<title>139829018011856&#45;&gt;139827538779160</title>\n<path fill=\"none\" stroke=\"#000000\" d=\"M148.7787,-227.7787C140.8173,-219.8173 129.7739,-208.7739 120.4717,-199.4717\"/>\n<polygon fill=\"#000000\" stroke=\"#000000\" points=\"122.7192,-196.7694 113.1732,-192.1732 117.7694,-201.7192 122.7192,-196.7694\"/>\n</g>\n<!-- 139829018028856 -->\n<g id=\"node6\" class=\"node\">\n<title>139829018028856</title>\n<polygon fill=\"#d3d3d3\" stroke=\"#000000\" points=\"321.5,-306 225.5,-306 225.5,-285 321.5,-285 321.5,-306\"/>\n<text text-anchor=\"middle\" x=\"273.5\" y=\"-292.4\" font-family=\"Times,serif\" font-size=\"12.00\" fill=\"#000000\">RsubBackward1</text>\n</g>\n<!-- 139829018028856&#45;&gt;139829018011856 -->\n<g id=\"edge5\" class=\"edge\">\n<title>139829018028856&#45;&gt;139829018011856</title>\n<path fill=\"none\" stroke=\"#000000\" d=\"M252.3246,-284.9123C234.7279,-276.114 209.4708,-263.4854 189.744,-253.622\"/>\n<polygon fill=\"#000000\" stroke=\"#000000\" points=\"191.0715,-250.3727 180.562,-249.031 187.941,-256.6337 191.0715,-250.3727\"/>\n</g>\n<!-- 139829018822024 -->\n<g id=\"node7\" class=\"node\">\n<title>139829018822024</title>\n<polygon fill=\"#d3d3d3\" stroke=\"#000000\" points=\"306.5,-370 212.5,-370 212.5,-349 306.5,-349 306.5,-370\"/>\n<text text-anchor=\"middle\" x=\"259.5\" y=\"-356.4\" font-family=\"Times,serif\" font-size=\"12.00\" fill=\"#000000\">SelectBackward</text>\n</g>\n<!-- 139829018822024&#45;&gt;139829018028856 -->\n<g id=\"edge6\" class=\"edge\">\n<title>139829018822024&#45;&gt;139829018028856</title>\n<path fill=\"none\" stroke=\"#000000\" d=\"M261.8118,-348.9317C263.7456,-340.0913 266.563,-327.2122 268.947,-316.3135\"/>\n<polygon fill=\"#000000\" stroke=\"#000000\" points=\"272.4201,-316.8149 271.138,-306.2979 265.5818,-315.3189 272.4201,-316.8149\"/>\n</g>\n<!-- 139829019337896 -->\n<g id=\"node8\" class=\"node\">\n<title>139829019337896</title>\n<polygon fill=\"#add8e6\" stroke=\"#000000\" points=\"175.5,-448 121.5,-448 121.5,-413 175.5,-413 175.5,-448\"/>\n<text text-anchor=\"middle\" x=\"148.5\" y=\"-420.4\" font-family=\"Times,serif\" font-size=\"12.00\" fill=\"#000000\"> (1)</text>\n</g>\n<!-- 139829019337896&#45;&gt;139829018822024 -->\n<g id=\"edge7\" class=\"edge\">\n<title>139829019337896&#45;&gt;139829018822024</title>\n<path fill=\"none\" stroke=\"#000000\" d=\"M175.6537,-413.1314C193.5806,-401.6647 216.9012,-386.7479 234.3955,-375.5578\"/>\n<polygon fill=\"#000000\" stroke=\"#000000\" points=\"236.4152,-378.4207 242.9534,-370.0839 232.6433,-372.5239 236.4152,-378.4207\"/>\n</g>\n<!-- 139829018028296 -->\n<g id=\"node12\" class=\"node\">\n<title>139829018028296</title>\n<polygon fill=\"#d3d3d3\" stroke=\"#000000\" points=\"103.5,-370 9.5,-370 9.5,-349 103.5,-349 103.5,-370\"/>\n<text text-anchor=\"middle\" x=\"56.5\" y=\"-356.4\" font-family=\"Times,serif\" font-size=\"12.00\" fill=\"#000000\">SelectBackward</text>\n</g>\n<!-- 139829019337896&#45;&gt;139829018028296 -->\n<g id=\"edge12\" class=\"edge\">\n<title>139829019337896&#45;&gt;139829018028296</title>\n<path fill=\"none\" stroke=\"#000000\" d=\"M125.7584,-412.9494C111.3051,-401.7952 92.6945,-387.4327 78.4056,-376.4054\"/>\n<polygon fill=\"#000000\" stroke=\"#000000\" points=\"80.198,-373.3676 70.143,-370.0288 75.9213,-378.9093 80.198,-373.3676\"/>\n</g>\n<!-- 139829018028800 -->\n<g id=\"node9\" class=\"node\">\n<title>139829018028800</title>\n<polygon fill=\"#d3d3d3\" stroke=\"#000000\" points=\"207.5,-306 111.5,-306 111.5,-285 207.5,-285 207.5,-306\"/>\n<text text-anchor=\"middle\" x=\"159.5\" y=\"-292.4\" font-family=\"Times,serif\" font-size=\"12.00\" fill=\"#000000\">RsubBackward1</text>\n</g>\n<!-- 139829018028800&#45;&gt;139829018011856 -->\n<g id=\"edge8\" class=\"edge\">\n<title>139829018028800&#45;&gt;139829018011856</title>\n<path fill=\"none\" stroke=\"#000000\" d=\"M159.5,-284.7787C159.5,-277.6134 159.5,-267.9517 159.5,-259.3097\"/>\n<polygon fill=\"#000000\" stroke=\"#000000\" points=\"163.0001,-259.1732 159.5,-249.1732 156.0001,-259.1732 163.0001,-259.1732\"/>\n</g>\n<!-- 139829018821576 -->\n<g id=\"node10\" class=\"node\">\n<title>139829018821576</title>\n<polygon fill=\"#add8e6\" stroke=\"#000000\" points=\"180.5,-377 126.5,-377 126.5,-342 180.5,-342 180.5,-377\"/>\n<text text-anchor=\"middle\" x=\"153.5\" y=\"-349.4\" font-family=\"Times,serif\" font-size=\"12.00\" fill=\"#000000\"> (8)</text>\n</g>\n<!-- 139829018821576&#45;&gt;139829018028800 -->\n<g id=\"edge9\" class=\"edge\">\n<title>139829018821576&#45;&gt;139829018028800</title>\n<path fill=\"none\" stroke=\"#000000\" d=\"M155.1713,-341.6724C155.9056,-333.8405 156.7729,-324.5893 157.5376,-316.4323\"/>\n<polygon fill=\"#000000\" stroke=\"#000000\" points=\"161.0459,-316.5065 158.4947,-306.2234 154.0765,-315.853 161.0459,-316.5065\"/>\n</g>\n<!-- 139829016673584 -->\n<g id=\"node11\" class=\"node\">\n<title>139829016673584</title>\n<polygon fill=\"#d3d3d3\" stroke=\"#000000\" points=\"93,-306 0,-306 0,-285 93,-285 93,-306\"/>\n<text text-anchor=\"middle\" x=\"46.5\" y=\"-292.4\" font-family=\"Times,serif\" font-size=\"12.00\" fill=\"#000000\">PowBackward1</text>\n</g>\n<!-- 139829018821576&#45;&gt;139829016673584 -->\n<g id=\"edge13\" class=\"edge\">\n<title>139829018821576&#45;&gt;139829016673584</title>\n<path fill=\"none\" stroke=\"#000000\" d=\"M126.4994,-343.3501C110.1455,-333.5683 89.372,-321.1431 73.0924,-311.4058\"/>\n<polygon fill=\"#000000\" stroke=\"#000000\" points=\"74.4726,-308.153 64.094,-306.0235 70.8793,-314.1604 74.4726,-308.153\"/>\n</g>\n<!-- 139829016673584&#45;&gt;139827538779160 -->\n<g id=\"edge10\" class=\"edge\">\n<title>139829016673584&#45;&gt;139827538779160</title>\n<path fill=\"none\" stroke=\"#000000\" d=\"M51.668,-284.9795C60.9967,-265.9888 80.7879,-225.6995 92.7368,-201.3751\"/>\n<polygon fill=\"#000000\" stroke=\"#000000\" points=\"95.9135,-202.8464 97.1812,-192.3276 89.6306,-199.76 95.9135,-202.8464\"/>\n</g>\n<!-- 139829018028296&#45;&gt;139829016673584 -->\n<g id=\"edge11\" class=\"edge\">\n<title>139829018028296&#45;&gt;139829016673584</title>\n<path fill=\"none\" stroke=\"#000000\" d=\"M54.8487,-348.9317C53.4674,-340.0913 51.455,-327.2122 49.7521,-316.3135\"/>\n<polygon fill=\"#000000\" stroke=\"#000000\" points=\"53.1891,-315.6377 48.1872,-306.2979 46.273,-316.7184 53.1891,-315.6377\"/>\n</g>\n</g>\n</svg>\n"
          },
          "metadata": {
            "tags": []
          },
          "execution_count": 56
        }
      ]
    },
    {
      "cell_type": "markdown",
      "metadata": {
        "id": "u21JVxkEKHFT"
      },
      "source": [
        "**Etape 03** On optimize ! C'est différentiable donc aucun souci de ce coté la."
      ]
    },
    {
      "cell_type": "code",
      "metadata": {
        "colab": {
          "base_uri": "https://localhost:8080/"
        },
        "id": "ew5JZUkYJd2M",
        "outputId": "fad3d1be-8399-4873-eb79-36ca357b65c9"
      },
      "source": [
        "X = [1, 0, 1, 0, 1 , 1, 1, 1]\n",
        "\n",
        "\n",
        "def logLikelihood(X,theta):\n",
        "  datas = torch.tensor(X)\n",
        "  return -torch.sum(torch.log(Likelyhood(datas,theta)))\n",
        "\n",
        "\n",
        "theta = torch.rand((1,))\n",
        "theta = Variable(theta, requires_grad=True)\n",
        "\n",
        "optimizer = torch.optim.SGD( [theta], lr=1e-3)\n",
        "\n",
        "for i in range(1000):\n",
        "  log_l = logLikelihood(X,theta)\n",
        "\n",
        "  log_l.backward()\n",
        "  \n",
        "  optimizer.step()\n",
        "  optimizer.zero_grad()\n",
        "\n",
        "print(theta)"
      ],
      "execution_count": null,
      "outputs": [
        {
          "output_type": "stream",
          "text": [
            "tensor([0.7500], requires_grad=True)\n"
          ],
          "name": "stdout"
        }
      ]
    },
    {
      "cell_type": "code",
      "metadata": {
        "colab": {
          "base_uri": "https://localhost:8080/"
        },
        "id": "rp6ZaaqqKb3Z",
        "outputId": "2e643dd1-3fc3-485e-ad46-438bf0b91fcc"
      },
      "source": [
        "X = np.random.randint(0,2,250)\n",
        "\n",
        "\n",
        "def logLikelihood(X,theta):\n",
        "  datas = torch.tensor(X)\n",
        "  return -torch.sum(torch.log(Likelyhood(datas,theta)))\n",
        "\n",
        "\n",
        "theta = torch.rand((1,))\n",
        "theta = Variable(theta, requires_grad=True)\n",
        "optimizer = torch.optim.SGD([theta], lr=1e-3)\n",
        "for i in range(1000):\n",
        "  log_l = logLikelihood(X,theta)\n",
        "  log_l.backward()\n",
        "  optimizer.step()\n",
        "  optimizer.zero_grad()\n",
        "\n",
        "print(theta)\n",
        "print(\"Mean of X : \",X.mean())"
      ],
      "execution_count": null,
      "outputs": [
        {
          "output_type": "stream",
          "text": [
            "tensor([0.5000], requires_grad=True)\n",
            "Mean of X :  0.5\n"
          ],
          "name": "stdout"
        }
      ]
    },
    {
      "cell_type": "markdown",
      "metadata": {
        "id": "SVef7PW3LkYl"
      },
      "source": [
        "Donc pour faire bref vous pouvez modéliser n'importe quel phénomène par n'importe quel distribution qui vous viens en tête, vous pourrez toujours apprendre les paramètres de cette distribution en maximisant la vraisemblance par une descente de gradient.\n",
        "\n",
        "Ici le modèle est simple pour que vous puissiez facilement comprendre l'idée mais des modéles très sophistiqués existent dans la littérature voire [ici](https://towardsdatascience.com/probability-concepts-explained-maximum-likelihood-estimation-c7b4342fdbb1) si ça vous intéresse"
      ]
    },
    {
      "cell_type": "markdown",
      "metadata": {
        "id": "Qr6mdMcwMbwl"
      },
      "source": [
        "## Approche par minimisation du coût la plus simple de l'univers : une regréssion linéaire\n",
        "\n",
        "Un modèle de regréssion linéaire tente de prédire une variable y a partir de plusieurs samples rangés dans une matrice X.\n",
        "\n",
        "Le nombre de colonnes de X représente le nombre d'attributs.\n",
        "\n",
        "Le nombre de lignes de X représente le nombre d'exemples.\n",
        "\n",
        "On va aborder successivement trois exemples : \n",
        "\n",
        "1. Regression de données jouet un attribut (visualisable).\n",
        "2. Regression de données jouet a plusieurs attributs.\n"
      ]
    },
    {
      "cell_type": "markdown",
      "metadata": {
        "id": "hbgmsh_CfJfw"
      },
      "source": [
        "### Regression de données jouet avec un attribut"
      ]
    },
    {
      "cell_type": "code",
      "metadata": {
        "colab": {
          "base_uri": "https://localhost:8080/",
          "height": 283
        },
        "id": "Upwn2vYqeE7F",
        "outputId": "5d2e7d4b-b342-4ccb-8b6e-0828bc574ace"
      },
      "source": [
        "import numpy as np\n",
        "import matplotlib.pyplot as plt\n",
        "import torch\n",
        "from torch.autograd import Variable\n",
        "#On va commencer par une regression sur un seule attribut parce qu'on peut la visualiser facilement\n",
        "X = np.linspace(-10,10,50)\n",
        "X = torch.tensor(X)\n",
        "y = 3*X + 5 + 2*np.random.normal(0,1,X.shape)\n",
        "#La j'affiche le nuage de points\n",
        "plt.scatter(X,y)\n",
        "#La j'affiche la droite qui l'a généré et qu'on va essayer de reconstruire\n",
        "plt.plot(X,3*X + 5)"
      ],
      "execution_count": 29,
      "outputs": [
        {
          "output_type": "execute_result",
          "data": {
            "text/plain": [
              "[<matplotlib.lines.Line2D at 0x7f37df75d198>]"
            ]
          },
          "metadata": {
            "tags": []
          },
          "execution_count": 29
        },
        {
          "output_type": "display_data",
          "data": {
            "image/png": "[encoded data removed]",
            "text/plain": [
              "<Figure size 432x288 with 1 Axes>"
            ]
          },
          "metadata": {
            "tags": [],
            "needs_background": "light"
          }
        }
      ]
    },
    {
      "cell_type": "code",
      "metadata": {
        "colab": {
          "base_uri": "https://localhost:8080/"
        },
        "id": "5HgCkDOeg_er",
        "outputId": "c4daecad-d1c2-4a9f-8c0f-bc4f7a7b3d1f"
      },
      "source": [
        "\n",
        "#Rappel une droite c'est y = a.x +b donc ici il s'agit d'apprendre a et b donc un vecteur de variables a deux composante theta = [a,b]\n",
        "theta = torch.rand(2)\n",
        "theta = Variable(theta, requires_grad= True)\n",
        "theta"
      ],
      "execution_count": 30,
      "outputs": [
        {
          "output_type": "execute_result",
          "data": {
            "text/plain": [
              "tensor([0.1865, 0.2759], requires_grad=True)"
            ]
          },
          "metadata": {
            "tags": []
          },
          "execution_count": 30
        }
      ]
    },
    {
      "cell_type": "code",
      "metadata": {
        "colab": {
          "base_uri": "https://localhost:8080/"
        },
        "id": "I5guLYvPjABs",
        "outputId": "e41dbf8e-babe-4c17-9fa8-1fb390152fed"
      },
      "source": [
        "#A présent il faut définir comment calculer les prédictions pour un vecteur de paramètres theta fixé et pour ce faire on va utiliser une astuce de calcul\n",
        "# [x,1]@[a,b].T donne ax + b donc on va ajouter une colonne de 1 et on aura X@theta qui générera une matrice colonne de prédictions\n",
        "\n",
        "#On génére autant de 1 qu'il n'y a de X\n",
        "o = torch.ones(X.shape[0])\n",
        "#On les STACK (on ne les concatène pas)\n",
        "X_o = torch.stack([torch.tensor(X),o])\n",
        "X_o.shape"
      ],
      "execution_count": 31,
      "outputs": [
        {
          "output_type": "stream",
          "text": [
            "/usr/local/lib/python3.6/dist-packages/ipykernel_launcher.py:7: UserWarning: To copy construct from a tensor, it is recommended to use sourceTensor.clone().detach() or sourceTensor.clone().detach().requires_grad_(True), rather than torch.tensor(sourceTensor).\n",
            "  import sys\n"
          ],
          "name": "stderr"
        },
        {
          "output_type": "execute_result",
          "data": {
            "text/plain": [
              "torch.Size([2, 50])"
            ]
          },
          "metadata": {
            "tags": []
          },
          "execution_count": 31
        }
      ]
    },
    {
      "cell_type": "code",
      "metadata": {
        "colab": {
          "base_uri": "https://localhost:8080/"
        },
        "id": "sIYObdmxmTpP",
        "outputId": "a603ee2b-0ec8-40ab-d1b3-15f675c66fd3"
      },
      "source": [
        "#On préférerais avoir 50 lignes et deux colonnes donc on transpose ça \n",
        "o = torch.ones(X.shape[0])\n",
        "X_o = torch.stack([torch.tensor(X),o]).T #J'ai ajouté un .T\n",
        "X_o.shape"
      ],
      "execution_count": 32,
      "outputs": [
        {
          "output_type": "stream",
          "text": [
            "/usr/local/lib/python3.6/dist-packages/ipykernel_launcher.py:3: UserWarning: To copy construct from a tensor, it is recommended to use sourceTensor.clone().detach() or sourceTensor.clone().detach().requires_grad_(True), rather than torch.tensor(sourceTensor).\n",
            "  This is separate from the ipykernel package so we can avoid doing imports until\n"
          ],
          "name": "stderr"
        },
        {
          "output_type": "execute_result",
          "data": {
            "text/plain": [
              "torch.Size([50, 2])"
            ]
          },
          "metadata": {
            "tags": []
          },
          "execution_count": 32
        }
      ]
    },
    {
      "cell_type": "code",
      "metadata": {
        "colab": {
          "base_uri": "https://localhost:8080/"
        },
        "id": "Q1SfjuH5k_Og",
        "outputId": "732c9539-99ae-4211-bbf8-c6d5df5135c0"
      },
      "source": [
        "#Donc la on peut facilement calculer la prédiction\n",
        "#Bon reflexe avant de faire une multiplication matricielle vérifier la forme de theta\n",
        "theta.shape"
      ],
      "execution_count": 33,
      "outputs": [
        {
          "output_type": "execute_result",
          "data": {
            "text/plain": [
              "torch.Size([2])"
            ]
          },
          "metadata": {
            "tags": []
          },
          "execution_count": 33
        }
      ]
    },
    {
      "cell_type": "code",
      "metadata": {
        "colab": {
          "base_uri": "https://localhost:8080/"
        },
        "id": "C3oR0jj3l2oF",
        "outputId": "f90f5505-ba7c-4ff8-ffa2-a178098f6fd1"
      },
      "source": [
        "#ça cloche parce que theta est un vecteur et X_o une matrice donc on va changer la shape avec view\n",
        "theta.view((2,1))\n",
        "#J'ai mis (2,1) comme shape comme ça X_o@theta va donner (50,2)@(2,1) -> (50,1) -> (50)"
      ],
      "execution_count": 34,
      "outputs": [
        {
          "output_type": "execute_result",
          "data": {
            "text/plain": [
              "tensor([[0.1865],\n",
              "        [0.2759]], grad_fn=<ViewBackward>)"
            ]
          },
          "metadata": {
            "tags": []
          },
          "execution_count": 34
        }
      ]
    },
    {
      "cell_type": "code",
      "metadata": {
        "colab": {
          "base_uri": "https://localhost:8080/"
        },
        "id": "Nwu4VPDanW_l",
        "outputId": "1710606d-a153-474d-e779-a9399541cbab"
      },
      "source": [
        "# testez ça torch.matmul(X_o,theta)\n",
        "y_p = torch.matmul(X_o.float(),theta)\n",
        "y_p "
      ],
      "execution_count": 35,
      "outputs": [
        {
          "output_type": "execute_result",
          "data": {
            "text/plain": [
              "tensor([-1.5888, -1.5127, -1.4366, -1.3605, -1.2844, -1.2083, -1.1322, -1.0560,\n",
              "        -0.9799, -0.9038, -0.8277, -0.7516, -0.6755, -0.5994, -0.5233, -0.4472,\n",
              "        -0.3711, -0.2950, -0.2188, -0.1427, -0.0666,  0.0095,  0.0856,  0.1617,\n",
              "         0.2378,  0.3139,  0.3900,  0.4661,  0.5422,  0.6184,  0.6945,  0.7706,\n",
              "         0.8467,  0.9228,  0.9989,  1.0750,  1.1511,  1.2272,  1.3033,  1.3794,\n",
              "         1.4556,  1.5317,  1.6078,  1.6839,  1.7600,  1.8361,  1.9122,  1.9883,\n",
              "         2.0644,  2.1405], grad_fn=<MvBackward>)"
            ]
          },
          "metadata": {
            "tags": []
          },
          "execution_count": 35
        }
      ]
    },
    {
      "cell_type": "code",
      "metadata": {
        "colab": {
          "base_uri": "https://localhost:8080/"
        },
        "id": "vY9xm652nZwM",
        "outputId": "c0762989-d5e6-4ead-951b-3a5385125191"
      },
      "source": [
        "import torch\n",
        "from torch.autograd import Variable\n",
        "#La loss qu'on va utiliser est la distance au sens des moindres carrés\n",
        "\n",
        "#On récapitule\n",
        "def loss(theta: torch.tensor,X : torch.tensor ,y_true: torch.tensor) -> torch.tensor:\n",
        "  \"\"\"\n",
        "  Compute the mean square error loss between the prediction and the real target\n",
        "  Params:\n",
        "    - theta: vector [a,b] of params\n",
        "    - X: Data\n",
        "    - y_true: labels\n",
        "  Returns: \n",
        "    -y_p: Predicted labels\n",
        "    -loss: mean square loss\n",
        "  \"\"\"\n",
        "  y_p = torch.matmul(X.float(),theta)\n",
        "  loss = torch.mean(torch.pow(y_p-y_true,2))\n",
        "  return y_p, loss\n",
        "\n",
        "#ça c'est des prétraitement\n",
        "theta = torch.rand(2)\n",
        "theta = Variable(theta, requires_grad= True)\n",
        "theta.view((2,1))\n",
        "o = torch.ones(X.shape[0])\n",
        "X_o = torch.stack([torch.tensor(X),o]).T \n",
        "#On test la fonction\n",
        "y_true = torch.tensor(y)\n",
        "loss(theta,X_o,y_true)"
      ],
      "execution_count": 36,
      "outputs": [
        {
          "output_type": "stream",
          "text": [
            "/usr/local/lib/python3.6/dist-packages/ipykernel_launcher.py:26: UserWarning: To copy construct from a tensor, it is recommended to use sourceTensor.clone().detach() or sourceTensor.clone().detach().requires_grad_(True), rather than torch.tensor(sourceTensor).\n",
            "/usr/local/lib/python3.6/dist-packages/ipykernel_launcher.py:28: UserWarning: To copy construct from a tensor, it is recommended to use sourceTensor.clone().detach() or sourceTensor.clone().detach().requires_grad_(True), rather than torch.tensor(sourceTensor).\n"
          ],
          "name": "stderr"
        },
        {
          "output_type": "execute_result",
          "data": {
            "text/plain": [
              "(tensor([-1.8394, -1.7529, -1.6663, -1.5797, -1.4932, -1.4066, -1.3200, -1.2335,\n",
              "         -1.1469, -1.0603, -0.9738, -0.8872, -0.8006, -0.7141, -0.6275, -0.5409,\n",
              "         -0.4543, -0.3678, -0.2812, -0.1946, -0.1081, -0.0215,  0.0651,  0.1516,\n",
              "          0.2382,  0.3248,  0.4113,  0.4979,  0.5845,  0.6710,  0.7576,  0.8442,\n",
              "          0.9307,  1.0173,  1.1039,  1.1904,  1.2770,  1.3636,  1.4501,  1.5367,\n",
              "          1.6233,  1.7098,  1.7964,  1.8830,  1.9696,  2.0561,  2.1427,  2.2293,\n",
              "          2.3158,  2.4024], grad_fn=<MvBackward>),\n",
              " tensor(285.5882, dtype=torch.float64, grad_fn=<MeanBackward0>))"
            ]
          },
          "metadata": {
            "tags": []
          },
          "execution_count": 36
        }
      ]
    },
    {
      "cell_type": "code",
      "metadata": {
        "colab": {
          "base_uri": "https://localhost:8080/"
        },
        "id": "swOvuFA1rQnz",
        "outputId": "ad7f9787-2b46-4bfd-8fc9-9f82b9857b23"
      },
      "source": [
        "#Boucle d'optimisation\n",
        "theta = torch.rand(2)\n",
        "theta = Variable(theta, requires_grad= True)\n",
        "theta.view((2,1))\n",
        "o = torch.ones(X.shape[0])\n",
        "X_o = torch.stack([torch.tensor(X),o]).T \n",
        "y_true = torch.tensor(y)\n",
        "\n",
        "optimizer = torch.optim.SGD([theta], lr=1e-2)\n",
        "\n",
        "for i in range(20000):\n",
        "  _, mse_loss = loss(theta,X_o,y_true) #Osef des prédictions\n",
        "  mse_loss.backward()\n",
        "  optimizer.step()\n",
        "  optimizer.zero_grad()\n",
        "\n",
        "theta.detach().numpy()"
      ],
      "execution_count": 37,
      "outputs": [
        {
          "output_type": "stream",
          "text": [
            "/usr/local/lib/python3.6/dist-packages/ipykernel_launcher.py:6: UserWarning: To copy construct from a tensor, it is recommended to use sourceTensor.clone().detach() or sourceTensor.clone().detach().requires_grad_(True), rather than torch.tensor(sourceTensor).\n",
            "  \n",
            "/usr/local/lib/python3.6/dist-packages/ipykernel_launcher.py:7: UserWarning: To copy construct from a tensor, it is recommended to use sourceTensor.clone().detach() or sourceTensor.clone().detach().requires_grad_(True), rather than torch.tensor(sourceTensor).\n",
            "  import sys\n"
          ],
          "name": "stderr"
        },
        {
          "output_type": "execute_result",
          "data": {
            "text/plain": [
              "array([2.9538212, 4.9466534], dtype=float32)"
            ]
          },
          "metadata": {
            "tags": []
          },
          "execution_count": 37
        }
      ]
    },
    {
      "cell_type": "code",
      "metadata": {
        "colab": {
          "base_uri": "https://localhost:8080/",
          "height": 283
        },
        "id": "6AtmK5125Yo_",
        "outputId": "d7c98592-4f82-425a-a3c8-752e7a3dc7dc"
      },
      "source": [
        "#Voyons voire la droite qu'on obtient\n",
        "t = theta.detach().numpy()\n",
        "t = t.reshape((2,1))\n",
        "X_o = X_o.reshape((50,2))\n",
        "pred = X_o@t\n",
        "plt.plot(X,pred)\n",
        "plt.plot(X,3*X + 5, c=\"red\")\n",
        "plt.scatter(X,y)"
      ],
      "execution_count": 38,
      "outputs": [
        {
          "output_type": "execute_result",
          "data": {
            "text/plain": [
              "<matplotlib.collections.PathCollection at 0x7f37dc65a828>"
            ]
          },
          "metadata": {
            "tags": []
          },
          "execution_count": 38
        },
        {
          "output_type": "display_data",
          "data": {
            "image/png": "[encoded data removed]",
            "text/plain": [
              "<Figure size 432x288 with 1 Axes>"
            ]
          },
          "metadata": {
            "tags": [],
            "needs_background": "light"
          }
        }
      ]
    },
    {
      "cell_type": "markdown",
      "metadata": {
        "id": "BS_RAO-h8xlE"
      },
      "source": [
        "### Regression de données jouet avec plusieurs attributs\n",
        "On génère plusieurs colonnes de données cette fois, "
      ]
    },
    {
      "cell_type": "code",
      "metadata": {
        "colab": {
          "base_uri": "https://localhost:8080/"
        },
        "id": "uwHNHIvI9HxC",
        "outputId": "613e39e2-a1ee-487f-a230-86226e3a79ff"
      },
      "source": [
        "#On génère des données jouet\n",
        "N_LIGNES = 1000\n",
        "N_COLONNES = 15\n",
        "X = np.random.random((N_LIGNES,N_COLONNES))\n",
        "X = torch.tensor(X)\n",
        "X.shape"
      ],
      "execution_count": 39,
      "outputs": [
        {
          "output_type": "execute_result",
          "data": {
            "text/plain": [
              "torch.Size([1000, 15])"
            ]
          },
          "metadata": {
            "tags": []
          },
          "execution_count": 39
        }
      ]
    },
    {
      "cell_type": "code",
      "metadata": {
        "colab": {
          "base_uri": "https://localhost:8080/"
        },
        "id": "FkgQ1ckz90Bn",
        "outputId": "0ab7575d-9f96-4951-a00e-5c75a0dcbb41"
      },
      "source": [
        "#On défini un theta_v qui va nous servir a générer un y\n",
        "theta_v = np.random.randint(0,40,N_COLONNES).reshape((N_COLONNES,1))\n",
        "theta_v = torch.tensor(theta_v).float()\n",
        "print(theta_v.shape)\n",
        "print(theta_v.T)"
      ],
      "execution_count": 40,
      "outputs": [
        {
          "output_type": "stream",
          "text": [
            "torch.Size([15, 1])\n",
            "tensor([[ 3., 21., 10.,  3.,  4., 22., 21., 27.,  6.,  0.,  8., 13., 25.,  5.,\n",
            "         27.]])\n"
          ],
          "name": "stdout"
        }
      ]
    },
    {
      "cell_type": "code",
      "metadata": {
        "colab": {
          "base_uri": "https://localhost:8080/"
        },
        "id": "x_meVkQI-V3r",
        "outputId": "a884a300-a54c-46cc-bd66-c7a36b08aeb5"
      },
      "source": [
        "#On génère les y\n",
        "y_t = torch.matmul(X.float(),theta_v)\n",
        "y = y_t + 2*np.random.normal(0,1,y_t.shape)\n",
        "y.shape"
      ],
      "execution_count": 41,
      "outputs": [
        {
          "output_type": "execute_result",
          "data": {
            "text/plain": [
              "torch.Size([1000, 1])"
            ]
          },
          "metadata": {
            "tags": []
          },
          "execution_count": 41
        }
      ]
    },
    {
      "cell_type": "code",
      "metadata": {
        "id": "0AZfSBW2BxHL",
        "colab": {
          "base_uri": "https://localhost:8080/"
        },
        "outputId": "7e4e32f7-181d-4c8e-952e-be5b67475c6e"
      },
      "source": [
        "X= torch.tensor(X).float()\n",
        "y_true = torch.tensor(y).float()"
      ],
      "execution_count": 42,
      "outputs": [
        {
          "output_type": "stream",
          "text": [
            "/usr/local/lib/python3.6/dist-packages/ipykernel_launcher.py:1: UserWarning: To copy construct from a tensor, it is recommended to use sourceTensor.clone().detach() or sourceTensor.clone().detach().requires_grad_(True), rather than torch.tensor(sourceTensor).\n",
            "  \"\"\"Entry point for launching an IPython kernel.\n",
            "/usr/local/lib/python3.6/dist-packages/ipykernel_launcher.py:2: UserWarning: To copy construct from a tensor, it is recommended to use sourceTensor.clone().detach() or sourceTensor.clone().detach().requires_grad_(True), rather than torch.tensor(sourceTensor).\n",
            "  \n"
          ],
          "name": "stderr"
        }
      ]
    },
    {
      "cell_type": "code",
      "metadata": {
        "id": "24RPiugP5vn0"
      },
      "source": [
        "#On récapitule\n",
        "def loss(theta: torch.tensor,X : torch.tensor ,y_true: torch.tensor) -> torch.tensor:\n",
        "  \"\"\"\n",
        "  Compute the mean square error loss between the prediction and the real target\n",
        "  Params:\n",
        "    - theta: vector of params\n",
        "    - X: Data\n",
        "    - y_true: labels\n",
        "  Returns: \n",
        "    -y_p: Predicted labels\n",
        "    -loss: mean square loss\n",
        "  \"\"\"\n",
        "  y_p = torch.matmul(X.float(),theta)\n",
        "  loss = torch.mean(torch.pow(y_p-y_true,2))\n",
        "  return y_p, loss"
      ],
      "execution_count": 43,
      "outputs": []
    },
    {
      "cell_type": "code",
      "metadata": {
        "colab": {
          "base_uri": "https://localhost:8080/",
          "height": 308
        },
        "id": "0j1iTIAN_W51",
        "outputId": "b8c265a6-0503-4051-b7f4-26c2a5f89efe"
      },
      "source": [
        "from IPython.display import clear_output, display\n",
        "\n",
        "theta = torch.rand(N_COLONNES).view((N_COLONNES,1))\n",
        "theta = Variable(theta.float(), requires_grad= True)\n",
        "theta.view((N_COLONNES,1))\n",
        "optimizer = torch.optim.Adam([theta], lr=1e-1)\n",
        "for i in range(10000):\n",
        "  _, mse_loss = loss(theta,X,y_true) #Osef des prédictions\n",
        "  mse_loss.backward()\n",
        "  optimizer.step()\n",
        "  optimizer.zero_grad()\n",
        "\n",
        "\n",
        "display(mse_loss)\n",
        "theta.detach().numpy()\n"
      ],
      "execution_count": 44,
      "outputs": [
        {
          "output_type": "display_data",
          "data": {
            "text/plain": [
              "tensor(4.1610, grad_fn=<MeanBackward0>)"
            ]
          },
          "metadata": {
            "tags": []
          }
        },
        {
          "output_type": "execute_result",
          "data": {
            "text/plain": [
              "array([[ 2.489208  ],\n",
              "       [20.926727  ],\n",
              "       [10.195306  ],\n",
              "       [ 3.1182218 ],\n",
              "       [ 3.9223106 ],\n",
              "       [22.021473  ],\n",
              "       [21.079546  ],\n",
              "       [27.151876  ],\n",
              "       [ 6.0141487 ],\n",
              "       [-0.30483723],\n",
              "       [ 7.988094  ],\n",
              "       [12.966964  ],\n",
              "       [25.127287  ],\n",
              "       [ 5.3470235 ],\n",
              "       [26.678244  ]], dtype=float32)"
            ]
          },
          "metadata": {
            "tags": []
          },
          "execution_count": 44
        }
      ]
    },
    {
      "cell_type": "code",
      "metadata": {
        "colab": {
          "base_uri": "https://localhost:8080/"
        },
        "id": "4ZC83OejADr6",
        "outputId": "10b03557-9f6a-4b2d-917f-7e82a0e34cfd"
      },
      "source": [
        "theta_v.T"
      ],
      "execution_count": 45,
      "outputs": [
        {
          "output_type": "execute_result",
          "data": {
            "text/plain": [
              "tensor([[ 3., 21., 10.,  3.,  4., 22., 21., 27.,  6.,  0.,  8., 13., 25.,  5.,\n",
              "         27.]])"
            ]
          },
          "metadata": {
            "tags": []
          },
          "execution_count": 45
        }
      ]
    },
    {
      "cell_type": "code",
      "metadata": {
        "colab": {
          "base_uri": "https://localhost:8080/"
        },
        "id": "748QonstB_G8",
        "outputId": "91c10b2c-f712-4dd9-818d-6b64fbc43ca1"
      },
      "source": [
        "  _, mse_loss = loss(theta_v,X,y_true)\n",
        "mse_loss"
      ],
      "execution_count": 46,
      "outputs": [
        {
          "output_type": "execute_result",
          "data": {
            "text/plain": [
              "tensor(4.2368)"
            ]
          },
          "metadata": {
            "tags": []
          },
          "execution_count": 46
        }
      ]
    },
    {
      "cell_type": "markdown",
      "metadata": {
        "id": "3MDBldaiA0pn"
      },
      "source": [
        "## Utiliser des modules pour encapsuler un modèle prédictif"
      ]
    },
    {
      "cell_type": "code",
      "metadata": {
        "id": "LcaO8PIaQqjs"
      },
      "source": [
        "import torch.nn as nn\n",
        "\n",
        "class Regression(nn.Module):\n",
        "    def __init__(self, nb_colonnes):\n",
        "        super().__init__()\n",
        "        self.theta = nn.Parameter(torch.randn(nb_colonnes, requires_grad=True, dtype=torch.float).view((nb_colonnes,1))) #A l'intérieur d'un module on utilie nn.Parametre pour définir un paramètre.\n",
        "        self.biais = nn.Parameter(torch.randn(1))\n",
        "               \n",
        "    def forward(self, x):\n",
        "      #Cette méthode sert a préciser comment a partir d'un x de taille (? , NB_COLONNES) on peut générer un vecteur colonne (? , 1) de prédictions\n",
        "      #Pour l'utiliser on appelle le module qu'on a construit comme si c'était une fonction\n",
        "      return torch.matmul(x,self.theta) + self.biais"
      ],
      "execution_count": 25,
      "outputs": []
    },
    {
      "cell_type": "code",
      "metadata": {
        "id": "4Gpj5rHlAogc",
        "colab": {
          "base_uri": "https://localhost:8080/"
        },
        "outputId": "80f8184a-7ec9-4dad-d74b-f1a41f9cdd9b"
      },
      "source": [
        "\n",
        "#On check que ça marche comme prévu\n",
        "R = Regression(X.shape[1])\n",
        "for x,y in zip(X,y):\n",
        "  print(R(x).shape)\n",
        "  break"
      ],
      "execution_count": 47,
      "outputs": [
        {
          "output_type": "stream",
          "text": [
            "torch.Size([1])\n"
          ],
          "name": "stdout"
        }
      ]
    },
    {
      "cell_type": "code",
      "metadata": {
        "id": "zSLxGvzCArRP",
        "colab": {
          "base_uri": "https://localhost:8080/",
          "height": 452
        },
        "outputId": "20a96988-48f4-4f0a-eb9b-1c8d4fb4c886"
      },
      "source": [
        "#On peut même print le modèle \n",
        "!pip install torchviz\n",
        "from torchviz import make_dot\n",
        "p = R(x)\n",
        "make_dot(p)"
      ],
      "execution_count": 48,
      "outputs": [
        {
          "output_type": "stream",
          "text": [
            "Requirement already satisfied: torchviz in /usr/local/lib/python3.6/dist-packages (0.0.1)\n",
            "Requirement already satisfied: graphviz in /usr/local/lib/python3.6/dist-packages (from torchviz) (0.10.1)\n",
            "Requirement already satisfied: torch in /usr/local/lib/python3.6/dist-packages (from torchviz) (1.7.0+cu101)\n",
            "Requirement already satisfied: typing-extensions in /usr/local/lib/python3.6/dist-packages (from torch->torchviz) (3.7.4.3)\n",
            "Requirement already satisfied: dataclasses in /usr/local/lib/python3.6/dist-packages (from torch->torchviz) (0.8)\n",
            "Requirement already satisfied: future in /usr/local/lib/python3.6/dist-packages (from torch->torchviz) (0.16.0)\n",
            "Requirement already satisfied: numpy in /usr/local/lib/python3.6/dist-packages (from torch->torchviz) (1.19.4)\n"
          ],
          "name": "stdout"
        },
        {
          "output_type": "execute_result",
          "data": {
            "text/plain": [
              "<graphviz.dot.Digraph at 0x7f37df62a668>"
            ],
            "image/svg+xml": "<?xml version=\"1.0\" encoding=\"UTF-8\" standalone=\"no\"?>\n<!DOCTYPE svg PUBLIC \"-//W3C//DTD SVG 1.1//EN\"\n \"http://www.w3.org/Graphics/SVG/1.1/DTD/svg11.dtd\">\n<!-- Generated by graphviz version 2.40.1 (20161225.0304)\n -->\n<!-- Title: %3 Pages: 1 -->\n<svg width=\"192pt\" height=\"228pt\"\n viewBox=\"0.00 0.00 191.50 228.00\" xmlns=\"http://www.w3.org/2000/svg\" xmlns:xlink=\"http://www.w3.org/1999/xlink\">\n<g id=\"graph0\" class=\"graph\" transform=\"scale(1 1) rotate(0) translate(4 224)\">\n<title>%3</title>\n<polygon fill=\"#ffffff\" stroke=\"transparent\" points=\"-4,4 -4,-224 187.5,-224 187.5,4 -4,4\"/>\n<!-- 139877947712848 -->\n<g id=\"node1\" class=\"node\">\n<title>139877947712848</title>\n<polygon fill=\"#caff70\" stroke=\"#000000\" points=\"151.5,-21 59.5,-21 59.5,0 151.5,0 151.5,-21\"/>\n<text text-anchor=\"middle\" x=\"105.5\" y=\"-7.4\" font-family=\"Times,serif\" font-size=\"12.00\" fill=\"#000000\">AddBackward0</text>\n</g>\n<!-- 139877947711560 -->\n<g id=\"node2\" class=\"node\">\n<title>139877947711560</title>\n<polygon fill=\"#d3d3d3\" stroke=\"#000000\" points=\"111,-85 0,-85 0,-64 111,-64 111,-85\"/>\n<text text-anchor=\"middle\" x=\"55.5\" y=\"-71.4\" font-family=\"Times,serif\" font-size=\"12.00\" fill=\"#000000\">SqueezeBackward3</text>\n</g>\n<!-- 139877947711560&#45;&gt;139877947712848 -->\n<g id=\"edge1\" class=\"edge\">\n<title>139877947711560&#45;&gt;139877947712848</title>\n<path fill=\"none\" stroke=\"#000000\" d=\"M63.7565,-63.9317C71.0947,-54.5388 81.9949,-40.5865 90.8166,-29.2947\"/>\n<polygon fill=\"#000000\" stroke=\"#000000\" points=\"93.6657,-31.3329 97.0641,-21.2979 88.1496,-27.0234 93.6657,-31.3329\"/>\n</g>\n<!-- 139877947713296 -->\n<g id=\"node3\" class=\"node\">\n<title>139877947713296</title>\n<polygon fill=\"#d3d3d3\" stroke=\"#000000\" points=\"98,-149 13,-149 13,-128 98,-128 98,-149\"/>\n<text text-anchor=\"middle\" x=\"55.5\" y=\"-135.4\" font-family=\"Times,serif\" font-size=\"12.00\" fill=\"#000000\">MmBackward</text>\n</g>\n<!-- 139877947713296&#45;&gt;139877947711560 -->\n<g id=\"edge2\" class=\"edge\">\n<title>139877947713296&#45;&gt;139877947711560</title>\n<path fill=\"none\" stroke=\"#000000\" d=\"M55.5,-127.9317C55.5,-119.0913 55.5,-106.2122 55.5,-95.3135\"/>\n<polygon fill=\"#000000\" stroke=\"#000000\" points=\"59.0001,-95.2979 55.5,-85.2979 52.0001,-95.2979 59.0001,-95.2979\"/>\n</g>\n<!-- 139877947713016 -->\n<g id=\"node4\" class=\"node\">\n<title>139877947713016</title>\n<polygon fill=\"#add8e6\" stroke=\"#000000\" points=\"82.5,-220 28.5,-220 28.5,-185 82.5,-185 82.5,-220\"/>\n<text text-anchor=\"middle\" x=\"55.5\" y=\"-192.4\" font-family=\"Times,serif\" font-size=\"12.00\" fill=\"#000000\"> (15, 1)</text>\n</g>\n<!-- 139877947713016&#45;&gt;139877947713296 -->\n<g id=\"edge3\" class=\"edge\">\n<title>139877947713016&#45;&gt;139877947713296</title>\n<path fill=\"none\" stroke=\"#000000\" d=\"M55.5,-184.6724C55.5,-176.8405 55.5,-167.5893 55.5,-159.4323\"/>\n<polygon fill=\"#000000\" stroke=\"#000000\" points=\"59.0001,-159.2234 55.5,-149.2234 52.0001,-159.2235 59.0001,-159.2234\"/>\n</g>\n<!-- 139877947712680 -->\n<g id=\"node5\" class=\"node\">\n<title>139877947712680</title>\n<polygon fill=\"#add8e6\" stroke=\"#000000\" points=\"183.5,-92 129.5,-92 129.5,-57 183.5,-57 183.5,-92\"/>\n<text text-anchor=\"middle\" x=\"156.5\" y=\"-64.4\" font-family=\"Times,serif\" font-size=\"12.00\" fill=\"#000000\"> (1)</text>\n</g>\n<!-- 139877947712680&#45;&gt;139877947712848 -->\n<g id=\"edge4\" class=\"edge\">\n<title>139877947712680&#45;&gt;139877947712848</title>\n<path fill=\"none\" stroke=\"#000000\" d=\"M142.2937,-56.6724C135.4853,-48.1286 127.3308,-37.8955 120.4308,-29.2367\"/>\n<polygon fill=\"#000000\" stroke=\"#000000\" points=\"123.0145,-26.8628 114.0452,-21.2234 117.5401,-31.2253 123.0145,-26.8628\"/>\n</g>\n</g>\n</svg>\n"
          },
          "metadata": {
            "tags": []
          },
          "execution_count": 48
        }
      ]
    },
    {
      "cell_type": "code",
      "metadata": {
        "id": "XhYW87T9AtVi",
        "colab": {
          "base_uri": "https://localhost:8080/"
        },
        "outputId": "f0c052bb-9d18-4b32-ce7a-ee63176ab5cf"
      },
      "source": [
        "R = Regression(X.shape[1])\n",
        "\n",
        "losses = []\n",
        "optimizer = torch.optim.SGD(R.parameters(), lr=1e-4)\n",
        "mse_loss = nn.MSELoss(reduction='mean')\n",
        "\n",
        "for epoch in range(1000):\n",
        "    R.train() #ça c'est pour mettre le modèle en mode apprentissage\n",
        "    for batch_x,batch_y in zip(X.float(),y.float()):\n",
        "          p = R(batch_x)\n",
        "          loss = mse_loss(batch_y, p)\n",
        "          loss.backward()\n",
        "          losses.append(loss.item())\n",
        "          optimizer.step()\n",
        "          optimizer.zero_grad()"
      ],
      "execution_count": 55,
      "outputs": [
        {
          "output_type": "stream",
          "text": [
            "/usr/local/lib/python3.6/dist-packages/torch/nn/modules/loss.py:446: UserWarning: Using a target size (torch.Size([1])) that is different to the input size (torch.Size([])). This will likely lead to incorrect results due to broadcasting. Please ensure they have the same size.\n",
            "  return F.mse_loss(input, target, reduction=self.reduction)\n"
          ],
          "name": "stderr"
        }
      ]
    },
    {
      "cell_type": "code",
      "metadata": {
        "id": "YxGpJsdcAwPs",
        "colab": {
          "base_uri": "https://localhost:8080/"
        },
        "outputId": "d1bfaec6-6dff-4264-c5bd-776d250311b9"
      },
      "source": [
        "R = Regression(X.shape[1])\n",
        "\n",
        "losses = []\n",
        "optimizer = torch.optim.SGD(R.parameters(), lr=1e-2)\n",
        "mse_loss = nn.MSELoss(reduction='mean')\n",
        "\n",
        "for epoch in range(1000):\n",
        "    R.train() #ça c'est pour mettre le modèle en mode apprentissage\n",
        "    for batch_x,batch_y in zip(X.float(),y.float()):\n",
        "          p = R(batch_x)\n",
        "          loss = mse_loss(batch_y.view((-1,)), p.view((-1,)))\n",
        "          loss.backward()\n",
        "          losses.append(loss.item())\n",
        "          optimizer.step()\n",
        "          optimizer.zero_grad()\n",
        "  \n",
        "print(\"Training loss : \",loss.item())"
      ],
      "execution_count": 61,
      "outputs": [
        {
          "output_type": "stream",
          "text": [
            "Training loss :  2.3283064365386963e-10\n"
          ],
          "name": "stdout"
        }
      ]
    },
    {
      "cell_type": "code",
      "metadata": {
        "id": "X7RmKzisAyAR",
        "colab": {
          "base_uri": "https://localhost:8080/",
          "height": 283
        },
        "outputId": "e1683712-a7e1-4ebb-98b1-2a64b95a19a9"
      },
      "source": [
        "plt.plot(np.arange(len(losses)), losses)"
      ],
      "execution_count": 62,
      "outputs": [
        {
          "output_type": "execute_result",
          "data": {
            "text/plain": [
              "[<matplotlib.lines.Line2D at 0x7f37df894470>]"
            ]
          },
          "metadata": {
            "tags": []
          },
          "execution_count": 62
        },
        {
          "output_type": "display_data",
          "data": {
            "image/png": "[encoded data removed]",
            "text/plain": [
              "<Figure size 432x288 with 1 Axes>"
            ]
          },
          "metadata": {
            "tags": [],
            "needs_background": "light"
          }
        }
      ]
    },
    {
      "cell_type": "markdown",
      "metadata": {
        "id": "kqRdAuc3FI_p"
      },
      "source": [
        "# Et les réseaux de neurones dans tout ça ?\n",
        "\n",
        "Aprés toutes ces interludes, vous devez probablement vous demander le rapport entre tout ce qu'on a fait et les réseaux de neurones.\n",
        "\n",
        "Pour faire bref, ce qu'on a fait en dernier était en réalité un réseau de neurones, un réseau de neurones a un seul noeud."
      ]
    },
    {
      "cell_type": "code",
      "metadata": {
        "id": "vM4xi9uEFa-v"
      },
      "source": [
        "import torch.nn as nn\n",
        "\n",
        "\n",
        "def train_step_constructor(model,loss_f,optimizer):\n",
        "  \n",
        "  def train_step(batch_x, batch_y):\n",
        "    p = model(batch_x)\n",
        "    loss = loss_f(batch_y.view((-1,)), p.view((-1,)))\n",
        "    loss.backward()\n",
        "    optimizer.step()\n",
        "    optimizer.zero_grad()\n",
        "    return loss.item()\n",
        "  return train_step\n",
        "\n",
        "\n",
        "class Regression_NN(nn.Module):\n",
        "    def __init__(self, nb_colonnes):\n",
        "        super().__init__()\n",
        "        self.l1 = nn.Linear(nb_colonnes, 1, bias = True) #(prend un vecteur (?,nb_colonnes) et en renvoie un (?,1) correspondant a la prédiction)\n",
        "               \n",
        "    def forward(self, x):\n",
        "      return self.l1(x)"
      ],
      "execution_count": 63,
      "outputs": []
    },
    {
      "cell_type": "code",
      "metadata": {
        "colab": {
          "base_uri": "https://localhost:8080/"
        },
        "id": "gt6JHkrIMROI",
        "outputId": "e52cbfa1-e44d-447d-ba38-42c50f313db8"
      },
      "source": [
        "from torch.utils.data import Dataset, TensorDataset, DataLoader\n",
        "from tqdm.notebook import tqdm\n",
        "\n",
        "class Toy_Dataset(Dataset):\n",
        "    def __init__(self, x_tensor, y_tensor):\n",
        "        self.x = x_tensor\n",
        "        self.y = y_tensor\n",
        "        \n",
        "    def __getitem__(self, index):\n",
        "        return (self.x[index], self.y[index])\n",
        "\n",
        "    def __len__(self):\n",
        "        return len(self.x)\n",
        "\n",
        "\n",
        "train_data = Toy_Dataset(X.float(), y_true.float())\n",
        "y_true.shape"
      ],
      "execution_count": 64,
      "outputs": [
        {
          "output_type": "execute_result",
          "data": {
            "text/plain": [
              "torch.Size([1000, 1])"
            ]
          },
          "metadata": {
            "tags": []
          },
          "execution_count": 64
        }
      ]
    },
    {
      "cell_type": "code",
      "metadata": {
        "id": "lpHgfx0HFv7y"
      },
      "source": [
        "def train_NN(alpha = 1e-5, epochs = 100, device = \"cpu\", batch_size = 100) -> (nn.Module, list, list):\n",
        "  \"\"\"\n",
        "  Perform the training on the x_tensor, y_tensor splitted.\n",
        "  Params:\n",
        "    - alpha : Learning rate\n",
        "  Returns: \n",
        "    - R: Trained Model\n",
        "    - losses: Training Losses\n",
        "    - val_losses: Validation Losses\n",
        "  \"\"\"\n",
        "  losses = []\n",
        "  val_losses = []\n",
        "\n",
        "  R = Regression_NN(X.shape[1]).to(device)\n",
        "\n",
        "  optimizer = torch.optim.Adam(R.parameters(), lr=alpha)\n",
        "\n",
        "  mse_loss = nn.MSELoss(reduction='mean')\n",
        "\n",
        "  train_loader = DataLoader(dataset=train_data, batch_size=batch_size, shuffle=True)\n",
        "  train_step = train_step_constructor(R, mse_loss, optimizer)\n",
        "  outer = tqdm(total=epochs, desc='Epochs', position=0)\n",
        "  for epoch in range(epochs):\n",
        "    inner = tqdm(total=len(train_loader), desc=f'Batch {epoch+1}', position=1)\n",
        "    for batch_x,batch_y in train_loader:\n",
        "      inner.update(1)\n",
        "      batch_x = batch_x.to(device)\n",
        "      batch_y = batch_y.to(device)\n",
        "      R.train()\n",
        "      l = train_step(batch_x, batch_y)\n",
        "      losses.append(l)\n",
        "      inner.set_postfix({'loss': l})\n",
        "    outer.update(1)\n",
        "  print(\"Model params: \",list(R.parameters()))\n",
        "  return R, losses, val_losses"
      ],
      "execution_count": 65,
      "outputs": []
    },
    {
      "cell_type": "code",
      "metadata": {
        "colab": {
          "base_uri": "https://localhost:8080/",
          "height": 486,
          "referenced_widgets": [
            "e7c7f44685124ec883bdfeea02785f63",
            "7fd524cd0d5a48faa6ed56d86045f572",
            "3a8e1c8a3aa74725bdad9a6bc3846a6d",
            "5d3cff587e16428ba2d09fd1ea03f8bf",
            "f80a0d2865a64df2af0560f743691863",
            "7112c0a70f784cf59aa49b98c41e72e2",
            "dc6dd2f6e70845d98077699fdc0acaf3",
            "1dc435e61f464ff7952c8ff19024c55c",
            "d3b480e3662c40e28a8c1c9693bf44a9",
            "b384119f596248bb995921eed941e6d7",
            "0ca3f6744742447cb81ccc5a4c2ce7db",
            "e8234d6985894ed684b07606250e5707",
            "8613e5f8b40d4035beec3ddb89512965",
            "70b5727f0c104b3ba266f118e6cebec4",
            "3cece3903a214e1fa00b4745a5dea0d5",
            "7df21fa526d54f519c383b01595aa84e",
            "922375800389440b980e71ec48ffb4c5",
            "54f4678a1be149ae971929ac15f3a481",
            "b1e0b712526549349031c7b1e815abab",
            "18a28e108a9a4cca94c2b33c029fe4e9",
            "60b32148d1704d21986fc2fff2187517",
            "36acf43295464bbf891dbb25cd272dcd",
            "3e5bc1001bd14a55b43fc3d5681c9f8f",
            "dedfbe4a4996416c89694106a83191de",
            "3557e1a0a24741f6a81cf9bf0199d986",
            "db7fb08d12c54d3a93b867fbfb823e6f",
            "1b67b46adf0d469faddbc30086f0f98f",
            "0da1ac790bfb494e97e881349e6f3d51",
            "9c958670ea04445d92c90b57e0857eb5",
            "71dbbf551c4547d993c148ba80136440",
            "6ce901864df549bcb58c8e5e2068edea",
            "7e140bbf183c498bb626ab7541e0c682"
          ]
        },
        "id": "pjotgkI_GTNC",
        "outputId": "8a0ec9b2-9bf6-4b4e-df79-c5a9991e4d3c"
      },
      "source": [
        "R, losses, val_losses = train_NN(1e-1, 50, batch_size = 5)"
      ],
      "execution_count": 66,
      "outputs": [
        {
          "output_type": "display_data",
          "data": {
            "application/vnd.jupyter.widget-view+json": {
              "model_id": "e7c7f44685124ec883bdfeea02785f63",
              "version_minor": 0,
              "version_major": 2
            },
            "text/plain": [
              "HBox(children=(FloatProgress(value=0.0, description='Epochs', max=50.0, style=ProgressStyle(description_width=…"
            ]
          },
          "metadata": {
            "tags": []
          }
        },
        {
          "output_type": "display_data",
          "data": {
            "application/vnd.jupyter.widget-view+json": {
              "model_id": "d3b480e3662c40e28a8c1c9693bf44a9",
              "version_minor": 0,
              "version_major": 2
            },
            "text/plain": [
              "HBox(children=(FloatProgress(value=0.0, description='Batch 1', max=200.0, style=ProgressStyle(description_widt…"
            ]
          },
          "metadata": {
            "tags": []
          }
        },
        {
          "output_type": "display_data",
          "data": {
            "application/vnd.jupyter.widget-view+json": {
              "model_id": "922375800389440b980e71ec48ffb4c5",
              "version_minor": 0,
              "version_major": 2
            },
            "text/plain": [
              "HBox(children=(FloatProgress(value=0.0, description='Batch 2', max=200.0, style=ProgressStyle(description_widt…"
            ]
          },
          "metadata": {
            "tags": []
          }
        },
        {
          "output_type": "display_data",
          "data": {
            "application/vnd.jupyter.widget-view+json": {
              "model_id": "3557e1a0a24741f6a81cf9bf0199d986",
              "version_minor": 0,
              "version_major": 2
            },
            "text/plain": [
              "HBox(children=(FloatProgress(value=0.0, description='Batch 3', max=200.0, style=ProgressStyle(description_widt…"
            ]
          },
          "metadata": {
            "tags": []
          }
        },
        {
          "output_type": "stream",
          "text": [
            "\n",
            "\n"
          ],
          "name": "stdout"
        },
        {
          "output_type": "error",
          "ename": "KeyboardInterrupt",
          "evalue": "ignored",
          "traceback": [
            "\u001b[0;31m---------------------------------------------------------------------------\u001b[0m",
            "\u001b[0;31mKeyboardInterrupt\u001b[0m                         Traceback (most recent call last)",
            "\u001b[0;32m<ipython-input-66-44984160e3d7>\u001b[0m in \u001b[0;36m<module>\u001b[0;34m()\u001b[0m\n\u001b[0;32m----> 1\u001b[0;31m \u001b[0mR\u001b[0m\u001b[0;34m,\u001b[0m \u001b[0mlosses\u001b[0m\u001b[0;34m,\u001b[0m \u001b[0mval_losses\u001b[0m \u001b[0;34m=\u001b[0m \u001b[0mtrain_NN\u001b[0m\u001b[0;34m(\u001b[0m\u001b[0;36m1e-1\u001b[0m\u001b[0;34m,\u001b[0m \u001b[0;36m50\u001b[0m\u001b[0;34m,\u001b[0m \u001b[0mbatch_size\u001b[0m \u001b[0;34m=\u001b[0m \u001b[0;36m5\u001b[0m\u001b[0;34m)\u001b[0m\u001b[0;34m\u001b[0m\u001b[0;34m\u001b[0m\u001b[0m\n\u001b[0m",
            "\u001b[0;32m<ipython-input-65-8f9736ddf49b>\u001b[0m in \u001b[0;36mtrain_NN\u001b[0;34m(alpha, epochs, device, batch_size)\u001b[0m\n\u001b[1;32m     30\u001b[0m       \u001b[0ml\u001b[0m \u001b[0;34m=\u001b[0m \u001b[0mtrain_step\u001b[0m\u001b[0;34m(\u001b[0m\u001b[0mbatch_x\u001b[0m\u001b[0;34m,\u001b[0m \u001b[0mbatch_y\u001b[0m\u001b[0;34m)\u001b[0m\u001b[0;34m\u001b[0m\u001b[0;34m\u001b[0m\u001b[0m\n\u001b[1;32m     31\u001b[0m       \u001b[0mlosses\u001b[0m\u001b[0;34m.\u001b[0m\u001b[0mappend\u001b[0m\u001b[0;34m(\u001b[0m\u001b[0ml\u001b[0m\u001b[0;34m)\u001b[0m\u001b[0;34m\u001b[0m\u001b[0;34m\u001b[0m\u001b[0m\n\u001b[0;32m---> 32\u001b[0;31m       \u001b[0minner\u001b[0m\u001b[0;34m.\u001b[0m\u001b[0mset_postfix\u001b[0m\u001b[0;34m(\u001b[0m\u001b[0;34m{\u001b[0m\u001b[0;34m'loss'\u001b[0m\u001b[0;34m:\u001b[0m \u001b[0ml\u001b[0m\u001b[0;34m}\u001b[0m\u001b[0;34m)\u001b[0m\u001b[0;34m\u001b[0m\u001b[0;34m\u001b[0m\u001b[0m\n\u001b[0m\u001b[1;32m     33\u001b[0m     \u001b[0mouter\u001b[0m\u001b[0;34m.\u001b[0m\u001b[0mupdate\u001b[0m\u001b[0;34m(\u001b[0m\u001b[0;36m1\u001b[0m\u001b[0;34m)\u001b[0m\u001b[0;34m\u001b[0m\u001b[0;34m\u001b[0m\u001b[0m\n\u001b[1;32m     34\u001b[0m   \u001b[0mprint\u001b[0m\u001b[0;34m(\u001b[0m\u001b[0;34m\"Model params: \"\u001b[0m\u001b[0;34m,\u001b[0m\u001b[0mlist\u001b[0m\u001b[0;34m(\u001b[0m\u001b[0mR\u001b[0m\u001b[0;34m.\u001b[0m\u001b[0mparameters\u001b[0m\u001b[0;34m(\u001b[0m\u001b[0;34m)\u001b[0m\u001b[0;34m)\u001b[0m\u001b[0;34m)\u001b[0m\u001b[0;34m\u001b[0m\u001b[0;34m\u001b[0m\u001b[0m\n",
            "\u001b[0;32m/usr/local/lib/python3.6/dist-packages/tqdm/std.py\u001b[0m in \u001b[0;36mset_postfix\u001b[0;34m(self, ordered_dict, refresh, **kwargs)\u001b[0m\n\u001b[1;32m   1385\u001b[0m                                  for key in postfix.keys())\n\u001b[1;32m   1386\u001b[0m         \u001b[0;32mif\u001b[0m \u001b[0mrefresh\u001b[0m\u001b[0;34m:\u001b[0m\u001b[0;34m\u001b[0m\u001b[0;34m\u001b[0m\u001b[0m\n\u001b[0;32m-> 1387\u001b[0;31m             \u001b[0mself\u001b[0m\u001b[0;34m.\u001b[0m\u001b[0mrefresh\u001b[0m\u001b[0;34m(\u001b[0m\u001b[0;34m)\u001b[0m\u001b[0;34m\u001b[0m\u001b[0;34m\u001b[0m\u001b[0m\n\u001b[0m\u001b[1;32m   1388\u001b[0m \u001b[0;34m\u001b[0m\u001b[0m\n\u001b[1;32m   1389\u001b[0m     \u001b[0;32mdef\u001b[0m \u001b[0mset_postfix_str\u001b[0m\u001b[0;34m(\u001b[0m\u001b[0mself\u001b[0m\u001b[0;34m,\u001b[0m \u001b[0ms\u001b[0m\u001b[0;34m=\u001b[0m\u001b[0;34m''\u001b[0m\u001b[0;34m,\u001b[0m \u001b[0mrefresh\u001b[0m\u001b[0;34m=\u001b[0m\u001b[0;32mTrue\u001b[0m\u001b[0;34m)\u001b[0m\u001b[0;34m:\u001b[0m\u001b[0;34m\u001b[0m\u001b[0;34m\u001b[0m\u001b[0m\n",
            "\u001b[0;32m/usr/local/lib/python3.6/dist-packages/tqdm/std.py\u001b[0m in \u001b[0;36mrefresh\u001b[0;34m(self, nolock, lock_args)\u001b[0m\n\u001b[1;32m   1309\u001b[0m             \u001b[0;32melse\u001b[0m\u001b[0;34m:\u001b[0m\u001b[0;34m\u001b[0m\u001b[0;34m\u001b[0m\u001b[0m\n\u001b[1;32m   1310\u001b[0m                 \u001b[0mself\u001b[0m\u001b[0;34m.\u001b[0m\u001b[0m_lock\u001b[0m\u001b[0;34m.\u001b[0m\u001b[0macquire\u001b[0m\u001b[0;34m(\u001b[0m\u001b[0;34m)\u001b[0m\u001b[0;34m\u001b[0m\u001b[0;34m\u001b[0m\u001b[0m\n\u001b[0;32m-> 1311\u001b[0;31m         \u001b[0mself\u001b[0m\u001b[0;34m.\u001b[0m\u001b[0mdisplay\u001b[0m\u001b[0;34m(\u001b[0m\u001b[0;34m)\u001b[0m\u001b[0;34m\u001b[0m\u001b[0;34m\u001b[0m\u001b[0m\n\u001b[0m\u001b[1;32m   1312\u001b[0m         \u001b[0;32mif\u001b[0m \u001b[0;32mnot\u001b[0m \u001b[0mnolock\u001b[0m\u001b[0;34m:\u001b[0m\u001b[0;34m\u001b[0m\u001b[0;34m\u001b[0m\u001b[0m\n\u001b[1;32m   1313\u001b[0m             \u001b[0mself\u001b[0m\u001b[0;34m.\u001b[0m\u001b[0m_lock\u001b[0m\u001b[0;34m.\u001b[0m\u001b[0mrelease\u001b[0m\u001b[0;34m(\u001b[0m\u001b[0;34m)\u001b[0m\u001b[0;34m\u001b[0m\u001b[0;34m\u001b[0m\u001b[0m\n",
            "\u001b[0;32m/usr/local/lib/python3.6/dist-packages/tqdm/notebook.py\u001b[0m in \u001b[0;36mdisplay\u001b[0;34m(self, msg, pos, close, bar_style)\u001b[0m\n\u001b[1;32m    145\u001b[0m \u001b[0;34m\u001b[0m\u001b[0m\n\u001b[1;32m    146\u001b[0m         \u001b[0mpbar\u001b[0m\u001b[0;34m,\u001b[0m \u001b[0mptext\u001b[0m \u001b[0;34m=\u001b[0m \u001b[0mself\u001b[0m\u001b[0;34m.\u001b[0m\u001b[0mcontainer\u001b[0m\u001b[0;34m.\u001b[0m\u001b[0mchildren\u001b[0m\u001b[0;34m\u001b[0m\u001b[0;34m\u001b[0m\u001b[0m\n\u001b[0;32m--> 147\u001b[0;31m         \u001b[0mpbar\u001b[0m\u001b[0;34m.\u001b[0m\u001b[0mvalue\u001b[0m \u001b[0;34m=\u001b[0m \u001b[0mself\u001b[0m\u001b[0;34m.\u001b[0m\u001b[0mn\u001b[0m\u001b[0;34m\u001b[0m\u001b[0;34m\u001b[0m\u001b[0m\n\u001b[0m\u001b[1;32m    148\u001b[0m \u001b[0;34m\u001b[0m\u001b[0m\n\u001b[1;32m    149\u001b[0m         \u001b[0;32mif\u001b[0m \u001b[0mmsg\u001b[0m\u001b[0;34m:\u001b[0m\u001b[0;34m\u001b[0m\u001b[0;34m\u001b[0m\u001b[0m\n",
            "\u001b[0;32m/usr/local/lib/python3.6/dist-packages/traitlets/traitlets.py\u001b[0m in \u001b[0;36m__set__\u001b[0;34m(self, obj, value)\u001b[0m\n\u001b[1;32m    583\u001b[0m             \u001b[0;32mraise\u001b[0m \u001b[0mTraitError\u001b[0m\u001b[0;34m(\u001b[0m\u001b[0;34m'The \"%s\" trait is read-only.'\u001b[0m \u001b[0;34m%\u001b[0m \u001b[0mself\u001b[0m\u001b[0;34m.\u001b[0m\u001b[0mname\u001b[0m\u001b[0;34m)\u001b[0m\u001b[0;34m\u001b[0m\u001b[0;34m\u001b[0m\u001b[0m\n\u001b[1;32m    584\u001b[0m         \u001b[0;32melse\u001b[0m\u001b[0;34m:\u001b[0m\u001b[0;34m\u001b[0m\u001b[0;34m\u001b[0m\u001b[0m\n\u001b[0;32m--> 585\u001b[0;31m             \u001b[0mself\u001b[0m\u001b[0;34m.\u001b[0m\u001b[0mset\u001b[0m\u001b[0;34m(\u001b[0m\u001b[0mobj\u001b[0m\u001b[0;34m,\u001b[0m \u001b[0mvalue\u001b[0m\u001b[0;34m)\u001b[0m\u001b[0;34m\u001b[0m\u001b[0;34m\u001b[0m\u001b[0m\n\u001b[0m\u001b[1;32m    586\u001b[0m \u001b[0;34m\u001b[0m\u001b[0m\n\u001b[1;32m    587\u001b[0m     \u001b[0;32mdef\u001b[0m \u001b[0m_validate\u001b[0m\u001b[0;34m(\u001b[0m\u001b[0mself\u001b[0m\u001b[0;34m,\u001b[0m \u001b[0mobj\u001b[0m\u001b[0;34m,\u001b[0m \u001b[0mvalue\u001b[0m\u001b[0;34m)\u001b[0m\u001b[0;34m:\u001b[0m\u001b[0;34m\u001b[0m\u001b[0;34m\u001b[0m\u001b[0m\n",
            "\u001b[0;32m/usr/local/lib/python3.6/dist-packages/traitlets/traitlets.py\u001b[0m in \u001b[0;36mset\u001b[0;34m(self, obj, value)\u001b[0m\n\u001b[1;32m    572\u001b[0m             \u001b[0;31m# we explicitly compare silent to True just in case the equality\u001b[0m\u001b[0;34m\u001b[0m\u001b[0;34m\u001b[0m\u001b[0;34m\u001b[0m\u001b[0m\n\u001b[1;32m    573\u001b[0m             \u001b[0;31m# comparison above returns something other than True/False\u001b[0m\u001b[0;34m\u001b[0m\u001b[0;34m\u001b[0m\u001b[0;34m\u001b[0m\u001b[0m\n\u001b[0;32m--> 574\u001b[0;31m             \u001b[0mobj\u001b[0m\u001b[0;34m.\u001b[0m\u001b[0m_notify_trait\u001b[0m\u001b[0;34m(\u001b[0m\u001b[0mself\u001b[0m\u001b[0;34m.\u001b[0m\u001b[0mname\u001b[0m\u001b[0;34m,\u001b[0m \u001b[0mold_value\u001b[0m\u001b[0;34m,\u001b[0m \u001b[0mnew_value\u001b[0m\u001b[0;34m)\u001b[0m\u001b[0;34m\u001b[0m\u001b[0;34m\u001b[0m\u001b[0m\n\u001b[0m\u001b[1;32m    575\u001b[0m \u001b[0;34m\u001b[0m\u001b[0m\n\u001b[1;32m    576\u001b[0m     \u001b[0;32mdef\u001b[0m \u001b[0m__set__\u001b[0m\u001b[0;34m(\u001b[0m\u001b[0mself\u001b[0m\u001b[0;34m,\u001b[0m \u001b[0mobj\u001b[0m\u001b[0;34m,\u001b[0m \u001b[0mvalue\u001b[0m\u001b[0;34m)\u001b[0m\u001b[0;34m:\u001b[0m\u001b[0;34m\u001b[0m\u001b[0;34m\u001b[0m\u001b[0m\n",
            "\u001b[0;32m/usr/local/lib/python3.6/dist-packages/traitlets/traitlets.py\u001b[0m in \u001b[0;36m_notify_trait\u001b[0;34m(self, name, old_value, new_value)\u001b[0m\n\u001b[1;32m   1137\u001b[0m             \u001b[0mnew\u001b[0m\u001b[0;34m=\u001b[0m\u001b[0mnew_value\u001b[0m\u001b[0;34m,\u001b[0m\u001b[0;34m\u001b[0m\u001b[0;34m\u001b[0m\u001b[0m\n\u001b[1;32m   1138\u001b[0m             \u001b[0mowner\u001b[0m\u001b[0;34m=\u001b[0m\u001b[0mself\u001b[0m\u001b[0;34m,\u001b[0m\u001b[0;34m\u001b[0m\u001b[0;34m\u001b[0m\u001b[0m\n\u001b[0;32m-> 1139\u001b[0;31m             \u001b[0mtype\u001b[0m\u001b[0;34m=\u001b[0m\u001b[0;34m'change'\u001b[0m\u001b[0;34m,\u001b[0m\u001b[0;34m\u001b[0m\u001b[0;34m\u001b[0m\u001b[0m\n\u001b[0m\u001b[1;32m   1140\u001b[0m         ))\n\u001b[1;32m   1141\u001b[0m \u001b[0;34m\u001b[0m\u001b[0m\n",
            "\u001b[0;32m/usr/local/lib/python3.6/dist-packages/ipywidgets/widgets/widget.py\u001b[0m in \u001b[0;36mnotify_change\u001b[0;34m(self, change)\u001b[0m\n\u001b[1;32m    603\u001b[0m             \u001b[0;32mif\u001b[0m \u001b[0mname\u001b[0m \u001b[0;32min\u001b[0m \u001b[0mself\u001b[0m\u001b[0;34m.\u001b[0m\u001b[0mkeys\u001b[0m \u001b[0;32mand\u001b[0m \u001b[0mself\u001b[0m\u001b[0;34m.\u001b[0m\u001b[0m_should_send_property\u001b[0m\u001b[0;34m(\u001b[0m\u001b[0mname\u001b[0m\u001b[0;34m,\u001b[0m \u001b[0mgetattr\u001b[0m\u001b[0;34m(\u001b[0m\u001b[0mself\u001b[0m\u001b[0;34m,\u001b[0m \u001b[0mname\u001b[0m\u001b[0;34m)\u001b[0m\u001b[0;34m)\u001b[0m\u001b[0;34m:\u001b[0m\u001b[0;34m\u001b[0m\u001b[0;34m\u001b[0m\u001b[0m\n\u001b[1;32m    604\u001b[0m                 \u001b[0;31m# Send new state to front-end\u001b[0m\u001b[0;34m\u001b[0m\u001b[0;34m\u001b[0m\u001b[0;34m\u001b[0m\u001b[0m\n\u001b[0;32m--> 605\u001b[0;31m                 \u001b[0mself\u001b[0m\u001b[0;34m.\u001b[0m\u001b[0msend_state\u001b[0m\u001b[0;34m(\u001b[0m\u001b[0mkey\u001b[0m\u001b[0;34m=\u001b[0m\u001b[0mname\u001b[0m\u001b[0;34m)\u001b[0m\u001b[0;34m\u001b[0m\u001b[0;34m\u001b[0m\u001b[0m\n\u001b[0m\u001b[1;32m    606\u001b[0m         \u001b[0msuper\u001b[0m\u001b[0;34m(\u001b[0m\u001b[0mWidget\u001b[0m\u001b[0;34m,\u001b[0m \u001b[0mself\u001b[0m\u001b[0;34m)\u001b[0m\u001b[0;34m.\u001b[0m\u001b[0mnotify_change\u001b[0m\u001b[0;34m(\u001b[0m\u001b[0mchange\u001b[0m\u001b[0;34m)\u001b[0m\u001b[0;34m\u001b[0m\u001b[0;34m\u001b[0m\u001b[0m\n\u001b[1;32m    607\u001b[0m \u001b[0;34m\u001b[0m\u001b[0m\n",
            "\u001b[0;32m/usr/local/lib/python3.6/dist-packages/ipywidgets/widgets/widget.py\u001b[0m in \u001b[0;36msend_state\u001b[0;34m(self, key)\u001b[0m\n\u001b[1;32m    487\u001b[0m             \u001b[0mstate\u001b[0m\u001b[0;34m,\u001b[0m \u001b[0mbuffer_paths\u001b[0m\u001b[0;34m,\u001b[0m \u001b[0mbuffers\u001b[0m \u001b[0;34m=\u001b[0m \u001b[0m_remove_buffers\u001b[0m\u001b[0;34m(\u001b[0m\u001b[0mstate\u001b[0m\u001b[0;34m)\u001b[0m\u001b[0;34m\u001b[0m\u001b[0;34m\u001b[0m\u001b[0m\n\u001b[1;32m    488\u001b[0m             \u001b[0mmsg\u001b[0m \u001b[0;34m=\u001b[0m \u001b[0;34m{\u001b[0m\u001b[0;34m'method'\u001b[0m\u001b[0;34m:\u001b[0m \u001b[0;34m'update'\u001b[0m\u001b[0;34m,\u001b[0m \u001b[0;34m'state'\u001b[0m\u001b[0;34m:\u001b[0m \u001b[0mstate\u001b[0m\u001b[0;34m,\u001b[0m \u001b[0;34m'buffer_paths'\u001b[0m\u001b[0;34m:\u001b[0m \u001b[0mbuffer_paths\u001b[0m\u001b[0;34m}\u001b[0m\u001b[0;34m\u001b[0m\u001b[0;34m\u001b[0m\u001b[0m\n\u001b[0;32m--> 489\u001b[0;31m             \u001b[0mself\u001b[0m\u001b[0;34m.\u001b[0m\u001b[0m_send\u001b[0m\u001b[0;34m(\u001b[0m\u001b[0mmsg\u001b[0m\u001b[0;34m,\u001b[0m \u001b[0mbuffers\u001b[0m\u001b[0;34m=\u001b[0m\u001b[0mbuffers\u001b[0m\u001b[0;34m)\u001b[0m\u001b[0;34m\u001b[0m\u001b[0;34m\u001b[0m\u001b[0m\n\u001b[0m\u001b[1;32m    490\u001b[0m \u001b[0;34m\u001b[0m\u001b[0m\n\u001b[1;32m    491\u001b[0m \u001b[0;34m\u001b[0m\u001b[0m\n",
            "\u001b[0;32m/usr/local/lib/python3.6/dist-packages/ipywidgets/widgets/widget.py\u001b[0m in \u001b[0;36m_send\u001b[0;34m(self, msg, buffers)\u001b[0m\n\u001b[1;32m    735\u001b[0m         \u001b[0;34m\"\"\"Sends a message to the model in the front-end.\"\"\"\u001b[0m\u001b[0;34m\u001b[0m\u001b[0;34m\u001b[0m\u001b[0m\n\u001b[1;32m    736\u001b[0m         \u001b[0;32mif\u001b[0m \u001b[0mself\u001b[0m\u001b[0;34m.\u001b[0m\u001b[0mcomm\u001b[0m \u001b[0;32mis\u001b[0m \u001b[0;32mnot\u001b[0m \u001b[0;32mNone\u001b[0m \u001b[0;32mand\u001b[0m \u001b[0mself\u001b[0m\u001b[0;34m.\u001b[0m\u001b[0mcomm\u001b[0m\u001b[0;34m.\u001b[0m\u001b[0mkernel\u001b[0m \u001b[0;32mis\u001b[0m \u001b[0;32mnot\u001b[0m \u001b[0;32mNone\u001b[0m\u001b[0;34m:\u001b[0m\u001b[0;34m\u001b[0m\u001b[0;34m\u001b[0m\u001b[0m\n\u001b[0;32m--> 737\u001b[0;31m             \u001b[0mself\u001b[0m\u001b[0;34m.\u001b[0m\u001b[0mcomm\u001b[0m\u001b[0;34m.\u001b[0m\u001b[0msend\u001b[0m\u001b[0;34m(\u001b[0m\u001b[0mdata\u001b[0m\u001b[0;34m=\u001b[0m\u001b[0mmsg\u001b[0m\u001b[0;34m,\u001b[0m \u001b[0mbuffers\u001b[0m\u001b[0;34m=\u001b[0m\u001b[0mbuffers\u001b[0m\u001b[0;34m)\u001b[0m\u001b[0;34m\u001b[0m\u001b[0;34m\u001b[0m\u001b[0m\n\u001b[0m\u001b[1;32m    738\u001b[0m \u001b[0;34m\u001b[0m\u001b[0m\n\u001b[1;32m    739\u001b[0m     \u001b[0;32mdef\u001b[0m \u001b[0m_repr_keys\u001b[0m\u001b[0;34m(\u001b[0m\u001b[0mself\u001b[0m\u001b[0;34m)\u001b[0m\u001b[0;34m:\u001b[0m\u001b[0;34m\u001b[0m\u001b[0;34m\u001b[0m\u001b[0m\n",
            "\u001b[0;32m/usr/local/lib/python3.6/dist-packages/ipykernel/comm/comm.py\u001b[0m in \u001b[0;36msend\u001b[0;34m(self, data, metadata, buffers)\u001b[0m\n\u001b[1;32m    119\u001b[0m         \u001b[0;34m\"\"\"Send a message to the frontend-side version of this comm\"\"\"\u001b[0m\u001b[0;34m\u001b[0m\u001b[0;34m\u001b[0m\u001b[0m\n\u001b[1;32m    120\u001b[0m         self._publish_msg('comm_msg',\n\u001b[0;32m--> 121\u001b[0;31m             \u001b[0mdata\u001b[0m\u001b[0;34m=\u001b[0m\u001b[0mdata\u001b[0m\u001b[0;34m,\u001b[0m \u001b[0mmetadata\u001b[0m\u001b[0;34m=\u001b[0m\u001b[0mmetadata\u001b[0m\u001b[0;34m,\u001b[0m \u001b[0mbuffers\u001b[0m\u001b[0;34m=\u001b[0m\u001b[0mbuffers\u001b[0m\u001b[0;34m,\u001b[0m\u001b[0;34m\u001b[0m\u001b[0;34m\u001b[0m\u001b[0m\n\u001b[0m\u001b[1;32m    122\u001b[0m         )\n\u001b[1;32m    123\u001b[0m \u001b[0;34m\u001b[0m\u001b[0m\n",
            "\u001b[0;32m/usr/local/lib/python3.6/dist-packages/ipykernel/comm/comm.py\u001b[0m in \u001b[0;36m_publish_msg\u001b[0;34m(self, msg_type, data, metadata, buffers, **keys)\u001b[0m\n\u001b[1;32m     69\u001b[0m             \u001b[0mparent\u001b[0m\u001b[0;34m=\u001b[0m\u001b[0mself\u001b[0m\u001b[0;34m.\u001b[0m\u001b[0mkernel\u001b[0m\u001b[0;34m.\u001b[0m\u001b[0m_parent_header\u001b[0m\u001b[0;34m,\u001b[0m\u001b[0;34m\u001b[0m\u001b[0;34m\u001b[0m\u001b[0m\n\u001b[1;32m     70\u001b[0m             \u001b[0mident\u001b[0m\u001b[0;34m=\u001b[0m\u001b[0mself\u001b[0m\u001b[0;34m.\u001b[0m\u001b[0mtopic\u001b[0m\u001b[0;34m,\u001b[0m\u001b[0;34m\u001b[0m\u001b[0;34m\u001b[0m\u001b[0m\n\u001b[0;32m---> 71\u001b[0;31m             \u001b[0mbuffers\u001b[0m\u001b[0;34m=\u001b[0m\u001b[0mbuffers\u001b[0m\u001b[0;34m,\u001b[0m\u001b[0;34m\u001b[0m\u001b[0;34m\u001b[0m\u001b[0m\n\u001b[0m\u001b[1;32m     72\u001b[0m         )\n\u001b[1;32m     73\u001b[0m \u001b[0;34m\u001b[0m\u001b[0m\n",
            "\u001b[0;32m/usr/local/lib/python3.6/dist-packages/jupyter_client/session.py\u001b[0m in \u001b[0;36msend\u001b[0;34m(self, stream, msg_or_type, content, parent, ident, buffers, track, header, metadata)\u001b[0m\n\u001b[1;32m    735\u001b[0m         \u001b[0;32mif\u001b[0m \u001b[0mself\u001b[0m\u001b[0;34m.\u001b[0m\u001b[0madapt_version\u001b[0m\u001b[0;34m:\u001b[0m\u001b[0;34m\u001b[0m\u001b[0;34m\u001b[0m\u001b[0m\n\u001b[1;32m    736\u001b[0m             \u001b[0mmsg\u001b[0m \u001b[0;34m=\u001b[0m \u001b[0madapt\u001b[0m\u001b[0;34m(\u001b[0m\u001b[0mmsg\u001b[0m\u001b[0;34m,\u001b[0m \u001b[0mself\u001b[0m\u001b[0;34m.\u001b[0m\u001b[0madapt_version\u001b[0m\u001b[0;34m)\u001b[0m\u001b[0;34m\u001b[0m\u001b[0;34m\u001b[0m\u001b[0m\n\u001b[0;32m--> 737\u001b[0;31m         \u001b[0mto_send\u001b[0m \u001b[0;34m=\u001b[0m \u001b[0mself\u001b[0m\u001b[0;34m.\u001b[0m\u001b[0mserialize\u001b[0m\u001b[0;34m(\u001b[0m\u001b[0mmsg\u001b[0m\u001b[0;34m,\u001b[0m \u001b[0mident\u001b[0m\u001b[0;34m)\u001b[0m\u001b[0;34m\u001b[0m\u001b[0;34m\u001b[0m\u001b[0m\n\u001b[0m\u001b[1;32m    738\u001b[0m         \u001b[0mto_send\u001b[0m\u001b[0;34m.\u001b[0m\u001b[0mextend\u001b[0m\u001b[0;34m(\u001b[0m\u001b[0mbuffers\u001b[0m\u001b[0;34m)\u001b[0m\u001b[0;34m\u001b[0m\u001b[0;34m\u001b[0m\u001b[0m\n\u001b[1;32m    739\u001b[0m         \u001b[0mlongest\u001b[0m \u001b[0;34m=\u001b[0m \u001b[0mmax\u001b[0m\u001b[0;34m(\u001b[0m\u001b[0;34m[\u001b[0m \u001b[0mlen\u001b[0m\u001b[0;34m(\u001b[0m\u001b[0ms\u001b[0m\u001b[0;34m)\u001b[0m \u001b[0;32mfor\u001b[0m \u001b[0ms\u001b[0m \u001b[0;32min\u001b[0m \u001b[0mto_send\u001b[0m \u001b[0;34m]\u001b[0m\u001b[0;34m)\u001b[0m\u001b[0;34m\u001b[0m\u001b[0;34m\u001b[0m\u001b[0m\n",
            "\u001b[0;32m/usr/local/lib/python3.6/dist-packages/jupyter_client/session.py\u001b[0m in \u001b[0;36mserialize\u001b[0;34m(self, msg, ident)\u001b[0m\n\u001b[1;32m    633\u001b[0m             \u001b[0;32mraise\u001b[0m \u001b[0mTypeError\u001b[0m\u001b[0;34m(\u001b[0m\u001b[0;34m\"Content incorrect type: %s\"\u001b[0m\u001b[0;34m%\u001b[0m\u001b[0mtype\u001b[0m\u001b[0;34m(\u001b[0m\u001b[0mcontent\u001b[0m\u001b[0;34m)\u001b[0m\u001b[0;34m)\u001b[0m\u001b[0;34m\u001b[0m\u001b[0;34m\u001b[0m\u001b[0m\n\u001b[1;32m    634\u001b[0m \u001b[0;34m\u001b[0m\u001b[0m\n\u001b[0;32m--> 635\u001b[0;31m         real_message = [self.pack(msg['header']),\n\u001b[0m\u001b[1;32m    636\u001b[0m                         \u001b[0mself\u001b[0m\u001b[0;34m.\u001b[0m\u001b[0mpack\u001b[0m\u001b[0;34m(\u001b[0m\u001b[0mmsg\u001b[0m\u001b[0;34m[\u001b[0m\u001b[0;34m'parent_header'\u001b[0m\u001b[0;34m]\u001b[0m\u001b[0;34m)\u001b[0m\u001b[0;34m,\u001b[0m\u001b[0;34m\u001b[0m\u001b[0;34m\u001b[0m\u001b[0m\n\u001b[1;32m    637\u001b[0m                         \u001b[0mself\u001b[0m\u001b[0;34m.\u001b[0m\u001b[0mpack\u001b[0m\u001b[0;34m(\u001b[0m\u001b[0mmsg\u001b[0m\u001b[0;34m[\u001b[0m\u001b[0;34m'metadata'\u001b[0m\u001b[0;34m]\u001b[0m\u001b[0;34m)\u001b[0m\u001b[0;34m,\u001b[0m\u001b[0;34m\u001b[0m\u001b[0;34m\u001b[0m\u001b[0m\n",
            "\u001b[0;32m/usr/local/lib/python3.6/dist-packages/jupyter_client/session.py\u001b[0m in \u001b[0;36m<lambda>\u001b[0;34m(obj)\u001b[0m\n\u001b[1;32m    101\u001b[0m \u001b[0;31m# disallow nan, because it's not actually valid JSON\u001b[0m\u001b[0;34m\u001b[0m\u001b[0;34m\u001b[0m\u001b[0;34m\u001b[0m\u001b[0m\n\u001b[1;32m    102\u001b[0m json_packer = lambda obj: jsonapi.dumps(obj, default=date_default,\n\u001b[0;32m--> 103\u001b[0;31m     \u001b[0mensure_ascii\u001b[0m\u001b[0;34m=\u001b[0m\u001b[0;32mFalse\u001b[0m\u001b[0;34m,\u001b[0m \u001b[0mallow_nan\u001b[0m\u001b[0;34m=\u001b[0m\u001b[0;32mFalse\u001b[0m\u001b[0;34m,\u001b[0m\u001b[0;34m\u001b[0m\u001b[0;34m\u001b[0m\u001b[0m\n\u001b[0m\u001b[1;32m    104\u001b[0m )\n\u001b[1;32m    105\u001b[0m \u001b[0mjson_unpacker\u001b[0m \u001b[0;34m=\u001b[0m \u001b[0;32mlambda\u001b[0m \u001b[0ms\u001b[0m\u001b[0;34m:\u001b[0m \u001b[0mjsonapi\u001b[0m\u001b[0;34m.\u001b[0m\u001b[0mloads\u001b[0m\u001b[0;34m(\u001b[0m\u001b[0ms\u001b[0m\u001b[0;34m)\u001b[0m\u001b[0;34m\u001b[0m\u001b[0;34m\u001b[0m\u001b[0m\n",
            "\u001b[0;32m/usr/local/lib/python3.6/dist-packages/zmq/utils/jsonapi.py\u001b[0m in \u001b[0;36mdumps\u001b[0;34m(o, **kwargs)\u001b[0m\n\u001b[1;32m     38\u001b[0m         \u001b[0mkwargs\u001b[0m\u001b[0;34m[\u001b[0m\u001b[0;34m'separators'\u001b[0m\u001b[0;34m]\u001b[0m \u001b[0;34m=\u001b[0m \u001b[0;34m(\u001b[0m\u001b[0;34m','\u001b[0m\u001b[0;34m,\u001b[0m \u001b[0;34m':'\u001b[0m\u001b[0;34m)\u001b[0m\u001b[0;34m\u001b[0m\u001b[0;34m\u001b[0m\u001b[0m\n\u001b[1;32m     39\u001b[0m \u001b[0;34m\u001b[0m\u001b[0m\n\u001b[0;32m---> 40\u001b[0;31m     \u001b[0ms\u001b[0m \u001b[0;34m=\u001b[0m \u001b[0mjsonmod\u001b[0m\u001b[0;34m.\u001b[0m\u001b[0mdumps\u001b[0m\u001b[0;34m(\u001b[0m\u001b[0mo\u001b[0m\u001b[0;34m,\u001b[0m \u001b[0;34m**\u001b[0m\u001b[0mkwargs\u001b[0m\u001b[0;34m)\u001b[0m\u001b[0;34m\u001b[0m\u001b[0;34m\u001b[0m\u001b[0m\n\u001b[0m\u001b[1;32m     41\u001b[0m \u001b[0;34m\u001b[0m\u001b[0m\n\u001b[1;32m     42\u001b[0m     \u001b[0;32mif\u001b[0m \u001b[0misinstance\u001b[0m\u001b[0;34m(\u001b[0m\u001b[0ms\u001b[0m\u001b[0;34m,\u001b[0m \u001b[0municode\u001b[0m\u001b[0;34m)\u001b[0m\u001b[0;34m:\u001b[0m\u001b[0;34m\u001b[0m\u001b[0;34m\u001b[0m\u001b[0m\n",
            "\u001b[0;32m/usr/lib/python3.6/json/__init__.py\u001b[0m in \u001b[0;36mdumps\u001b[0;34m(obj, skipkeys, ensure_ascii, check_circular, allow_nan, cls, indent, separators, default, sort_keys, **kw)\u001b[0m\n\u001b[1;32m    236\u001b[0m         \u001b[0mcheck_circular\u001b[0m\u001b[0;34m=\u001b[0m\u001b[0mcheck_circular\u001b[0m\u001b[0;34m,\u001b[0m \u001b[0mallow_nan\u001b[0m\u001b[0;34m=\u001b[0m\u001b[0mallow_nan\u001b[0m\u001b[0;34m,\u001b[0m \u001b[0mindent\u001b[0m\u001b[0;34m=\u001b[0m\u001b[0mindent\u001b[0m\u001b[0;34m,\u001b[0m\u001b[0;34m\u001b[0m\u001b[0;34m\u001b[0m\u001b[0m\n\u001b[1;32m    237\u001b[0m         \u001b[0mseparators\u001b[0m\u001b[0;34m=\u001b[0m\u001b[0mseparators\u001b[0m\u001b[0;34m,\u001b[0m \u001b[0mdefault\u001b[0m\u001b[0;34m=\u001b[0m\u001b[0mdefault\u001b[0m\u001b[0;34m,\u001b[0m \u001b[0msort_keys\u001b[0m\u001b[0;34m=\u001b[0m\u001b[0msort_keys\u001b[0m\u001b[0;34m,\u001b[0m\u001b[0;34m\u001b[0m\u001b[0;34m\u001b[0m\u001b[0m\n\u001b[0;32m--> 238\u001b[0;31m         **kw).encode(obj)\n\u001b[0m\u001b[1;32m    239\u001b[0m \u001b[0;34m\u001b[0m\u001b[0m\n\u001b[1;32m    240\u001b[0m \u001b[0;34m\u001b[0m\u001b[0m\n",
            "\u001b[0;32m/usr/lib/python3.6/json/encoder.py\u001b[0m in \u001b[0;36mencode\u001b[0;34m(self, o)\u001b[0m\n\u001b[1;32m    197\u001b[0m         \u001b[0;31m# exceptions aren't as detailed.  The list call should be roughly\u001b[0m\u001b[0;34m\u001b[0m\u001b[0;34m\u001b[0m\u001b[0;34m\u001b[0m\u001b[0m\n\u001b[1;32m    198\u001b[0m         \u001b[0;31m# equivalent to the PySequence_Fast that ''.join() would do.\u001b[0m\u001b[0;34m\u001b[0m\u001b[0;34m\u001b[0m\u001b[0;34m\u001b[0m\u001b[0m\n\u001b[0;32m--> 199\u001b[0;31m         \u001b[0mchunks\u001b[0m \u001b[0;34m=\u001b[0m \u001b[0mself\u001b[0m\u001b[0;34m.\u001b[0m\u001b[0miterencode\u001b[0m\u001b[0;34m(\u001b[0m\u001b[0mo\u001b[0m\u001b[0;34m,\u001b[0m \u001b[0m_one_shot\u001b[0m\u001b[0;34m=\u001b[0m\u001b[0;32mTrue\u001b[0m\u001b[0;34m)\u001b[0m\u001b[0;34m\u001b[0m\u001b[0;34m\u001b[0m\u001b[0m\n\u001b[0m\u001b[1;32m    200\u001b[0m         \u001b[0;32mif\u001b[0m \u001b[0;32mnot\u001b[0m \u001b[0misinstance\u001b[0m\u001b[0;34m(\u001b[0m\u001b[0mchunks\u001b[0m\u001b[0;34m,\u001b[0m \u001b[0;34m(\u001b[0m\u001b[0mlist\u001b[0m\u001b[0;34m,\u001b[0m \u001b[0mtuple\u001b[0m\u001b[0;34m)\u001b[0m\u001b[0;34m)\u001b[0m\u001b[0;34m:\u001b[0m\u001b[0;34m\u001b[0m\u001b[0;34m\u001b[0m\u001b[0m\n\u001b[1;32m    201\u001b[0m             \u001b[0mchunks\u001b[0m \u001b[0;34m=\u001b[0m \u001b[0mlist\u001b[0m\u001b[0;34m(\u001b[0m\u001b[0mchunks\u001b[0m\u001b[0;34m)\u001b[0m\u001b[0;34m\u001b[0m\u001b[0;34m\u001b[0m\u001b[0m\n",
            "\u001b[0;32m/usr/lib/python3.6/json/encoder.py\u001b[0m in \u001b[0;36miterencode\u001b[0;34m(self, o, _one_shot)\u001b[0m\n\u001b[1;32m    255\u001b[0m                 \u001b[0mself\u001b[0m\u001b[0;34m.\u001b[0m\u001b[0mkey_separator\u001b[0m\u001b[0;34m,\u001b[0m \u001b[0mself\u001b[0m\u001b[0;34m.\u001b[0m\u001b[0mitem_separator\u001b[0m\u001b[0;34m,\u001b[0m \u001b[0mself\u001b[0m\u001b[0;34m.\u001b[0m\u001b[0msort_keys\u001b[0m\u001b[0;34m,\u001b[0m\u001b[0;34m\u001b[0m\u001b[0;34m\u001b[0m\u001b[0m\n\u001b[1;32m    256\u001b[0m                 self.skipkeys, _one_shot)\n\u001b[0;32m--> 257\u001b[0;31m         \u001b[0;32mreturn\u001b[0m \u001b[0m_iterencode\u001b[0m\u001b[0;34m(\u001b[0m\u001b[0mo\u001b[0m\u001b[0;34m,\u001b[0m \u001b[0;36m0\u001b[0m\u001b[0;34m)\u001b[0m\u001b[0;34m\u001b[0m\u001b[0;34m\u001b[0m\u001b[0m\n\u001b[0m\u001b[1;32m    258\u001b[0m \u001b[0;34m\u001b[0m\u001b[0m\n\u001b[1;32m    259\u001b[0m def _make_iterencode(markers, _default, _encoder, _indent, _floatstr,\n",
            "\u001b[0;32m/usr/local/lib/python3.6/dist-packages/jupyter_client/jsonutil.py\u001b[0m in \u001b[0;36mdate_default\u001b[0;34m(obj)\u001b[0m\n\u001b[1;32m     89\u001b[0m     \u001b[0;32mif\u001b[0m \u001b[0misinstance\u001b[0m\u001b[0;34m(\u001b[0m\u001b[0mobj\u001b[0m\u001b[0;34m,\u001b[0m \u001b[0mdatetime\u001b[0m\u001b[0;34m)\u001b[0m\u001b[0;34m:\u001b[0m\u001b[0;34m\u001b[0m\u001b[0;34m\u001b[0m\u001b[0m\n\u001b[1;32m     90\u001b[0m         \u001b[0mobj\u001b[0m \u001b[0;34m=\u001b[0m \u001b[0m_ensure_tzinfo\u001b[0m\u001b[0;34m(\u001b[0m\u001b[0mobj\u001b[0m\u001b[0;34m)\u001b[0m\u001b[0;34m\u001b[0m\u001b[0;34m\u001b[0m\u001b[0m\n\u001b[0;32m---> 91\u001b[0;31m         \u001b[0;32mreturn\u001b[0m \u001b[0mobj\u001b[0m\u001b[0;34m.\u001b[0m\u001b[0misoformat\u001b[0m\u001b[0;34m(\u001b[0m\u001b[0;34m)\u001b[0m\u001b[0;34m.\u001b[0m\u001b[0mreplace\u001b[0m\u001b[0;34m(\u001b[0m\u001b[0;34m'+00:00'\u001b[0m\u001b[0;34m,\u001b[0m \u001b[0;34m'Z'\u001b[0m\u001b[0;34m)\u001b[0m\u001b[0;34m\u001b[0m\u001b[0;34m\u001b[0m\u001b[0m\n\u001b[0m\u001b[1;32m     92\u001b[0m     \u001b[0;32melse\u001b[0m\u001b[0;34m:\u001b[0m\u001b[0;34m\u001b[0m\u001b[0;34m\u001b[0m\u001b[0m\n\u001b[1;32m     93\u001b[0m         \u001b[0;32mraise\u001b[0m \u001b[0mTypeError\u001b[0m\u001b[0;34m(\u001b[0m\u001b[0;34m\"%r is not JSON serializable\"\u001b[0m \u001b[0;34m%\u001b[0m \u001b[0mobj\u001b[0m\u001b[0;34m)\u001b[0m\u001b[0;34m\u001b[0m\u001b[0;34m\u001b[0m\u001b[0m\n",
            "\u001b[0;31mKeyboardInterrupt\u001b[0m: "
          ]
        }
      ]
    },
    {
      "cell_type": "code",
      "metadata": {
        "colab": {
          "base_uri": "https://localhost:8080/"
        },
        "id": "2SOTAEItTItg",
        "outputId": "4ecd7eb6-85d9-4da6-caa6-bf62183a482c"
      },
      "source": [
        "theta_v.T"
      ],
      "execution_count": 67,
      "outputs": [
        {
          "output_type": "execute_result",
          "data": {
            "text/plain": [
              "tensor([[ 3., 21., 10.,  3.,  4., 22., 21., 27.,  6.,  0.,  8., 13., 25.,  5.,\n",
              "         27.]])"
            ]
          },
          "metadata": {
            "tags": []
          },
          "execution_count": 67
        }
      ]
    },
    {
      "cell_type": "code",
      "metadata": {
        "id": "I-7UWNP4GUbe"
      },
      "source": [
        "class Regression_DNN(nn.Module):\n",
        "    def __init__(self, nb_colonnes):\n",
        "        super().__init__()\n",
        "        self.l1 = nn.Linear(nb_colonnes, 24, bias = True)\n",
        "        self.l2 = nn.Linear(24, 24, bias = True)\n",
        "        self.l3 = nn.Linear(24, 1, bias=True )\n",
        "               \n",
        "    def forward(self, x):\n",
        "      x = self.l1(x)\n",
        "      x = self.l2(x)\n",
        "      return self.l3(x)"
      ],
      "execution_count": 68,
      "outputs": []
    },
    {
      "cell_type": "code",
      "metadata": {
        "id": "S0kiO3JuIlVa"
      },
      "source": [
        "from tqdm.notebook import tqdm\n",
        "def train_DNN(alpha = 1e-5, epochs = 100, device = \"cpu\", batch_size = 100) -> (nn.Module, list, list):\n",
        "  \"\"\"\n",
        "  Perform the training on the x_tensor, y_tensor splitted.\n",
        "  Params:\n",
        "    - alpha : Learning rate\n",
        "  Returns: \n",
        "    - R: Trained Model\n",
        "    - losses: Training Losses\n",
        "    - val_losses: Validation Losses\n",
        "  \"\"\"\n",
        "  losses = []\n",
        "  val_losses = []\n",
        "\n",
        "  R = Regression_DNN(x_train_tensor.shape[1]).to(device)\n",
        "  optimizer = torch.optim.Adam(R.parameters(), lr=alpha)\n",
        "  mse_loss = nn.MSELoss(reduction='mean')\n",
        "\n",
        "  train_loader = DataLoader(dataset=train_data, batch_size=batch_size, shuffle=True)\n",
        "\n",
        "  train_step = train_step_constructor(R,mse_loss, optimizer)\n",
        "  #ça c'est la barre du nombre d'epochs\n",
        "  outer = tqdm(total=epochs, desc='Epochs', position=0)\n",
        "  for epoch in range(epochs):\n",
        "    #On crée une barre par epoch \n",
        "    inner = tqdm(total=len(train_loader), desc=f'Batch {epoch+1}', position=1)\n",
        "    for batch_x,batch_y in train_loader:\n",
        "      #On ajoute une étape d'entrainement\n",
        "      inner.update(1)\n",
        "      batch_x = batch_x.to(device)\n",
        "      batch_y = batch_y.to(device)\n",
        "      R.train()\n",
        "      l = train_step(batch_x, batch_y)\n",
        "      losses.append(l)\n",
        "      R.eval()\n",
        "      pred_val = R(x_test_tensor.to(device))\n",
        "      val_loss = mse_loss(y_test_tensor.view((-1,)).to(device), pred_val.view((-1,)).to(device))\n",
        "      val_losses.append(val_loss.item())\n",
        "\n",
        "      #MAJ de l'affichage de l'epoch courant\n",
        "      inner.set_postfix({'val_loss': val_loss.item(),'loss': l})\n",
        "      ######\n",
        "    #On ajoute le nombre d'epochs\n",
        "    outer.update(1)\n",
        "\n",
        "  return R, losses, val_losses"
      ],
      "execution_count": 69,
      "outputs": []
    },
    {
      "cell_type": "code",
      "metadata": {
        "colab": {
          "base_uri": "https://localhost:8080/",
          "height": 298
        },
        "id": "_1Uo9vZOIvPV",
        "outputId": "eff5b298-3f58-4b4b-cfae-c61140f8698a"
      },
      "source": [
        "R, losses, val_losses = train_DNN(1e-2, 50, batch_size = 64, device =\"cuda\")"
      ],
      "execution_count": 70,
      "outputs": [
        {
          "output_type": "error",
          "ename": "NameError",
          "evalue": "ignored",
          "traceback": [
            "\u001b[0;31m---------------------------------------------------------------------------\u001b[0m",
            "\u001b[0;31mNameError\u001b[0m                                 Traceback (most recent call last)",
            "\u001b[0;32m<ipython-input-70-b213117ca1c8>\u001b[0m in \u001b[0;36m<module>\u001b[0;34m()\u001b[0m\n\u001b[0;32m----> 1\u001b[0;31m \u001b[0mR\u001b[0m\u001b[0;34m,\u001b[0m \u001b[0mlosses\u001b[0m\u001b[0;34m,\u001b[0m \u001b[0mval_losses\u001b[0m \u001b[0;34m=\u001b[0m \u001b[0mtrain_DNN\u001b[0m\u001b[0;34m(\u001b[0m\u001b[0;36m1e-2\u001b[0m\u001b[0;34m,\u001b[0m \u001b[0;36m50\u001b[0m\u001b[0;34m,\u001b[0m \u001b[0mbatch_size\u001b[0m \u001b[0;34m=\u001b[0m \u001b[0;36m64\u001b[0m\u001b[0;34m,\u001b[0m \u001b[0mdevice\u001b[0m \u001b[0;34m=\u001b[0m\u001b[0;34m\"cuda\"\u001b[0m\u001b[0;34m)\u001b[0m\u001b[0;34m\u001b[0m\u001b[0;34m\u001b[0m\u001b[0m\n\u001b[0m",
            "\u001b[0;32m<ipython-input-69-bb682d4ef0db>\u001b[0m in \u001b[0;36mtrain_DNN\u001b[0;34m(alpha, epochs, device, batch_size)\u001b[0m\n\u001b[1;32m     13\u001b[0m   \u001b[0mval_losses\u001b[0m \u001b[0;34m=\u001b[0m \u001b[0;34m[\u001b[0m\u001b[0;34m]\u001b[0m\u001b[0;34m\u001b[0m\u001b[0;34m\u001b[0m\u001b[0m\n\u001b[1;32m     14\u001b[0m \u001b[0;34m\u001b[0m\u001b[0m\n\u001b[0;32m---> 15\u001b[0;31m   \u001b[0mR\u001b[0m \u001b[0;34m=\u001b[0m \u001b[0mRegression_DNN\u001b[0m\u001b[0;34m(\u001b[0m\u001b[0mx_train_tensor\u001b[0m\u001b[0;34m.\u001b[0m\u001b[0mshape\u001b[0m\u001b[0;34m[\u001b[0m\u001b[0;36m1\u001b[0m\u001b[0;34m]\u001b[0m\u001b[0;34m)\u001b[0m\u001b[0;34m.\u001b[0m\u001b[0mto\u001b[0m\u001b[0;34m(\u001b[0m\u001b[0mdevice\u001b[0m\u001b[0;34m)\u001b[0m\u001b[0;34m\u001b[0m\u001b[0;34m\u001b[0m\u001b[0m\n\u001b[0m\u001b[1;32m     16\u001b[0m   \u001b[0moptimizer\u001b[0m \u001b[0;34m=\u001b[0m \u001b[0mtorch\u001b[0m\u001b[0;34m.\u001b[0m\u001b[0moptim\u001b[0m\u001b[0;34m.\u001b[0m\u001b[0mAdam\u001b[0m\u001b[0;34m(\u001b[0m\u001b[0mR\u001b[0m\u001b[0;34m.\u001b[0m\u001b[0mparameters\u001b[0m\u001b[0;34m(\u001b[0m\u001b[0;34m)\u001b[0m\u001b[0;34m,\u001b[0m \u001b[0mlr\u001b[0m\u001b[0;34m=\u001b[0m\u001b[0malpha\u001b[0m\u001b[0;34m)\u001b[0m\u001b[0;34m\u001b[0m\u001b[0;34m\u001b[0m\u001b[0m\n\u001b[1;32m     17\u001b[0m   \u001b[0mmse_loss\u001b[0m \u001b[0;34m=\u001b[0m \u001b[0mnn\u001b[0m\u001b[0;34m.\u001b[0m\u001b[0mMSELoss\u001b[0m\u001b[0;34m(\u001b[0m\u001b[0mreduction\u001b[0m\u001b[0;34m=\u001b[0m\u001b[0;34m'mean'\u001b[0m\u001b[0;34m)\u001b[0m\u001b[0;34m\u001b[0m\u001b[0;34m\u001b[0m\u001b[0m\n",
            "\u001b[0;31mNameError\u001b[0m: name 'x_train_tensor' is not defined"
          ]
        }
      ]
    },
    {
      "cell_type": "code",
      "metadata": {
        "colab": {
          "base_uri": "https://localhost:8080/"
        },
        "id": "wvLRTavvI0KL",
        "outputId": "2bd2ff33-c972-4d52-9ca8-5136a410726d"
      },
      "source": [
        "mse_loss = nn.MSELoss(reduction='mean')\n",
        "pred_val = R(x_test_tensor.to(\"cuda\")).to(\"cpu\")\n",
        "val_loss = mse_loss(y_test_tensor.view((-1,)), pred_val.view((-1,)))\n",
        "val_loss"
      ],
      "execution_count": null,
      "outputs": [
        {
          "output_type": "execute_result",
          "data": {
            "text/plain": [
              "tensor(0.5909, grad_fn=<MseLossBackward>)"
            ]
          },
          "metadata": {
            "tags": []
          },
          "execution_count": 41
        }
      ]
    },
    {
      "cell_type": "code",
      "metadata": {
        "colab": {
          "base_uri": "https://localhost:8080/",
          "height": 666
        },
        "id": "AEIE4Fb-LIT7",
        "outputId": "0b05dfec-cfd6-40ba-95e9-19817c9d8895"
      },
      "source": [
        "make_dot(val_loss)"
      ],
      "execution_count": null,
      "outputs": [
        {
          "output_type": "execute_result",
          "data": {
            "text/plain": [
              "<graphviz.dot.Digraph at 0x7fbf718d1c18>"
            ],
            "image/svg+xml": "<?xml version=\"1.0\" encoding=\"UTF-8\" standalone=\"no\"?>\n<!DOCTYPE svg PUBLIC \"-//W3C//DTD SVG 1.1//EN\"\n \"http://www.w3.org/Graphics/SVG/1.1/DTD/svg11.dtd\">\n<!-- Generated by graphviz version 2.40.1 (20161225.0304)\n -->\n<!-- Title: %3 Pages: 1 -->\n<svg width=\"348pt\" height=\"484pt\"\n viewBox=\"0.00 0.00 348.00 484.00\" xmlns=\"http://www.w3.org/2000/svg\" xmlns:xlink=\"http://www.w3.org/1999/xlink\">\n<g id=\"graph0\" class=\"graph\" transform=\"scale(1 1) rotate(0) translate(4 480)\">\n<title>%3</title>\n<polygon fill=\"#ffffff\" stroke=\"transparent\" points=\"-4,4 -4,-480 344,-480 344,4 -4,4\"/>\n<!-- 140460220866120 -->\n<g id=\"node1\" class=\"node\">\n<title>140460220866120</title>\n<polygon fill=\"#caff70\" stroke=\"#000000\" points=\"198,-21 90,-21 90,0 198,0 198,-21\"/>\n<text text-anchor=\"middle\" x=\"144\" y=\"-7.4\" font-family=\"Times,serif\" font-size=\"12.00\" fill=\"#000000\">MseLossBackward</text>\n</g>\n<!-- 140460220864216 -->\n<g id=\"node2\" class=\"node\">\n<title>140460220864216</title>\n<polygon fill=\"#d3d3d3\" stroke=\"#000000\" points=\"189.5,-78 98.5,-78 98.5,-57 189.5,-57 189.5,-78\"/>\n<text text-anchor=\"middle\" x=\"144\" y=\"-64.4\" font-family=\"Times,serif\" font-size=\"12.00\" fill=\"#000000\">ViewBackward</text>\n</g>\n<!-- 140460220864216&#45;&gt;140460220866120 -->\n<g id=\"edge1\" class=\"edge\">\n<title>140460220864216&#45;&gt;140460220866120</title>\n<path fill=\"none\" stroke=\"#000000\" d=\"M144,-56.7787C144,-49.6134 144,-39.9517 144,-31.3097\"/>\n<polygon fill=\"#000000\" stroke=\"#000000\" points=\"147.5001,-31.1732 144,-21.1732 140.5001,-31.1732 147.5001,-31.1732\"/>\n</g>\n<!-- 140460220553032 -->\n<g id=\"node3\" class=\"node\">\n<title>140460220553032</title>\n<polygon fill=\"#d3d3d3\" stroke=\"#000000\" points=\"192,-135 96,-135 96,-114 192,-114 192,-135\"/>\n<text text-anchor=\"middle\" x=\"144\" y=\"-121.4\" font-family=\"Times,serif\" font-size=\"12.00\" fill=\"#000000\">CopyBackwards</text>\n</g>\n<!-- 140460220553032&#45;&gt;140460220864216 -->\n<g id=\"edge2\" class=\"edge\">\n<title>140460220553032&#45;&gt;140460220864216</title>\n<path fill=\"none\" stroke=\"#000000\" d=\"M144,-113.7787C144,-106.6134 144,-96.9517 144,-88.3097\"/>\n<polygon fill=\"#000000\" stroke=\"#000000\" points=\"147.5001,-88.1732 144,-78.1732 140.5001,-88.1732 147.5001,-88.1732\"/>\n</g>\n<!-- 140460220551856 -->\n<g id=\"node4\" class=\"node\">\n<title>140460220551856</title>\n<polygon fill=\"#d3d3d3\" stroke=\"#000000\" points=\"196,-192 92,-192 92,-171 196,-171 196,-192\"/>\n<text text-anchor=\"middle\" x=\"144\" y=\"-178.4\" font-family=\"Times,serif\" font-size=\"12.00\" fill=\"#000000\">AddmmBackward</text>\n</g>\n<!-- 140460220551856&#45;&gt;140460220553032 -->\n<g id=\"edge3\" class=\"edge\">\n<title>140460220551856&#45;&gt;140460220553032</title>\n<path fill=\"none\" stroke=\"#000000\" d=\"M144,-170.7787C144,-163.6134 144,-153.9517 144,-145.3097\"/>\n<polygon fill=\"#000000\" stroke=\"#000000\" points=\"147.5001,-145.1732 144,-135.1732 140.5001,-145.1732 147.5001,-145.1732\"/>\n</g>\n<!-- 140460220552304 -->\n<g id=\"node5\" class=\"node\">\n<title>140460220552304</title>\n<polygon fill=\"#add8e6\" stroke=\"#000000\" points=\"74,-263 20,-263 20,-228 74,-228 74,-263\"/>\n<text text-anchor=\"middle\" x=\"47\" y=\"-235.4\" font-family=\"Times,serif\" font-size=\"12.00\" fill=\"#000000\"> (1)</text>\n</g>\n<!-- 140460220552304&#45;&gt;140460220551856 -->\n<g id=\"edge4\" class=\"edge\">\n<title>140460220552304&#45;&gt;140460220551856</title>\n<path fill=\"none\" stroke=\"#000000\" d=\"M73.7624,-227.8423C88.0227,-218.4335 105.4441,-206.939 119.3687,-197.7516\"/>\n<polygon fill=\"#000000\" stroke=\"#000000\" points=\"121.5265,-200.5211 127.9459,-192.0924 117.6714,-194.6783 121.5265,-200.5211\"/>\n</g>\n<!-- 140460220552248 -->\n<g id=\"node6\" class=\"node\">\n<title>140460220552248</title>\n<polygon fill=\"#d3d3d3\" stroke=\"#000000\" points=\"196,-256 92,-256 92,-235 196,-235 196,-256\"/>\n<text text-anchor=\"middle\" x=\"144\" y=\"-242.4\" font-family=\"Times,serif\" font-size=\"12.00\" fill=\"#000000\">AddmmBackward</text>\n</g>\n<!-- 140460220552248&#45;&gt;140460220551856 -->\n<g id=\"edge5\" class=\"edge\">\n<title>140460220552248&#45;&gt;140460220551856</title>\n<path fill=\"none\" stroke=\"#000000\" d=\"M144,-234.9317C144,-226.0913 144,-213.2122 144,-202.3135\"/>\n<polygon fill=\"#000000\" stroke=\"#000000\" points=\"147.5001,-202.2979 144,-192.2979 140.5001,-202.2979 147.5001,-202.2979\"/>\n</g>\n<!-- 140460220551744 -->\n<g id=\"node7\" class=\"node\">\n<title>140460220551744</title>\n<polygon fill=\"#add8e6\" stroke=\"#000000\" points=\"54,-334 0,-334 0,-299 54,-299 54,-334\"/>\n<text text-anchor=\"middle\" x=\"27\" y=\"-306.4\" font-family=\"Times,serif\" font-size=\"12.00\" fill=\"#000000\"> (24)</text>\n</g>\n<!-- 140460220551744&#45;&gt;140460220552248 -->\n<g id=\"edge6\" class=\"edge\">\n<title>140460220551744&#45;&gt;140460220552248</title>\n<path fill=\"none\" stroke=\"#000000\" d=\"M54.1362,-300.0327C73.2805,-288.4153 98.787,-272.9369 117.7344,-261.439\"/>\n<polygon fill=\"#000000\" stroke=\"#000000\" points=\"119.719,-264.3287 126.4523,-256.1486 116.0875,-258.3444 119.719,-264.3287\"/>\n</g>\n<!-- 140460220551632 -->\n<g id=\"node8\" class=\"node\">\n<title>140460220551632</title>\n<polygon fill=\"#d3d3d3\" stroke=\"#000000\" points=\"176,-327 72,-327 72,-306 176,-306 176,-327\"/>\n<text text-anchor=\"middle\" x=\"124\" y=\"-313.4\" font-family=\"Times,serif\" font-size=\"12.00\" fill=\"#000000\">AddmmBackward</text>\n</g>\n<!-- 140460220551632&#45;&gt;140460220552248 -->\n<g id=\"edge7\" class=\"edge\">\n<title>140460220551632&#45;&gt;140460220552248</title>\n<path fill=\"none\" stroke=\"#000000\" d=\"M127.0376,-305.7166C129.9744,-295.291 134.5016,-279.2192 138.1405,-266.3011\"/>\n<polygon fill=\"#000000\" stroke=\"#000000\" points=\"141.5913,-266.9593 140.9338,-256.3849 134.8535,-265.0613 141.5913,-266.9593\"/>\n</g>\n<!-- 140460220552696 -->\n<g id=\"node9\" class=\"node\">\n<title>140460220552696</title>\n<polygon fill=\"#add8e6\" stroke=\"#000000\" points=\"81,-405 27,-405 27,-370 81,-370 81,-405\"/>\n<text text-anchor=\"middle\" x=\"54\" y=\"-377.4\" font-family=\"Times,serif\" font-size=\"12.00\" fill=\"#000000\"> (24)</text>\n</g>\n<!-- 140460220552696&#45;&gt;140460220551632 -->\n<g id=\"edge8\" class=\"edge\">\n<title>140460220552696&#45;&gt;140460220551632</title>\n<path fill=\"none\" stroke=\"#000000\" d=\"M71.3034,-369.9494C81.9892,-359.1109 95.6617,-345.2431 106.4018,-334.3496\"/>\n<polygon fill=\"#000000\" stroke=\"#000000\" points=\"109.0911,-336.6072 113.6195,-327.0288 104.1063,-331.6926 109.0911,-336.6072\"/>\n</g>\n<!-- 140460220552640 -->\n<g id=\"node10\" class=\"node\">\n<title>140460220552640</title>\n<polygon fill=\"#d3d3d3\" stroke=\"#000000\" points=\"172.5,-398 99.5,-398 99.5,-377 172.5,-377 172.5,-398\"/>\n<text text-anchor=\"middle\" x=\"136\" y=\"-384.4\" font-family=\"Times,serif\" font-size=\"12.00\" fill=\"#000000\">TBackward</text>\n</g>\n<!-- 140460220552640&#45;&gt;140460220551632 -->\n<g id=\"edge9\" class=\"edge\">\n<title>140460220552640&#45;&gt;140460220551632</title>\n<path fill=\"none\" stroke=\"#000000\" d=\"M134.1775,-376.7166C132.4154,-366.291 129.699,-350.2192 127.5157,-337.3011\"/>\n<polygon fill=\"#000000\" stroke=\"#000000\" points=\"130.9573,-336.6617 125.8397,-327.3849 124.0552,-337.8283 130.9573,-336.6617\"/>\n</g>\n<!-- 140460221672976 -->\n<g id=\"node11\" class=\"node\">\n<title>140460221672976</title>\n<polygon fill=\"#add8e6\" stroke=\"#000000\" points=\"164,-476 108,-476 108,-441 164,-441 164,-476\"/>\n<text text-anchor=\"middle\" x=\"136\" y=\"-448.4\" font-family=\"Times,serif\" font-size=\"12.00\" fill=\"#000000\"> (24, 11)</text>\n</g>\n<!-- 140460221672976&#45;&gt;140460220552640 -->\n<g id=\"edge10\" class=\"edge\">\n<title>140460221672976&#45;&gt;140460220552640</title>\n<path fill=\"none\" stroke=\"#000000\" d=\"M136,-440.9494C136,-431.058 136,-418.6435 136,-408.2693\"/>\n<polygon fill=\"#000000\" stroke=\"#000000\" points=\"139.5001,-408.0288 136,-398.0288 132.5001,-408.0289 139.5001,-408.0288\"/>\n</g>\n<!-- 140460220551296 -->\n<g id=\"node12\" class=\"node\">\n<title>140460220551296</title>\n<polygon fill=\"#d3d3d3\" stroke=\"#000000\" points=\"267.5,-327 194.5,-327 194.5,-306 267.5,-306 267.5,-327\"/>\n<text text-anchor=\"middle\" x=\"231\" y=\"-313.4\" font-family=\"Times,serif\" font-size=\"12.00\" fill=\"#000000\">TBackward</text>\n</g>\n<!-- 140460220551296&#45;&gt;140460220552248 -->\n<g id=\"edge11\" class=\"edge\">\n<title>140460220551296&#45;&gt;140460220552248</title>\n<path fill=\"none\" stroke=\"#000000\" d=\"M217.7866,-305.7166C203.7808,-294.2866 181.4592,-276.0702 165.0311,-262.6633\"/>\n<polygon fill=\"#000000\" stroke=\"#000000\" points=\"167.0132,-259.7633 157.0527,-256.1522 162.5873,-265.1866 167.0132,-259.7633\"/>\n</g>\n<!-- 140460221672864 -->\n<g id=\"node13\" class=\"node\">\n<title>140460221672864</title>\n<polygon fill=\"#add8e6\" stroke=\"#000000\" points=\"259.5,-405 202.5,-405 202.5,-370 259.5,-370 259.5,-405\"/>\n<text text-anchor=\"middle\" x=\"231\" y=\"-377.4\" font-family=\"Times,serif\" font-size=\"12.00\" fill=\"#000000\"> (24, 24)</text>\n</g>\n<!-- 140460221672864&#45;&gt;140460220551296 -->\n<g id=\"edge12\" class=\"edge\">\n<title>140460221672864&#45;&gt;140460220551296</title>\n<path fill=\"none\" stroke=\"#000000\" d=\"M231,-369.9494C231,-360.058 231,-347.6435 231,-337.2693\"/>\n<polygon fill=\"#000000\" stroke=\"#000000\" points=\"234.5001,-337.0288 231,-327.0288 227.5001,-337.0289 234.5001,-337.0288\"/>\n</g>\n<!-- 140460220554936 -->\n<g id=\"node14\" class=\"node\">\n<title>140460220554936</title>\n<polygon fill=\"#d3d3d3\" stroke=\"#000000\" points=\"328.5,-256 255.5,-256 255.5,-235 328.5,-235 328.5,-256\"/>\n<text text-anchor=\"middle\" x=\"292\" y=\"-242.4\" font-family=\"Times,serif\" font-size=\"12.00\" fill=\"#000000\">TBackward</text>\n</g>\n<!-- 140460220554936&#45;&gt;140460220551856 -->\n<g id=\"edge13\" class=\"edge\">\n<title>140460220554936&#45;&gt;140460220551856</title>\n<path fill=\"none\" stroke=\"#000000\" d=\"M267.5608,-234.9317C243.031,-224.3242 205.0544,-207.9019 177.6776,-196.0633\"/>\n<polygon fill=\"#000000\" stroke=\"#000000\" points=\"179.0433,-192.8407 168.4755,-192.084 176.2649,-199.2657 179.0433,-192.8407\"/>\n</g>\n<!-- 140460220551352 -->\n<g id=\"node15\" class=\"node\">\n<title>140460220551352</title>\n<polygon fill=\"#add8e6\" stroke=\"#000000\" points=\"340,-334 286,-334 286,-299 340,-299 340,-334\"/>\n<text text-anchor=\"middle\" x=\"313\" y=\"-306.4\" font-family=\"Times,serif\" font-size=\"12.00\" fill=\"#000000\"> (1, 24)</text>\n</g>\n<!-- 140460220551352&#45;&gt;140460220554936 -->\n<g id=\"edge14\" class=\"edge\">\n<title>140460220551352&#45;&gt;140460220554936</title>\n<path fill=\"none\" stroke=\"#000000\" d=\"M307.809,-298.9494C304.8522,-288.9527 301.1333,-276.3791 298.0453,-265.9389\"/>\n<polygon fill=\"#000000\" stroke=\"#000000\" points=\"301.3068,-264.6255 295.1142,-256.0288 294.5942,-266.6109 301.3068,-264.6255\"/>\n</g>\n</g>\n</svg>\n"
          },
          "metadata": {
            "tags": []
          },
          "execution_count": 35
        }
      ]
    },
    {
      "cell_type": "markdown",
      "metadata": {
        "id": "n3kEKnf9NFL3"
      },
      "source": [
        "Dernier petit point sur l'enregistrement d'un modèle."
      ]
    },
    {
      "cell_type": "code",
      "metadata": {
        "id": "_ZzSxL7yL8io"
      },
      "source": [
        "torch.save(R.state_dict(), \"out.net\")"
      ],
      "execution_count": null,
      "outputs": []
    },
    {
      "cell_type": "code",
      "metadata": {
        "colab": {
          "base_uri": "https://localhost:8080/"
        },
        "id": "w3jS4SSjNNcQ",
        "outputId": "a9bcbd61-061c-4e6d-f731-af9d3d762d33"
      },
      "source": [
        "!ls"
      ],
      "execution_count": null,
      "outputs": [
        {
          "output_type": "stream",
          "text": [
            "out.net      winequality-white.csv    winequality-white.csv.2\n",
            "sample_data  winequality-white.csv.1  winequality-white.csv.3\n"
          ],
          "name": "stdout"
        }
      ]
    },
    {
      "cell_type": "code",
      "metadata": {
        "colab": {
          "base_uri": "https://localhost:8080/"
        },
        "id": "n2_vrEb9NOIL",
        "outputId": "d64d4f15-a145-4da5-a317-62c60e45745a"
      },
      "source": [
        "model = Regression_DNN(x_train_tensor.shape[1])\n",
        "model.load_state_dict(torch.load(\"out.net\"))\n",
        "model.eval() #Mode inférence\n",
        "\n",
        "pred_val = model(x_test_tensor)\n",
        "val_loss = mse_loss(y_test_tensor.view((-1,)), pred_val.view((-1,)))\n",
        "val_loss"
      ],
      "execution_count": null,
      "outputs": [
        {
          "output_type": "execute_result",
          "data": {
            "text/plain": [
              "tensor(0.5909, grad_fn=<MseLossBackward>)"
            ]
          },
          "metadata": {
            "tags": []
          },
          "execution_count": 40
        }
      ]
    },
    {
      "cell_type": "code",
      "metadata": {
        "id": "u4RUVzcgNov8"
      },
      "source": [
        ""
      ],
      "execution_count": null,
      "outputs": []
    }
  ]
}