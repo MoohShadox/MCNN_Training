{
 "metadata": {
  "language_info": {
   "codemirror_mode": {
    "name": "ipython",
    "version": 3
   },
   "file_extension": ".py",
   "mimetype": "text/x-python",
   "name": "python",
   "nbconvert_exporter": "python",
   "pygments_lexer": "ipython3",
   "version": "3.8.6"
  },
  "orig_nbformat": 2,
  "kernelspec": {
   "name": "python3",
   "display_name": "Python 3.8.6 64-bit ('pytorch_env': conda)",
   "metadata": {
    "interpreter": {
     "hash": "2b4c32494cf96406473b0631777d834036a5c9135d102aa663783fcd40faeb28"
    }
   }
  }
 },
 "nbformat": 4,
 "nbformat_minor": 2,
 "cells": [
  {
   "cell_type": "code",
   "execution_count": 10,
   "metadata": {},
   "outputs": [],
   "source": [
    "import pandas as pd\n",
    "import numpy as np\n",
    "import unicodedata\n",
    "import string\n",
    "from __future__ import unicode_literals, print_function, division\n",
    "from io import open\n",
    "import glob\n",
    "import os\n",
    "from utils import *\n",
    "from sklearn.model_selection import train_test_split\n"
   ]
  },
  {
   "cell_type": "code",
   "execution_count": 39,
   "metadata": {},
   "outputs": [],
   "source": [
    "df = pd.read_csv(\"data/baby_names.csv\")\n",
    "df = df.rename(columns = {\"Child's First Name\":\"Name\"})"
   ]
  },
  {
   "cell_type": "code",
   "execution_count": 40,
   "metadata": {},
   "outputs": [
    {
     "output_type": "execute_result",
     "data": {
      "text/plain": [
       "       Year of Birth  Gender                   Ethnicity     Name  Count  Rank\n",
       "0               2011  FEMALE  ASIAN AND PACIFIC ISLANDER   sophia    119     1\n",
       "1               2011  FEMALE  ASIAN AND PACIFIC ISLANDER    chloe    106     2\n",
       "2               2011  FEMALE  ASIAN AND PACIFIC ISLANDER    emily     93     3\n",
       "3               2011  FEMALE  ASIAN AND PACIFIC ISLANDER   olivia     89     4\n",
       "4               2011  FEMALE  ASIAN AND PACIFIC ISLANDER     emma     75     5\n",
       "...              ...     ...                         ...      ...    ...   ...\n",
       "11340           2016  FEMALE          BLACK NON HISPANIC  saniyah     10    43\n",
       "11341           2016  FEMALE          BLACK NON HISPANIC     skye     10    43\n",
       "11342           2016  FEMALE          BLACK NON HISPANIC    tiana     10    43\n",
       "11343           2016  FEMALE          BLACK NON HISPANIC   violet     10    43\n",
       "11344           2016  FEMALE          BLACK NON HISPANIC    zahra     10    43\n",
       "\n",
       "[11345 rows x 6 columns]"
      ],
      "text/html": "<div>\n<style scoped>\n    .dataframe tbody tr th:only-of-type {\n        vertical-align: middle;\n    }\n\n    .dataframe tbody tr th {\n        vertical-align: top;\n    }\n\n    .dataframe thead th {\n        text-align: right;\n    }\n</style>\n<table border=\"1\" class=\"dataframe\">\n  <thead>\n    <tr style=\"text-align: right;\">\n      <th></th>\n      <th>Year of Birth</th>\n      <th>Gender</th>\n      <th>Ethnicity</th>\n      <th>Name</th>\n      <th>Count</th>\n      <th>Rank</th>\n    </tr>\n  </thead>\n  <tbody>\n    <tr>\n      <th>0</th>\n      <td>2011</td>\n      <td>FEMALE</td>\n      <td>ASIAN AND PACIFIC ISLANDER</td>\n      <td>sophia</td>\n      <td>119</td>\n      <td>1</td>\n    </tr>\n    <tr>\n      <th>1</th>\n      <td>2011</td>\n      <td>FEMALE</td>\n      <td>ASIAN AND PACIFIC ISLANDER</td>\n      <td>chloe</td>\n      <td>106</td>\n      <td>2</td>\n    </tr>\n    <tr>\n      <th>2</th>\n      <td>2011</td>\n      <td>FEMALE</td>\n      <td>ASIAN AND PACIFIC ISLANDER</td>\n      <td>emily</td>\n      <td>93</td>\n      <td>3</td>\n    </tr>\n    <tr>\n      <th>3</th>\n      <td>2011</td>\n      <td>FEMALE</td>\n      <td>ASIAN AND PACIFIC ISLANDER</td>\n      <td>olivia</td>\n      <td>89</td>\n      <td>4</td>\n    </tr>\n    <tr>\n      <th>4</th>\n      <td>2011</td>\n      <td>FEMALE</td>\n      <td>ASIAN AND PACIFIC ISLANDER</td>\n      <td>emma</td>\n      <td>75</td>\n      <td>5</td>\n    </tr>\n    <tr>\n      <th>...</th>\n      <td>...</td>\n      <td>...</td>\n      <td>...</td>\n      <td>...</td>\n      <td>...</td>\n      <td>...</td>\n    </tr>\n    <tr>\n      <th>11340</th>\n      <td>2016</td>\n      <td>FEMALE</td>\n      <td>BLACK NON HISPANIC</td>\n      <td>saniyah</td>\n      <td>10</td>\n      <td>43</td>\n    </tr>\n    <tr>\n      <th>11341</th>\n      <td>2016</td>\n      <td>FEMALE</td>\n      <td>BLACK NON HISPANIC</td>\n      <td>skye</td>\n      <td>10</td>\n      <td>43</td>\n    </tr>\n    <tr>\n      <th>11342</th>\n      <td>2016</td>\n      <td>FEMALE</td>\n      <td>BLACK NON HISPANIC</td>\n      <td>tiana</td>\n      <td>10</td>\n      <td>43</td>\n    </tr>\n    <tr>\n      <th>11343</th>\n      <td>2016</td>\n      <td>FEMALE</td>\n      <td>BLACK NON HISPANIC</td>\n      <td>violet</td>\n      <td>10</td>\n      <td>43</td>\n    </tr>\n    <tr>\n      <th>11344</th>\n      <td>2016</td>\n      <td>FEMALE</td>\n      <td>BLACK NON HISPANIC</td>\n      <td>zahra</td>\n      <td>10</td>\n      <td>43</td>\n    </tr>\n  </tbody>\n</table>\n<p>11345 rows × 6 columns</p>\n</div>"
     },
     "metadata": {},
     "execution_count": 40
    }
   ],
   "source": [
    "df[\"Name\"] = df[\"Name\"].apply(str.lower)\n",
    "df"
   ]
  },
  {
   "cell_type": "code",
   "execution_count": 41,
   "metadata": {},
   "outputs": [
    {
     "output_type": "execute_result",
     "data": {
      "text/plain": [
       "17"
      ]
     },
     "metadata": {},
     "execution_count": 41
    }
   ],
   "source": [
    "(df[\"Name\"] == \"sophia\").values.astype(int).sum()"
   ]
  },
  {
   "cell_type": "code",
   "execution_count": 42,
   "metadata": {},
   "outputs": [
    {
     "output_type": "execute_result",
     "data": {
      "text/plain": [
       "                                    Year of Birth      Count       Rank\n",
       "Name    Ethnicity                                                      \n",
       "aahil   ASIAN AND PACIFIC ISLANDER         2015.0  12.666667  54.666667\n",
       "aaliyah BLACK NON HISP                     2012.0  55.000000  10.000000\n",
       "        BLACK NON HISPANIC                 2013.8  64.400000   4.600000\n",
       "        HISPANIC                           2013.5  60.000000  32.000000\n",
       "aarav   ASIAN AND PACI                     2012.0  10.000000  61.000000\n",
       "...                                           ...        ...        ...\n",
       "zoey    WHITE NON HISPANIC                 2014.0  20.000000  72.666667\n",
       "zoya    ASIAN AND PACIFIC ISLANDER         2013.0  16.000000  36.000000\n",
       "zuri    BLACK NON HISP                     2012.0  10.000000  47.000000\n",
       "        BLACK NON HISPANIC                 2013.8  21.800000  31.600000\n",
       "zyaire  BLACK NON HISPANIC                 2011.0  14.000000  60.000000\n",
       "\n",
       "[4167 rows x 3 columns]"
      ],
      "text/html": "<div>\n<style scoped>\n    .dataframe tbody tr th:only-of-type {\n        vertical-align: middle;\n    }\n\n    .dataframe tbody tr th {\n        vertical-align: top;\n    }\n\n    .dataframe thead th {\n        text-align: right;\n    }\n</style>\n<table border=\"1\" class=\"dataframe\">\n  <thead>\n    <tr style=\"text-align: right;\">\n      <th></th>\n      <th></th>\n      <th>Year of Birth</th>\n      <th>Count</th>\n      <th>Rank</th>\n    </tr>\n    <tr>\n      <th>Name</th>\n      <th>Ethnicity</th>\n      <th></th>\n      <th></th>\n      <th></th>\n    </tr>\n  </thead>\n  <tbody>\n    <tr>\n      <th>aahil</th>\n      <th>ASIAN AND PACIFIC ISLANDER</th>\n      <td>2015.0</td>\n      <td>12.666667</td>\n      <td>54.666667</td>\n    </tr>\n    <tr>\n      <th rowspan=\"3\" valign=\"top\">aaliyah</th>\n      <th>BLACK NON HISP</th>\n      <td>2012.0</td>\n      <td>55.000000</td>\n      <td>10.000000</td>\n    </tr>\n    <tr>\n      <th>BLACK NON HISPANIC</th>\n      <td>2013.8</td>\n      <td>64.400000</td>\n      <td>4.600000</td>\n    </tr>\n    <tr>\n      <th>HISPANIC</th>\n      <td>2013.5</td>\n      <td>60.000000</td>\n      <td>32.000000</td>\n    </tr>\n    <tr>\n      <th>aarav</th>\n      <th>ASIAN AND PACI</th>\n      <td>2012.0</td>\n      <td>10.000000</td>\n      <td>61.000000</td>\n    </tr>\n    <tr>\n      <th>...</th>\n      <th>...</th>\n      <td>...</td>\n      <td>...</td>\n      <td>...</td>\n    </tr>\n    <tr>\n      <th>zoey</th>\n      <th>WHITE NON HISPANIC</th>\n      <td>2014.0</td>\n      <td>20.000000</td>\n      <td>72.666667</td>\n    </tr>\n    <tr>\n      <th>zoya</th>\n      <th>ASIAN AND PACIFIC ISLANDER</th>\n      <td>2013.0</td>\n      <td>16.000000</td>\n      <td>36.000000</td>\n    </tr>\n    <tr>\n      <th rowspan=\"2\" valign=\"top\">zuri</th>\n      <th>BLACK NON HISP</th>\n      <td>2012.0</td>\n      <td>10.000000</td>\n      <td>47.000000</td>\n    </tr>\n    <tr>\n      <th>BLACK NON HISPANIC</th>\n      <td>2013.8</td>\n      <td>21.800000</td>\n      <td>31.600000</td>\n    </tr>\n    <tr>\n      <th>zyaire</th>\n      <th>BLACK NON HISPANIC</th>\n      <td>2011.0</td>\n      <td>14.000000</td>\n      <td>60.000000</td>\n    </tr>\n  </tbody>\n</table>\n<p>4167 rows × 3 columns</p>\n</div>"
     },
     "metadata": {},
     "execution_count": 42
    }
   ],
   "source": [
    "df.groupby([\"Name\",\"Ethnicity\"]).mean()"
   ]
  },
  {
   "cell_type": "code",
   "execution_count": 43,
   "metadata": {},
   "outputs": [
    {
     "output_type": "execute_result",
     "data": {
      "text/plain": [
       "array(['ASIAN AND PACI', 'ASIAN AND PACIFIC ISLANDER', 'BLACK NON HISP',\n",
       "       'BLACK NON HISPANIC', 'HISPANIC', 'WHITE NON HISP',\n",
       "       'WHITE NON HISPANIC'], dtype=object)"
      ]
     },
     "metadata": {},
     "execution_count": 43
    }
   ],
   "source": [
    "np.unique(df[\"Ethnicity\"].values)"
   ]
  },
  {
   "cell_type": "code",
   "execution_count": 45,
   "metadata": {},
   "outputs": [
    {
     "output_type": "execute_result",
     "data": {
      "text/plain": [
       "array(['AFRICAN', 'ASIAN', 'HISPANIC'], dtype=object)"
      ]
     },
     "metadata": {},
     "execution_count": 45
    }
   ],
   "source": [
    "def replace_ethnicity(name):\n",
    "    if(\"BLACK\" in name):\n",
    "        return \"AFRICAN\"\n",
    "    if(\"ASIAN\" in name):\n",
    "        return \"ASIAN\"\n",
    "    if(\"HISP\" in name):\n",
    "        return \"HISPANIC\"\n",
    "    return \"UNWKNOWN\"\n",
    "np.unique(df[\"Ethnicity\"].apply(replace_ethnicity).values)"
   ]
  },
  {
   "cell_type": "code",
   "execution_count": 46,
   "metadata": {},
   "outputs": [
    {
     "output_type": "execute_result",
     "data": {
      "text/plain": [
       "       Year of Birth  Gender Ethnicity     Name  Count  Rank\n",
       "0               2011  FEMALE     ASIAN   sophia    119     1\n",
       "1               2011  FEMALE     ASIAN    chloe    106     2\n",
       "2               2011  FEMALE     ASIAN    emily     93     3\n",
       "3               2011  FEMALE     ASIAN   olivia     89     4\n",
       "4               2011  FEMALE     ASIAN     emma     75     5\n",
       "...              ...     ...       ...      ...    ...   ...\n",
       "11340           2016  FEMALE   AFRICAN  saniyah     10    43\n",
       "11341           2016  FEMALE   AFRICAN     skye     10    43\n",
       "11342           2016  FEMALE   AFRICAN    tiana     10    43\n",
       "11343           2016  FEMALE   AFRICAN   violet     10    43\n",
       "11344           2016  FEMALE   AFRICAN    zahra     10    43\n",
       "\n",
       "[11345 rows x 6 columns]"
      ],
      "text/html": "<div>\n<style scoped>\n    .dataframe tbody tr th:only-of-type {\n        vertical-align: middle;\n    }\n\n    .dataframe tbody tr th {\n        vertical-align: top;\n    }\n\n    .dataframe thead th {\n        text-align: right;\n    }\n</style>\n<table border=\"1\" class=\"dataframe\">\n  <thead>\n    <tr style=\"text-align: right;\">\n      <th></th>\n      <th>Year of Birth</th>\n      <th>Gender</th>\n      <th>Ethnicity</th>\n      <th>Name</th>\n      <th>Count</th>\n      <th>Rank</th>\n    </tr>\n  </thead>\n  <tbody>\n    <tr>\n      <th>0</th>\n      <td>2011</td>\n      <td>FEMALE</td>\n      <td>ASIAN</td>\n      <td>sophia</td>\n      <td>119</td>\n      <td>1</td>\n    </tr>\n    <tr>\n      <th>1</th>\n      <td>2011</td>\n      <td>FEMALE</td>\n      <td>ASIAN</td>\n      <td>chloe</td>\n      <td>106</td>\n      <td>2</td>\n    </tr>\n    <tr>\n      <th>2</th>\n      <td>2011</td>\n      <td>FEMALE</td>\n      <td>ASIAN</td>\n      <td>emily</td>\n      <td>93</td>\n      <td>3</td>\n    </tr>\n    <tr>\n      <th>3</th>\n      <td>2011</td>\n      <td>FEMALE</td>\n      <td>ASIAN</td>\n      <td>olivia</td>\n      <td>89</td>\n      <td>4</td>\n    </tr>\n    <tr>\n      <th>4</th>\n      <td>2011</td>\n      <td>FEMALE</td>\n      <td>ASIAN</td>\n      <td>emma</td>\n      <td>75</td>\n      <td>5</td>\n    </tr>\n    <tr>\n      <th>...</th>\n      <td>...</td>\n      <td>...</td>\n      <td>...</td>\n      <td>...</td>\n      <td>...</td>\n      <td>...</td>\n    </tr>\n    <tr>\n      <th>11340</th>\n      <td>2016</td>\n      <td>FEMALE</td>\n      <td>AFRICAN</td>\n      <td>saniyah</td>\n      <td>10</td>\n      <td>43</td>\n    </tr>\n    <tr>\n      <th>11341</th>\n      <td>2016</td>\n      <td>FEMALE</td>\n      <td>AFRICAN</td>\n      <td>skye</td>\n      <td>10</td>\n      <td>43</td>\n    </tr>\n    <tr>\n      <th>11342</th>\n      <td>2016</td>\n      <td>FEMALE</td>\n      <td>AFRICAN</td>\n      <td>tiana</td>\n      <td>10</td>\n      <td>43</td>\n    </tr>\n    <tr>\n      <th>11343</th>\n      <td>2016</td>\n      <td>FEMALE</td>\n      <td>AFRICAN</td>\n      <td>violet</td>\n      <td>10</td>\n      <td>43</td>\n    </tr>\n    <tr>\n      <th>11344</th>\n      <td>2016</td>\n      <td>FEMALE</td>\n      <td>AFRICAN</td>\n      <td>zahra</td>\n      <td>10</td>\n      <td>43</td>\n    </tr>\n  </tbody>\n</table>\n<p>11345 rows × 6 columns</p>\n</div>"
     },
     "metadata": {},
     "execution_count": 46
    }
   ],
   "source": [
    "df[\"Ethnicity\"] = df[\"Ethnicity\"].apply(replace_ethnicity)\n",
    "df"
   ]
  },
  {
   "cell_type": "code",
   "execution_count": 93,
   "metadata": {
    "tags": []
   },
   "outputs": [
    {
     "output_type": "execute_result",
     "data": {
      "text/plain": [
       "         Name  Total\n",
       "0       aahil     38\n",
       "1     aaliyah    737\n",
       "2       aarav     72\n",
       "3       aaron   1594\n",
       "4       aarya     21\n",
       "...       ...    ...\n",
       "1770      zoe   1090\n",
       "1771     zoey    539\n",
       "1772     zoya     16\n",
       "1773     zuri    119\n",
       "1774   zyaire     14\n",
       "\n",
       "[1775 rows x 2 columns]"
      ],
      "text/html": "<div>\n<style scoped>\n    .dataframe tbody tr th:only-of-type {\n        vertical-align: middle;\n    }\n\n    .dataframe tbody tr th {\n        vertical-align: top;\n    }\n\n    .dataframe thead th {\n        text-align: right;\n    }\n</style>\n<table border=\"1\" class=\"dataframe\">\n  <thead>\n    <tr style=\"text-align: right;\">\n      <th></th>\n      <th>Name</th>\n      <th>Total</th>\n    </tr>\n  </thead>\n  <tbody>\n    <tr>\n      <th>0</th>\n      <td>aahil</td>\n      <td>38</td>\n    </tr>\n    <tr>\n      <th>1</th>\n      <td>aaliyah</td>\n      <td>737</td>\n    </tr>\n    <tr>\n      <th>2</th>\n      <td>aarav</td>\n      <td>72</td>\n    </tr>\n    <tr>\n      <th>3</th>\n      <td>aaron</td>\n      <td>1594</td>\n    </tr>\n    <tr>\n      <th>4</th>\n      <td>aarya</td>\n      <td>21</td>\n    </tr>\n    <tr>\n      <th>...</th>\n      <td>...</td>\n      <td>...</td>\n    </tr>\n    <tr>\n      <th>1770</th>\n      <td>zoe</td>\n      <td>1090</td>\n    </tr>\n    <tr>\n      <th>1771</th>\n      <td>zoey</td>\n      <td>539</td>\n    </tr>\n    <tr>\n      <th>1772</th>\n      <td>zoya</td>\n      <td>16</td>\n    </tr>\n    <tr>\n      <th>1773</th>\n      <td>zuri</td>\n      <td>119</td>\n    </tr>\n    <tr>\n      <th>1774</th>\n      <td>zyaire</td>\n      <td>14</td>\n    </tr>\n  </tbody>\n</table>\n<p>1775 rows × 2 columns</p>\n</div>"
     },
     "metadata": {},
     "execution_count": 93
    }
   ],
   "source": [
    "dfg = df.groupby([\"Name\",\"Ethnicity\"]).sum().reset_index()\n",
    "count_total = dfg.groupby('Name')[\"Count\"].sum().rename(\"Total\").reset_index()\n",
    "count_total"
   ]
  },
  {
   "cell_type": "code",
   "execution_count": 115,
   "metadata": {},
   "outputs": [],
   "source": [
    "df_total = df.groupby([\"Name\",\"Ethnicity\"]).sum().reset_index().merge(count_total)"
   ]
  },
  {
   "cell_type": "code",
   "execution_count": 116,
   "metadata": {},
   "outputs": [],
   "source": [
    " df_total[\"Count\"]  = df_total[\"Count\"] / df_total[\"Total\"]"
   ]
  },
  {
   "source": [
    "df_total[df_total.Count > 0.50][\"Count\"].hist()"
   ],
   "cell_type": "code",
   "metadata": {},
   "execution_count": 134,
   "outputs": [
    {
     "output_type": "execute_result",
     "data": {
      "text/plain": [
       "<AxesSubplot:>"
      ]
     },
     "metadata": {},
     "execution_count": 134
    },
    {
     "output_type": "display_data",
     "data": {
      "text/plain": "<Figure size 432x288 with 1 Axes>",
      "image/svg+xml": "<?xml version=\"1.0\" encoding=\"utf-8\" standalone=\"no\"?>\n<!DOCTYPE svg PUBLIC \"-//W3C//DTD SVG 1.1//EN\"\n  \"http://www.w3.org/Graphics/SVG/1.1/DTD/svg11.dtd\">\n<!-- Created with matplotlib (https://matplotlib.org/) -->\n<svg height=\"248.518125pt\" version=\"1.1\" viewBox=\"0 0 381.65 248.518125\" width=\"381.65pt\" xmlns=\"http://www.w3.org/2000/svg\" xmlns:xlink=\"http://www.w3.org/1999/xlink\">\n <metadata>\n  <rdf:RDF xmlns:cc=\"http://creativecommons.org/ns#\" xmlns:dc=\"http://purl.org/dc/elements/1.1/\" xmlns:rdf=\"http://www.w3.org/1999/02/22-rdf-syntax-ns#\">\n   <cc:Work>\n    <dc:type rdf:resource=\"http://purl.org/dc/dcmitype/StillImage\"/>\n    <dc:date>2021-02-19T23:24:59.663737</dc:date>\n    <dc:format>image/svg+xml</dc:format>\n    <dc:creator>\n     <cc:Agent>\n      <dc:title>Matplotlib v3.3.4, https://matplotlib.org/</dc:title>\n     </cc:Agent>\n    </dc:creator>\n   </cc:Work>\n  </rdf:RDF>\n </metadata>\n <defs>\n  <style type=\"text/css\">*{stroke-linecap:butt;stroke-linejoin:round;}</style>\n </defs>\n <g id=\"figure_1\">\n  <g id=\"patch_1\">\n   <path d=\"M -0 248.518125 \nL 381.65 248.518125 \nL 381.65 0 \nL -0 0 \nz\n\" style=\"fill:none;\"/>\n  </g>\n  <g id=\"axes_1\">\n   <g id=\"patch_2\">\n    <path d=\"M 39.65 224.64 \nL 374.45 224.64 \nL 374.45 7.2 \nL 39.65 7.2 \nz\n\" style=\"fill:#ffffff;\"/>\n   </g>\n   <g id=\"patch_3\">\n    <path clip-path=\"url(#pc0126e29c3)\" d=\"M 54.868182 224.64 \nL 85.304545 224.64 \nL 85.304545 213.274521 \nL 54.868182 213.274521 \nz\n\" style=\"fill:#1f77b4;\"/>\n   </g>\n   <g id=\"patch_4\">\n    <path clip-path=\"url(#pc0126e29c3)\" d=\"M 85.304545 224.64 \nL 115.740909 224.64 \nL 115.740909 216.784448 \nL 85.304545 216.784448 \nz\n\" style=\"fill:#1f77b4;\"/>\n   </g>\n   <g id=\"patch_5\">\n    <path clip-path=\"url(#pc0126e29c3)\" d=\"M 115.740909 224.64 \nL 146.177273 224.64 \nL 146.177273 217.453006 \nL 115.740909 217.453006 \nz\n\" style=\"fill:#1f77b4;\"/>\n   </g>\n   <g id=\"patch_6\">\n    <path clip-path=\"url(#pc0126e29c3)\" d=\"M 146.177273 224.64 \nL 176.613636 224.64 \nL 176.613636 213.6088 \nL 146.177273 213.6088 \nz\n\" style=\"fill:#1f77b4;\"/>\n   </g>\n   <g id=\"patch_7\">\n    <path clip-path=\"url(#pc0126e29c3)\" d=\"M 176.613636 224.64 \nL 207.05 224.64 \nL 207.05 216.115891 \nL 176.613636 216.115891 \nz\n\" style=\"fill:#1f77b4;\"/>\n   </g>\n   <g id=\"patch_8\">\n    <path clip-path=\"url(#pc0126e29c3)\" d=\"M 207.05 224.64 \nL 237.486364 224.64 \nL 237.486364 215.280194 \nL 207.05 215.280194 \nz\n\" style=\"fill:#1f77b4;\"/>\n   </g>\n   <g id=\"patch_9\">\n    <path clip-path=\"url(#pc0126e29c3)\" d=\"M 237.486364 224.64 \nL 267.922727 224.64 \nL 267.922727 212.940242 \nL 237.486364 212.940242 \nz\n\" style=\"fill:#1f77b4;\"/>\n   </g>\n   <g id=\"patch_10\">\n    <path clip-path=\"url(#pc0126e29c3)\" d=\"M 267.922727 224.64 \nL 298.359091 224.64 \nL 298.359091 217.453006 \nL 267.922727 217.453006 \nz\n\" style=\"fill:#1f77b4;\"/>\n   </g>\n   <g id=\"patch_11\">\n    <path clip-path=\"url(#pc0126e29c3)\" d=\"M 298.359091 224.64 \nL 328.795455 224.64 \nL 328.795455 215.614473 \nL 298.359091 215.614473 \nz\n\" style=\"fill:#1f77b4;\"/>\n   </g>\n   <g id=\"patch_12\">\n    <path clip-path=\"url(#pc0126e29c3)\" d=\"M 328.795455 224.64 \nL 359.231818 224.64 \nL 359.231818 17.554286 \nL 328.795455 17.554286 \nz\n\" style=\"fill:#1f77b4;\"/>\n   </g>\n   <g id=\"matplotlib.axis_1\">\n    <g id=\"xtick_1\">\n     <g id=\"line2d_1\">\n      <path clip-path=\"url(#pc0126e29c3)\" d=\"M 51.960249 224.64 \nL 51.960249 7.2 \n\" style=\"fill:none;stroke:#b0b0b0;stroke-linecap:square;stroke-width:0.8;\"/>\n     </g>\n     <g id=\"line2d_2\">\n      <defs>\n       <path d=\"M 0 0 \nL 0 3.5 \n\" id=\"mb6d882bb56\" style=\"stroke:#000000;stroke-width:0.8;\"/>\n      </defs>\n      <g>\n       <use style=\"stroke:#000000;stroke-width:0.8;\" x=\"51.960249\" xlink:href=\"#mb6d882bb56\" y=\"224.64\"/>\n      </g>\n     </g>\n     <g id=\"text_1\">\n      <!-- 0.5 -->\n      <g transform=\"translate(44.008686 239.238437)scale(0.1 -0.1)\">\n       <defs>\n        <path d=\"M 31.78125 66.40625 \nQ 24.171875 66.40625 20.328125 58.90625 \nQ 16.5 51.421875 16.5 36.375 \nQ 16.5 21.390625 20.328125 13.890625 \nQ 24.171875 6.390625 31.78125 6.390625 \nQ 39.453125 6.390625 43.28125 13.890625 \nQ 47.125 21.390625 47.125 36.375 \nQ 47.125 51.421875 43.28125 58.90625 \nQ 39.453125 66.40625 31.78125 66.40625 \nz\nM 31.78125 74.21875 \nQ 44.046875 74.21875 50.515625 64.515625 \nQ 56.984375 54.828125 56.984375 36.375 \nQ 56.984375 17.96875 50.515625 8.265625 \nQ 44.046875 -1.421875 31.78125 -1.421875 \nQ 19.53125 -1.421875 13.0625 8.265625 \nQ 6.59375 17.96875 6.59375 36.375 \nQ 6.59375 54.828125 13.0625 64.515625 \nQ 19.53125 74.21875 31.78125 74.21875 \nz\n\" id=\"DejaVuSans-48\"/>\n        <path d=\"M 10.6875 12.40625 \nL 21 12.40625 \nL 21 0 \nL 10.6875 0 \nz\n\" id=\"DejaVuSans-46\"/>\n        <path d=\"M 10.796875 72.90625 \nL 49.515625 72.90625 \nL 49.515625 64.59375 \nL 19.828125 64.59375 \nL 19.828125 46.734375 \nQ 21.96875 47.46875 24.109375 47.828125 \nQ 26.265625 48.1875 28.421875 48.1875 \nQ 40.625 48.1875 47.75 41.5 \nQ 54.890625 34.8125 54.890625 23.390625 \nQ 54.890625 11.625 47.5625 5.09375 \nQ 40.234375 -1.421875 26.90625 -1.421875 \nQ 22.3125 -1.421875 17.546875 -0.640625 \nQ 12.796875 0.140625 7.71875 1.703125 \nL 7.71875 11.625 \nQ 12.109375 9.234375 16.796875 8.0625 \nQ 21.484375 6.890625 26.703125 6.890625 \nQ 35.15625 6.890625 40.078125 11.328125 \nQ 45.015625 15.765625 45.015625 23.390625 \nQ 45.015625 31 40.078125 35.4375 \nQ 35.15625 39.890625 26.703125 39.890625 \nQ 22.75 39.890625 18.8125 39.015625 \nQ 14.890625 38.140625 10.796875 36.28125 \nz\n\" id=\"DejaVuSans-53\"/>\n       </defs>\n       <use xlink:href=\"#DejaVuSans-48\"/>\n       <use x=\"63.623047\" xlink:href=\"#DejaVuSans-46\"/>\n       <use x=\"95.410156\" xlink:href=\"#DejaVuSans-53\"/>\n      </g>\n     </g>\n    </g>\n    <g id=\"xtick_2\">\n     <g id=\"line2d_3\">\n      <path clip-path=\"url(#pc0126e29c3)\" d=\"M 113.414563 224.64 \nL 113.414563 7.2 \n\" style=\"fill:none;stroke:#b0b0b0;stroke-linecap:square;stroke-width:0.8;\"/>\n     </g>\n     <g id=\"line2d_4\">\n      <g>\n       <use style=\"stroke:#000000;stroke-width:0.8;\" x=\"113.414563\" xlink:href=\"#mb6d882bb56\" y=\"224.64\"/>\n      </g>\n     </g>\n     <g id=\"text_2\">\n      <!-- 0.6 -->\n      <g transform=\"translate(105.463 239.238437)scale(0.1 -0.1)\">\n       <defs>\n        <path d=\"M 33.015625 40.375 \nQ 26.375 40.375 22.484375 35.828125 \nQ 18.609375 31.296875 18.609375 23.390625 \nQ 18.609375 15.53125 22.484375 10.953125 \nQ 26.375 6.390625 33.015625 6.390625 \nQ 39.65625 6.390625 43.53125 10.953125 \nQ 47.40625 15.53125 47.40625 23.390625 \nQ 47.40625 31.296875 43.53125 35.828125 \nQ 39.65625 40.375 33.015625 40.375 \nz\nM 52.59375 71.296875 \nL 52.59375 62.3125 \nQ 48.875 64.0625 45.09375 64.984375 \nQ 41.3125 65.921875 37.59375 65.921875 \nQ 27.828125 65.921875 22.671875 59.328125 \nQ 17.53125 52.734375 16.796875 39.40625 \nQ 19.671875 43.65625 24.015625 45.921875 \nQ 28.375 48.1875 33.59375 48.1875 \nQ 44.578125 48.1875 50.953125 41.515625 \nQ 57.328125 34.859375 57.328125 23.390625 \nQ 57.328125 12.15625 50.6875 5.359375 \nQ 44.046875 -1.421875 33.015625 -1.421875 \nQ 20.359375 -1.421875 13.671875 8.265625 \nQ 6.984375 17.96875 6.984375 36.375 \nQ 6.984375 53.65625 15.1875 63.9375 \nQ 23.390625 74.21875 37.203125 74.21875 \nQ 40.921875 74.21875 44.703125 73.484375 \nQ 48.484375 72.75 52.59375 71.296875 \nz\n\" id=\"DejaVuSans-54\"/>\n       </defs>\n       <use xlink:href=\"#DejaVuSans-48\"/>\n       <use x=\"63.623047\" xlink:href=\"#DejaVuSans-46\"/>\n       <use x=\"95.410156\" xlink:href=\"#DejaVuSans-54\"/>\n      </g>\n     </g>\n    </g>\n    <g id=\"xtick_3\">\n     <g id=\"line2d_5\">\n      <path clip-path=\"url(#pc0126e29c3)\" d=\"M 174.868877 224.64 \nL 174.868877 7.2 \n\" style=\"fill:none;stroke:#b0b0b0;stroke-linecap:square;stroke-width:0.8;\"/>\n     </g>\n     <g id=\"line2d_6\">\n      <g>\n       <use style=\"stroke:#000000;stroke-width:0.8;\" x=\"174.868877\" xlink:href=\"#mb6d882bb56\" y=\"224.64\"/>\n      </g>\n     </g>\n     <g id=\"text_3\">\n      <!-- 0.7 -->\n      <g transform=\"translate(166.917314 239.238437)scale(0.1 -0.1)\">\n       <defs>\n        <path d=\"M 8.203125 72.90625 \nL 55.078125 72.90625 \nL 55.078125 68.703125 \nL 28.609375 0 \nL 18.3125 0 \nL 43.21875 64.59375 \nL 8.203125 64.59375 \nz\n\" id=\"DejaVuSans-55\"/>\n       </defs>\n       <use xlink:href=\"#DejaVuSans-48\"/>\n       <use x=\"63.623047\" xlink:href=\"#DejaVuSans-46\"/>\n       <use x=\"95.410156\" xlink:href=\"#DejaVuSans-55\"/>\n      </g>\n     </g>\n    </g>\n    <g id=\"xtick_4\">\n     <g id=\"line2d_7\">\n      <path clip-path=\"url(#pc0126e29c3)\" d=\"M 236.323191 224.64 \nL 236.323191 7.2 \n\" style=\"fill:none;stroke:#b0b0b0;stroke-linecap:square;stroke-width:0.8;\"/>\n     </g>\n     <g id=\"line2d_8\">\n      <g>\n       <use style=\"stroke:#000000;stroke-width:0.8;\" x=\"236.323191\" xlink:href=\"#mb6d882bb56\" y=\"224.64\"/>\n      </g>\n     </g>\n     <g id=\"text_4\">\n      <!-- 0.8 -->\n      <g transform=\"translate(228.371628 239.238437)scale(0.1 -0.1)\">\n       <defs>\n        <path d=\"M 31.78125 34.625 \nQ 24.75 34.625 20.71875 30.859375 \nQ 16.703125 27.09375 16.703125 20.515625 \nQ 16.703125 13.921875 20.71875 10.15625 \nQ 24.75 6.390625 31.78125 6.390625 \nQ 38.8125 6.390625 42.859375 10.171875 \nQ 46.921875 13.96875 46.921875 20.515625 \nQ 46.921875 27.09375 42.890625 30.859375 \nQ 38.875 34.625 31.78125 34.625 \nz\nM 21.921875 38.8125 \nQ 15.578125 40.375 12.03125 44.71875 \nQ 8.5 49.078125 8.5 55.328125 \nQ 8.5 64.0625 14.71875 69.140625 \nQ 20.953125 74.21875 31.78125 74.21875 \nQ 42.671875 74.21875 48.875 69.140625 \nQ 55.078125 64.0625 55.078125 55.328125 \nQ 55.078125 49.078125 51.53125 44.71875 \nQ 48 40.375 41.703125 38.8125 \nQ 48.828125 37.15625 52.796875 32.3125 \nQ 56.78125 27.484375 56.78125 20.515625 \nQ 56.78125 9.90625 50.3125 4.234375 \nQ 43.84375 -1.421875 31.78125 -1.421875 \nQ 19.734375 -1.421875 13.25 4.234375 \nQ 6.78125 9.90625 6.78125 20.515625 \nQ 6.78125 27.484375 10.78125 32.3125 \nQ 14.796875 37.15625 21.921875 38.8125 \nz\nM 18.3125 54.390625 \nQ 18.3125 48.734375 21.84375 45.5625 \nQ 25.390625 42.390625 31.78125 42.390625 \nQ 38.140625 42.390625 41.71875 45.5625 \nQ 45.3125 48.734375 45.3125 54.390625 \nQ 45.3125 60.0625 41.71875 63.234375 \nQ 38.140625 66.40625 31.78125 66.40625 \nQ 25.390625 66.40625 21.84375 63.234375 \nQ 18.3125 60.0625 18.3125 54.390625 \nz\n\" id=\"DejaVuSans-56\"/>\n       </defs>\n       <use xlink:href=\"#DejaVuSans-48\"/>\n       <use x=\"63.623047\" xlink:href=\"#DejaVuSans-46\"/>\n       <use x=\"95.410156\" xlink:href=\"#DejaVuSans-56\"/>\n      </g>\n     </g>\n    </g>\n    <g id=\"xtick_5\">\n     <g id=\"line2d_9\">\n      <path clip-path=\"url(#pc0126e29c3)\" d=\"M 297.777504 224.64 \nL 297.777504 7.2 \n\" style=\"fill:none;stroke:#b0b0b0;stroke-linecap:square;stroke-width:0.8;\"/>\n     </g>\n     <g id=\"line2d_10\">\n      <g>\n       <use style=\"stroke:#000000;stroke-width:0.8;\" x=\"297.777504\" xlink:href=\"#mb6d882bb56\" y=\"224.64\"/>\n      </g>\n     </g>\n     <g id=\"text_5\">\n      <!-- 0.9 -->\n      <g transform=\"translate(289.825942 239.238437)scale(0.1 -0.1)\">\n       <defs>\n        <path d=\"M 10.984375 1.515625 \nL 10.984375 10.5 \nQ 14.703125 8.734375 18.5 7.8125 \nQ 22.3125 6.890625 25.984375 6.890625 \nQ 35.75 6.890625 40.890625 13.453125 \nQ 46.046875 20.015625 46.78125 33.40625 \nQ 43.953125 29.203125 39.59375 26.953125 \nQ 35.25 24.703125 29.984375 24.703125 \nQ 19.046875 24.703125 12.671875 31.3125 \nQ 6.296875 37.9375 6.296875 49.421875 \nQ 6.296875 60.640625 12.9375 67.421875 \nQ 19.578125 74.21875 30.609375 74.21875 \nQ 43.265625 74.21875 49.921875 64.515625 \nQ 56.59375 54.828125 56.59375 36.375 \nQ 56.59375 19.140625 48.40625 8.859375 \nQ 40.234375 -1.421875 26.421875 -1.421875 \nQ 22.703125 -1.421875 18.890625 -0.6875 \nQ 15.09375 0.046875 10.984375 1.515625 \nz\nM 30.609375 32.421875 \nQ 37.25 32.421875 41.125 36.953125 \nQ 45.015625 41.5 45.015625 49.421875 \nQ 45.015625 57.28125 41.125 61.84375 \nQ 37.25 66.40625 30.609375 66.40625 \nQ 23.96875 66.40625 20.09375 61.84375 \nQ 16.21875 57.28125 16.21875 49.421875 \nQ 16.21875 41.5 20.09375 36.953125 \nQ 23.96875 32.421875 30.609375 32.421875 \nz\n\" id=\"DejaVuSans-57\"/>\n       </defs>\n       <use xlink:href=\"#DejaVuSans-48\"/>\n       <use x=\"63.623047\" xlink:href=\"#DejaVuSans-46\"/>\n       <use x=\"95.410156\" xlink:href=\"#DejaVuSans-57\"/>\n      </g>\n     </g>\n    </g>\n    <g id=\"xtick_6\">\n     <g id=\"line2d_11\">\n      <path clip-path=\"url(#pc0126e29c3)\" d=\"M 359.231818 224.64 \nL 359.231818 7.2 \n\" style=\"fill:none;stroke:#b0b0b0;stroke-linecap:square;stroke-width:0.8;\"/>\n     </g>\n     <g id=\"line2d_12\">\n      <g>\n       <use style=\"stroke:#000000;stroke-width:0.8;\" x=\"359.231818\" xlink:href=\"#mb6d882bb56\" y=\"224.64\"/>\n      </g>\n     </g>\n     <g id=\"text_6\">\n      <!-- 1.0 -->\n      <g transform=\"translate(351.280256 239.238437)scale(0.1 -0.1)\">\n       <defs>\n        <path d=\"M 12.40625 8.296875 \nL 28.515625 8.296875 \nL 28.515625 63.921875 \nL 10.984375 60.40625 \nL 10.984375 69.390625 \nL 28.421875 72.90625 \nL 38.28125 72.90625 \nL 38.28125 8.296875 \nL 54.390625 8.296875 \nL 54.390625 0 \nL 12.40625 0 \nz\n\" id=\"DejaVuSans-49\"/>\n       </defs>\n       <use xlink:href=\"#DejaVuSans-49\"/>\n       <use x=\"63.623047\" xlink:href=\"#DejaVuSans-46\"/>\n       <use x=\"95.410156\" xlink:href=\"#DejaVuSans-48\"/>\n      </g>\n     </g>\n    </g>\n   </g>\n   <g id=\"matplotlib.axis_2\">\n    <g id=\"ytick_1\">\n     <g id=\"line2d_13\">\n      <path clip-path=\"url(#pc0126e29c3)\" d=\"M 39.65 224.64 \nL 374.45 224.64 \n\" style=\"fill:none;stroke:#b0b0b0;stroke-linecap:square;stroke-width:0.8;\"/>\n     </g>\n     <g id=\"line2d_14\">\n      <defs>\n       <path d=\"M 0 0 \nL -3.5 0 \n\" id=\"m5e6f7d2cc7\" style=\"stroke:#000000;stroke-width:0.8;\"/>\n      </defs>\n      <g>\n       <use style=\"stroke:#000000;stroke-width:0.8;\" x=\"39.65\" xlink:href=\"#m5e6f7d2cc7\" y=\"224.64\"/>\n      </g>\n     </g>\n     <g id=\"text_7\">\n      <!-- 0 -->\n      <g transform=\"translate(26.2875 228.439219)scale(0.1 -0.1)\">\n       <use xlink:href=\"#DejaVuSans-48\"/>\n      </g>\n     </g>\n    </g>\n    <g id=\"ytick_2\">\n     <g id=\"line2d_15\">\n      <path clip-path=\"url(#pc0126e29c3)\" d=\"M 39.65 191.21212 \nL 374.45 191.21212 \n\" style=\"fill:none;stroke:#b0b0b0;stroke-linecap:square;stroke-width:0.8;\"/>\n     </g>\n     <g id=\"line2d_16\">\n      <g>\n       <use style=\"stroke:#000000;stroke-width:0.8;\" x=\"39.65\" xlink:href=\"#m5e6f7d2cc7\" y=\"191.21212\"/>\n      </g>\n     </g>\n     <g id=\"text_8\">\n      <!-- 200 -->\n      <g transform=\"translate(13.5625 195.011339)scale(0.1 -0.1)\">\n       <defs>\n        <path d=\"M 19.1875 8.296875 \nL 53.609375 8.296875 \nL 53.609375 0 \nL 7.328125 0 \nL 7.328125 8.296875 \nQ 12.9375 14.109375 22.625 23.890625 \nQ 32.328125 33.6875 34.8125 36.53125 \nQ 39.546875 41.84375 41.421875 45.53125 \nQ 43.3125 49.21875 43.3125 52.78125 \nQ 43.3125 58.59375 39.234375 62.25 \nQ 35.15625 65.921875 28.609375 65.921875 \nQ 23.96875 65.921875 18.8125 64.3125 \nQ 13.671875 62.703125 7.8125 59.421875 \nL 7.8125 69.390625 \nQ 13.765625 71.78125 18.9375 73 \nQ 24.125 74.21875 28.421875 74.21875 \nQ 39.75 74.21875 46.484375 68.546875 \nQ 53.21875 62.890625 53.21875 53.421875 \nQ 53.21875 48.921875 51.53125 44.890625 \nQ 49.859375 40.875 45.40625 35.40625 \nQ 44.1875 33.984375 37.640625 27.21875 \nQ 31.109375 20.453125 19.1875 8.296875 \nz\n\" id=\"DejaVuSans-50\"/>\n       </defs>\n       <use xlink:href=\"#DejaVuSans-50\"/>\n       <use x=\"63.623047\" xlink:href=\"#DejaVuSans-48\"/>\n       <use x=\"127.246094\" xlink:href=\"#DejaVuSans-48\"/>\n      </g>\n     </g>\n    </g>\n    <g id=\"ytick_3\">\n     <g id=\"line2d_17\">\n      <path clip-path=\"url(#pc0126e29c3)\" d=\"M 39.65 157.784241 \nL 374.45 157.784241 \n\" style=\"fill:none;stroke:#b0b0b0;stroke-linecap:square;stroke-width:0.8;\"/>\n     </g>\n     <g id=\"line2d_18\">\n      <g>\n       <use style=\"stroke:#000000;stroke-width:0.8;\" x=\"39.65\" xlink:href=\"#m5e6f7d2cc7\" y=\"157.784241\"/>\n      </g>\n     </g>\n     <g id=\"text_9\">\n      <!-- 400 -->\n      <g transform=\"translate(13.5625 161.583459)scale(0.1 -0.1)\">\n       <defs>\n        <path d=\"M 37.796875 64.3125 \nL 12.890625 25.390625 \nL 37.796875 25.390625 \nz\nM 35.203125 72.90625 \nL 47.609375 72.90625 \nL 47.609375 25.390625 \nL 58.015625 25.390625 \nL 58.015625 17.1875 \nL 47.609375 17.1875 \nL 47.609375 0 \nL 37.796875 0 \nL 37.796875 17.1875 \nL 4.890625 17.1875 \nL 4.890625 26.703125 \nz\n\" id=\"DejaVuSans-52\"/>\n       </defs>\n       <use xlink:href=\"#DejaVuSans-52\"/>\n       <use x=\"63.623047\" xlink:href=\"#DejaVuSans-48\"/>\n       <use x=\"127.246094\" xlink:href=\"#DejaVuSans-48\"/>\n      </g>\n     </g>\n    </g>\n    <g id=\"ytick_4\">\n     <g id=\"line2d_19\">\n      <path clip-path=\"url(#pc0126e29c3)\" d=\"M 39.65 124.356361 \nL 374.45 124.356361 \n\" style=\"fill:none;stroke:#b0b0b0;stroke-linecap:square;stroke-width:0.8;\"/>\n     </g>\n     <g id=\"line2d_20\">\n      <g>\n       <use style=\"stroke:#000000;stroke-width:0.8;\" x=\"39.65\" xlink:href=\"#m5e6f7d2cc7\" y=\"124.356361\"/>\n      </g>\n     </g>\n     <g id=\"text_10\">\n      <!-- 600 -->\n      <g transform=\"translate(13.5625 128.15558)scale(0.1 -0.1)\">\n       <use xlink:href=\"#DejaVuSans-54\"/>\n       <use x=\"63.623047\" xlink:href=\"#DejaVuSans-48\"/>\n       <use x=\"127.246094\" xlink:href=\"#DejaVuSans-48\"/>\n      </g>\n     </g>\n    </g>\n    <g id=\"ytick_5\">\n     <g id=\"line2d_21\">\n      <path clip-path=\"url(#pc0126e29c3)\" d=\"M 39.65 90.928481 \nL 374.45 90.928481 \n\" style=\"fill:none;stroke:#b0b0b0;stroke-linecap:square;stroke-width:0.8;\"/>\n     </g>\n     <g id=\"line2d_22\">\n      <g>\n       <use style=\"stroke:#000000;stroke-width:0.8;\" x=\"39.65\" xlink:href=\"#m5e6f7d2cc7\" y=\"90.928481\"/>\n      </g>\n     </g>\n     <g id=\"text_11\">\n      <!-- 800 -->\n      <g transform=\"translate(13.5625 94.7277)scale(0.1 -0.1)\">\n       <use xlink:href=\"#DejaVuSans-56\"/>\n       <use x=\"63.623047\" xlink:href=\"#DejaVuSans-48\"/>\n       <use x=\"127.246094\" xlink:href=\"#DejaVuSans-48\"/>\n      </g>\n     </g>\n    </g>\n    <g id=\"ytick_6\">\n     <g id=\"line2d_23\">\n      <path clip-path=\"url(#pc0126e29c3)\" d=\"M 39.65 57.500602 \nL 374.45 57.500602 \n\" style=\"fill:none;stroke:#b0b0b0;stroke-linecap:square;stroke-width:0.8;\"/>\n     </g>\n     <g id=\"line2d_24\">\n      <g>\n       <use style=\"stroke:#000000;stroke-width:0.8;\" x=\"39.65\" xlink:href=\"#m5e6f7d2cc7\" y=\"57.500602\"/>\n      </g>\n     </g>\n     <g id=\"text_12\">\n      <!-- 1000 -->\n      <g transform=\"translate(7.2 61.299821)scale(0.1 -0.1)\">\n       <use xlink:href=\"#DejaVuSans-49\"/>\n       <use x=\"63.623047\" xlink:href=\"#DejaVuSans-48\"/>\n       <use x=\"127.246094\" xlink:href=\"#DejaVuSans-48\"/>\n       <use x=\"190.869141\" xlink:href=\"#DejaVuSans-48\"/>\n      </g>\n     </g>\n    </g>\n    <g id=\"ytick_7\">\n     <g id=\"line2d_25\">\n      <path clip-path=\"url(#pc0126e29c3)\" d=\"M 39.65 24.072722 \nL 374.45 24.072722 \n\" style=\"fill:none;stroke:#b0b0b0;stroke-linecap:square;stroke-width:0.8;\"/>\n     </g>\n     <g id=\"line2d_26\">\n      <g>\n       <use style=\"stroke:#000000;stroke-width:0.8;\" x=\"39.65\" xlink:href=\"#m5e6f7d2cc7\" y=\"24.072722\"/>\n      </g>\n     </g>\n     <g id=\"text_13\">\n      <!-- 1200 -->\n      <g transform=\"translate(7.2 27.871941)scale(0.1 -0.1)\">\n       <use xlink:href=\"#DejaVuSans-49\"/>\n       <use x=\"63.623047\" xlink:href=\"#DejaVuSans-50\"/>\n       <use x=\"127.246094\" xlink:href=\"#DejaVuSans-48\"/>\n       <use x=\"190.869141\" xlink:href=\"#DejaVuSans-48\"/>\n      </g>\n     </g>\n    </g>\n   </g>\n   <g id=\"patch_13\">\n    <path d=\"M 39.65 224.64 \nL 39.65 7.2 \n\" style=\"fill:none;stroke:#000000;stroke-linecap:square;stroke-linejoin:miter;stroke-width:0.8;\"/>\n   </g>\n   <g id=\"patch_14\">\n    <path d=\"M 374.45 224.64 \nL 374.45 7.2 \n\" style=\"fill:none;stroke:#000000;stroke-linecap:square;stroke-linejoin:miter;stroke-width:0.8;\"/>\n   </g>\n   <g id=\"patch_15\">\n    <path d=\"M 39.65 224.64 \nL 374.45 224.64 \n\" style=\"fill:none;stroke:#000000;stroke-linecap:square;stroke-linejoin:miter;stroke-width:0.8;\"/>\n   </g>\n   <g id=\"patch_16\">\n    <path d=\"M 39.65 7.2 \nL 374.45 7.2 \n\" style=\"fill:none;stroke:#000000;stroke-linecap:square;stroke-linejoin:miter;stroke-width:0.8;\"/>\n   </g>\n  </g>\n </g>\n <defs>\n  <clipPath id=\"pc0126e29c3\">\n   <rect height=\"217.44\" width=\"334.8\" x=\"39.65\" y=\"7.2\"/>\n  </clipPath>\n </defs>\n</svg>\n",
      "image/png": "[encoded data removed]"
     },
     "metadata": {
      "needs_background": "light"
     }
    }
   ]
  },
  {
   "cell_type": "code",
   "execution_count": 136,
   "metadata": {},
   "outputs": [
    {
     "output_type": "execute_result",
     "data": {
      "text/plain": [
       "     Ethnicity     Name\n",
       "0        ASIAN    aahil\n",
       "1      AFRICAN  aaliyah\n",
       "3        ASIAN    aarav\n",
       "6     HISPANIC    aaron\n",
       "7        ASIAN    aarya\n",
       "...        ...      ...\n",
       "2547  HISPANIC      zoe\n",
       "2550  HISPANIC     zoey\n",
       "2551     ASIAN     zoya\n",
       "2552   AFRICAN     zuri\n",
       "2553   AFRICAN   zyaire\n",
       "\n",
       "[1737 rows x 2 columns]"
      ],
      "text/html": "<div>\n<style scoped>\n    .dataframe tbody tr th:only-of-type {\n        vertical-align: middle;\n    }\n\n    .dataframe tbody tr th {\n        vertical-align: top;\n    }\n\n    .dataframe thead th {\n        text-align: right;\n    }\n</style>\n<table border=\"1\" class=\"dataframe\">\n  <thead>\n    <tr style=\"text-align: right;\">\n      <th></th>\n      <th>Ethnicity</th>\n      <th>Name</th>\n    </tr>\n  </thead>\n  <tbody>\n    <tr>\n      <th>0</th>\n      <td>ASIAN</td>\n      <td>aahil</td>\n    </tr>\n    <tr>\n      <th>1</th>\n      <td>AFRICAN</td>\n      <td>aaliyah</td>\n    </tr>\n    <tr>\n      <th>3</th>\n      <td>ASIAN</td>\n      <td>aarav</td>\n    </tr>\n    <tr>\n      <th>6</th>\n      <td>HISPANIC</td>\n      <td>aaron</td>\n    </tr>\n    <tr>\n      <th>7</th>\n      <td>ASIAN</td>\n      <td>aarya</td>\n    </tr>\n    <tr>\n      <th>...</th>\n      <td>...</td>\n      <td>...</td>\n    </tr>\n    <tr>\n      <th>2547</th>\n      <td>HISPANIC</td>\n      <td>zoe</td>\n    </tr>\n    <tr>\n      <th>2550</th>\n      <td>HISPANIC</td>\n      <td>zoey</td>\n    </tr>\n    <tr>\n      <th>2551</th>\n      <td>ASIAN</td>\n      <td>zoya</td>\n    </tr>\n    <tr>\n      <th>2552</th>\n      <td>AFRICAN</td>\n      <td>zuri</td>\n    </tr>\n    <tr>\n      <th>2553</th>\n      <td>AFRICAN</td>\n      <td>zyaire</td>\n    </tr>\n  </tbody>\n</table>\n<p>1737 rows × 2 columns</p>\n</div>"
     },
     "metadata": {},
     "execution_count": 136
    }
   ],
   "source": [
    "df_f = df_total[df_total.Count > 0.50][[\"Ethnicity\",\"Name\"]]\n",
    "df_f"
   ]
  },
  {
   "cell_type": "code",
   "execution_count": 140,
   "metadata": {},
   "outputs": [
    {
     "output_type": "execute_result",
     "data": {
      "text/plain": [
       "[     Ethnicity       Name\n",
       " 2071  HISPANIC     reuven\n",
       " 374   HISPANIC        avi\n",
       " 2500  HISPANIC      yonah\n",
       " 2267  HISPANIC       simi\n",
       " 213    AFRICAN      amiya\n",
       " ...        ...        ...\n",
       " 148   HISPANIC     alissa\n",
       " 538   HISPANIC  cassandra\n",
       " 686   HISPANIC     dereck\n",
       " 1882   AFRICAN       nana\n",
       " 1220  HISPANIC     jaylee\n",
       " \n",
       " [1302 rows x 2 columns],\n",
       "      Ethnicity      Name\n",
       " 1221  HISPANIC   jayleen\n",
       " 2200  HISPANIC      sean\n",
       " 291   HISPANIC     april\n",
       " 621   HISPANIC    connor\n",
       " 1929     ASIAN    nikhil\n",
       " ...        ...       ...\n",
       " 2152  HISPANIC  samantha\n",
       " 2489  HISPANIC     yidel\n",
       " 2404  HISPANIC   vanessa\n",
       " 1649  HISPANIC       mae\n",
       " 2065   AFRICAN     reign\n",
       " \n",
       " [435 rows x 2 columns]]"
      ]
     },
     "metadata": {},
     "execution_count": 140
    }
   ],
   "source": [
    "train_test_split(df_f)"
   ]
  },
  {
   "cell_type": "code",
   "execution_count": 142,
   "metadata": {},
   "outputs": [],
   "source": [
    "train, test = train_test_split(df_f)\n",
    "train.to_csv(\"data/train.csv\")\n",
    "test.to_csv(\"data/test.csv\")"
   ]
  },
  {
   "cell_type": "code",
   "execution_count": 143,
   "metadata": {},
   "outputs": [
    {
     "output_type": "stream",
     "name": "stdout",
     "text": [
      ",Ethnicity,Name\n1806,HISPANIC,mikaela\n1696,HISPANIC,margaret\n1850,HISPANIC,montserrat\n432,HISPANIC,binyomin\n582,AFRICAN,cheyenne\n1913,HISPANIC,nelson\n706,HISPANIC,dina\n2237,HISPANIC,sherlyn\n931,HISPANIC,gael\n1410,HISPANIC,kaylani\n1171,HISPANIC,jana\n2096,HISPANIC,rocco\n684,HISPANIC,dennis\n355,HISPANIC,aubrey\n1952,HISPANIC,norah\n2307,HISPANIC,stephen\n1240,AFRICAN,jelani\n855,HISPANIC,etty\n1156,HISPANIC,jakub\n479,HISPANIC,brooklyn\n165,HISPANIC,alter\n2469,HISPANIC,yanky\n751,HISPANIC,eleanor\n263,ASIAN,anisha\n1497,HISPANIC,lana\n1199,HISPANIC,javier\n576,HISPANIC,chaya\n549,HISPANIC,cecilia\n1614,HISPANIC,lucas\n2510,HISPANIC,zabdiel\n222,ASIAN,anabia\n2332,AFRICAN,taliyah\n2079,HISPANIC,rifka\n1679,HISPANIC,malika\n2243,HISPANIC,shimon\n47,ASIAN,aditya\n516,HISPANIC,camila\n1791,HISPANIC,mia\n846,HISPANIC,ester\n1018,HISPANIC,harrison\n997,HISPANIC,haley\n329,HISPANIC,arturo\n443,HISPANIC,bracha\n309,HISPANIC,arianny\n2230,HISPANIC,shaya\n2504,HISPANIC,yousef\n1443,HISPANIC,kevin\n343,AFRICAN,ashton\n607,HISPANIC,clark\n200,HISPANIC,amelie\n1423,HISPANIC,keira\n1692,HISPANIC,marcos\n1241,HISPANIC,jencarlos\n1046,HISPANIC,herman\n446,HISPANIC,bradley\n843,AFRICAN,essence\n2144,AFRICAN,saige\n2422,HISPANIC,violet\n896,HISPANIC,fernanda\n2128,HISPANIC,ruth\n1657,AFRICAN,maimouna\n742,HISPANIC,edwin\n1684,ASIAN,mandy\n1767,HISPANIC,meilech\n1655,ASIAN,mahnoor\n2524,AFRICAN,zaire\n708,HISPANIC,diyora\n48,AFRICAN,adonis\n529,HISPANIC,carmine\n1911,ASIAN,neil\n295,HISPANIC,arely\n1198,HISPANIC,jasper\n681,HISPANIC,denis\n796,HISPANIC,eloise\n2450,AFRICAN,wynter\n677,HISPANIC,dean\n1048,HISPANIC,hershel\n513,AFRICAN,cameron\n482,HISPANIC,bruce\n58,HISPANIC,aharon\n2159,HISPANIC,samira\n2053,ASIAN,raymond\n1360,HISPANIC,kaelyn\n1978,HISPANIC,otto\n485,HISPANIC,bruno\n1486,HISPANIC,kylie\n795,HISPANIC,elodie\n2049,HISPANIC,raquel\n228,HISPANIC,anastasia\n547,HISPANIC,cecelia\n1898,HISPANIC,nathaly\n2097,HISPANIC,rochel\n116,HISPANIC,alexa\n1927,HISPANIC,nicolette\n1949,HISPANIC,noor\n1585,HISPANIC,lionel\n383,AFRICAN,awa\n53,HISPANIC,adriana\n1639,HISPANIC,madeleine\n2173,HISPANIC,sara\n376,HISPANIC,avigail\n2544,HISPANIC,zissy\n1747,HISPANIC,maximilian\n645,AFRICAN,damani\n1328,HISPANIC,judy\n789,HISPANIC,elliana\n1303,HISPANIC,joselyn\n812,HISPANIC,emilio\n1492,AFRICAN,laila\n2404,HISPANIC,vanessa\n879,HISPANIC,faiga\n302,HISPANIC,arian\n995,HISPANIC,hailey\n675,HISPANIC,dayana\n2223,AFRICAN,shania\n990,HISPANIC,hadassah\n388,ASIAN,ayan\n1520,ASIAN,leanna\n1719,AFRICAN,marquis\n2446,AFRICAN,winter\n338,HISPANIC,asher\n1782,HISPANIC,mendel\n999,HISPANIC,hamza\n1568,HISPANIC,lilian\n1518,HISPANIC,leah\n97,HISPANIC,albert\n2146,HISPANIC,salome\n1377,AFRICAN,kamari\n64,ASIAN,ahnaf\n1772,HISPANIC,melanie\n22,HISPANIC,abigail\n1421,HISPANIC,keily\n1102,AFRICAN,isiah\n1092,HISPANIC,isabella\n254,HISPANIC,angelique\n1230,HISPANIC,jayson\n226,ASIAN,ananya\n484,HISPANIC,bruchy\n2117,HISPANIC,rosie\n580,HISPANIC,cheskel\n98,HISPANIC,alberto\n1581,HISPANIC,lincoln\n2111,HISPANIC,ronan\n1973,HISPANIC,orion\n1184,HISPANIC,jared\n617,HISPANIC,colton\n292,HISPANIC,arabella\n2043,HISPANIC,rafael\n490,HISPANIC,bryant\n1816,HISPANIC,milana\n823,HISPANIC,emmett\n1169,HISPANIC,jamie\n2200,HISPANIC,sean\n2484,HISPANIC,yehudis\n971,HISPANIC,goldy\n249,HISPANIC,angelica\n640,HISPANIC,daisy\n1375,AFRICAN,kali\n1296,HISPANIC,jordan\n1053,ASIAN,hoorain\n1561,HISPANIC,liana\n1219,HISPANIC,jaylah\n1908,AFRICAN,nazir\n1488,AFRICAN,kyree\n916,HISPANIC,freddy\n134,HISPANIC,alia\n680,HISPANIC,delilah\n2415,HISPANIC,vienna\n1889,AFRICAN,nasir\n2443,ASIAN,winnie\n52,HISPANIC,adrian\n2098,AFRICAN,rodney\n315,HISPANIC,ariella\n1134,HISPANIC,jacqueline\n1972,HISPANIC,ori\n2503,HISPANIC,yossi\n1630,HISPANIC,luz\n985,HISPANIC,greyson\n113,HISPANIC,alex\n1647,HISPANIC,madison\n665,HISPANIC,daria\n2340,AFRICAN,taylor\n2044,ASIAN,raina\n2231,ASIAN,shayaan\n1245,HISPANIC,jennifer\n604,HISPANIC,claire\n1413,HISPANIC,kaylee\n1562,HISPANIC,liba\n1399,HISPANIC,katherine\n1414,HISPANIC,kayleen\n426,HISPANIC,berish\n1163,AFRICAN,jamel\n908,HISPANIC,frances\n659,HISPANIC,danna\n2238,ASIAN,sherry\n1088,HISPANIC,isabel\n286,HISPANIC,antonella\n1123,HISPANIC,jace\n342,HISPANIC,ashly\n37,HISPANIC,adelaide\n2113,HISPANIC,rosa\n622,HISPANIC,conor\n477,HISPANIC,brooke\n1793,AFRICAN,micah\n781,HISPANIC,eliza\n173,AFRICAN,amadou\n1537,HISPANIC,leo\n94,HISPANIC,alanna\n1677,AFRICAN,malik\n454,HISPANIC,brayden\n1071,HISPANIC,ilan\n534,AFRICAN,carter\n102,ASIAN,aleena\n13,AFRICAN,abdoul\n959,HISPANIC,giovanni\n1825,ASIAN,mina\n1617,HISPANIC,luciana\n1866,HISPANIC,mushka\n1431,HISPANIC,kendra\n1009,ASIAN,hao\n2252,HISPANIC,shmiel\n1548,HISPANIC,lesley\n289,HISPANIC,antonio\n2516,AFRICAN,zahir\n1152,HISPANIC,jaime\n724,HISPANIC,dylan\n1472,AFRICAN,kourtney\n1730,HISPANIC,massimo\n666,HISPANIC,dariel\n2264,HISPANIC,silas\n1701,HISPANIC,mariah\n218,HISPANIC,ana\n1312,AFRICAN,josiah\n38,HISPANIC,adele\n920,HISPANIC,frieda\n1206,HISPANIC,jay\n951,HISPANIC,giancarlo\n980,HISPANIC,grayson\n1836,HISPANIC,misael\n2497,HISPANIC,yocheved\n2540,AFRICAN,zendaya\n606,HISPANIC,clara\n1547,HISPANIC,leora\n1829,HISPANIC,mira\n921,HISPANIC,frimet\n2408,ASIAN,vicky\n2466,HISPANIC,yamileth\n1556,HISPANIC,lia\n2481,HISPANIC,yehoshua\n2158,HISPANIC,samir\n2271,AFRICAN,sincere\n1587,HISPANIC,lipa\n1280,HISPANIC,john\n429,HISPANIC,bianca\n1282,ASIAN,johnny\n400,HISPANIC,aylin\n1508,AFRICAN,lauryn\n581,HISPANIC,chesky\n540,HISPANIC,cataleya\n2033,AFRICAN,princeton\n1579,HISPANIC,lina\n911,HISPANIC,francis\n2530,ASIAN,zara\n1661,HISPANIC,maite\n1688,HISPANIC,marc\n2074,HISPANIC,ricardo\n1990,AFRICAN,paris\n2294,AFRICAN,soraya\n410,HISPANIC,batya\n1636,HISPANIC,mackenzie\n902,ASIAN,fiona\n1266,ASIAN,jimmy\n1934,HISPANIC,nina\n740,HISPANIC,edward\n1149,AFRICAN,jahmir\n2022,HISPANIC,pinchus\n945,HISPANIC,geraldine\n2207,HISPANIC,selim\n633,HISPANIC,crystal\n319,ASIAN,arjun\n1226,HISPANIC,jaylin\n1931,HISPANIC,nikolai\n318,ASIAN,arisha\n1145,HISPANIC,jaelyn\n2465,HISPANIC,yamilet\n1118,HISPANIC,izabella\n1758,HISPANIC,mayer\n2125,HISPANIC,ruchel\n397,ASIAN,ayesha\n2430,HISPANIC,walter\n2241,HISPANIC,shifra\n1104,HISPANIC,isis\n1985,HISPANIC,pablo\n555,AFRICAN,chace\n387,HISPANIC,ayala\n807,HISPANIC,emely\n284,HISPANIC,anthony\n1200,HISPANIC,jax\n2107,HISPANIC,romeo\n2010,HISPANIC,pessy\n497,AFRICAN,caden\n252,HISPANIC,angelina\n1077,ASIAN,inaya\n1284,HISPANIC,jolie\n1651,HISPANIC,magaly\n25,HISPANIC,abraham\n662,HISPANIC,dante\n2012,HISPANIC,peter\n2080,HISPANIC,rifky\n1030,HISPANIC,hayley\n2091,ASIAN,riya\n1988,HISPANIC,pamela\n2331,HISPANIC,talia\n1025,AFRICAN,hawa\n1792,HISPANIC,miah\n2493,HISPANIC,yitta\n1607,HISPANIC,louis\n714,HISPANIC,donovan\n1956,HISPANIC,nyah\n2360,AFRICAN,tiana\n1666,AFRICAN,makenzie\n1288,HISPANIC,jonah\n2399,HISPANIC,valeria\n358,HISPANIC,audrey\n1953,HISPANIC,nosson\n842,HISPANIC,esmeralda\n128,HISPANIC,alexis\n1867,ASIAN,mustafa\n1045,HISPANIC,henry\n2099,HISPANIC,rodrigo\n1143,HISPANIC,jadiel\n2038,AFRICAN,quincy\n1510,HISPANIC,layan\n952,HISPANIC,gianluca\n2522,ASIAN,zainab\n1336,HISPANIC,julianna\n1667,AFRICAN,makhi\n2418,HISPANIC,vincent\n2395,HISPANIC,uriel\n1022,ASIAN,hashim\n160,HISPANIC,alma\n1654,AFRICAN,mahamadou\n1466,AFRICAN,kingston\n877,HISPANIC,ezriel\n101,HISPANIC,alec\n211,AFRICAN,amirah\n2026,AFRICAN,precious\n119,HISPANIC,alexander\n1673,HISPANIC,malek\n2374,AFRICAN,tori\n1082,ASIAN,iris\n1308,HISPANIC,josephine\n258,HISPANIC,angie\n1670,HISPANIC,malak\n1736,HISPANIC,matteo\n2329,AFRICAN,tabitha\n2390,HISPANIC,tziporah\n826,HISPANIC,ephraim\n466,HISPANIC,brianna\n1108,HISPANIC,ismael\n2270,HISPANIC,simone\n1254,ASIAN,jerry\n2334,HISPANIC,tamara\n275,HISPANIC,annalise\n1003,HISPANIC,hanley\n1128,HISPANIC,jackson\n2376,HISPANIC,trany\n1355,HISPANIC,kacper\n1849,HISPANIC,monserrat\n1095,HISPANIC,isabelle\n1943,HISPANIC,noelle\n562,HISPANIC,chanie\n2482,HISPANIC,yehuda\n1779,HISPANIC,melvin\n1589,HISPANIC,litzy\n1986,AFRICAN,paige\n2168,AFRICAN,saniya\n1515,HISPANIC,lea\n470,AFRICAN,brielle\n2138,AFRICAN,sade\n1559,HISPANIC,liam\n2087,HISPANIC,river\n390,ASIAN,ayat\n1609,HISPANIC,louise\n1622,HISPANIC,luis\n2036,ASIAN,queena\n2326,HISPANIC,sylvia\n1300,HISPANIC,jorge\n669,ASIAN,darren\n2483,HISPANIC,yehudah\n56,HISPANIC,adriel\n2169,AFRICAN,saniyah\n949,HISPANIC,gia\n1981,AFRICAN,ousmane\n2114,HISPANIC,rose\n1403,HISPANIC,kaya\n384,HISPANIC,axel\n1947,HISPANIC,nolan\n1316,AFRICAN,journee\n692,HISPANIC,desmond\n500,AFRICAN,caiden\n1551,HISPANIC,lev\n1572,HISPANIC,lillian\n1315,HISPANIC,josue\n960,HISPANIC,giovanny\n579,HISPANIC,chelsea\n2536,HISPANIC,zayden\n1444,HISPANIC,keyla\n2034,ASIAN,priscilla\n130,HISPANIC,alfredo\n2458,HISPANIC,yachet\n393,HISPANIC,ayden\n347,HISPANIC,atara\n517,HISPANIC,camilla\n323,HISPANIC,armando\n40,HISPANIC,adeline\n753,HISPANIC,elena\n1662,AFRICAN,major\n704,HISPANIC,dilan\n996,HISPANIC,hailie\n1064,HISPANIC,ian\n75,HISPANIC,aileen\n1078,HISPANIC,ines\n699,HISPANIC,devora\n394,ASIAN,aydin\n483,HISPANIC,brucha\n623,HISPANIC,cooper\n929,AFRICAN,gabrielle\n747,HISPANIC,eitan\n1189,HISPANIC,jasmin\n7,ASIAN,aarya\n409,HISPANIC,batsheva\n1691,HISPANIC,marco\n1224,HISPANIC,jaylene\n1234,HISPANIC,jazzlyn\n"
     ]
    }
   ],
   "source": [
    "!cat data/test.csv"
   ]
  },
  {
   "source": [
    "# Deuxième dataset "
   ],
   "cell_type": "markdown",
   "metadata": {}
  },
  {
   "cell_type": "code",
   "execution_count": 2,
   "metadata": {},
   "outputs": [],
   "source": [
    "all_letters = string.ascii_letters + \" .,;'\"\n",
    "n_letters = len(all_letters)\n",
    "\n",
    "category_lines = {}\n",
    "all_categories = []\n",
    "\n",
    "for filename in findFiles('data/names/*.txt'):\n",
    "    category = os.path.splitext(os.path.basename(filename))[0]\n",
    "    all_categories.append(category)\n",
    "    lines = readLines(filename)\n",
    "    category_lines[category] = lines\n",
    "\n",
    "n_categories = len(all_categories)"
   ]
  },
  {
   "cell_type": "code",
   "execution_count": 8,
   "metadata": {},
   "outputs": [
    {
     "output_type": "execute_result",
     "data": {
      "text/plain": [
       "          Name   Class\n",
       "0         Abel  French\n",
       "1      Abraham  French\n",
       "2         Adam  French\n",
       "3       Albert  French\n",
       "4       Allard  French\n",
       "...        ...     ...\n",
       "20069    Daher  Arabic\n",
       "20070     Awad  Arabic\n",
       "20071   Malouf  Arabic\n",
       "20072  Mustafa  Arabic\n",
       "20073    Aswad  Arabic\n",
       "\n",
       "[20074 rows x 2 columns]"
      ],
      "text/html": "<div>\n<style scoped>\n    .dataframe tbody tr th:only-of-type {\n        vertical-align: middle;\n    }\n\n    .dataframe tbody tr th {\n        vertical-align: top;\n    }\n\n    .dataframe thead th {\n        text-align: right;\n    }\n</style>\n<table border=\"1\" class=\"dataframe\">\n  <thead>\n    <tr style=\"text-align: right;\">\n      <th></th>\n      <th>Name</th>\n      <th>Class</th>\n    </tr>\n  </thead>\n  <tbody>\n    <tr>\n      <th>0</th>\n      <td>Abel</td>\n      <td>French</td>\n    </tr>\n    <tr>\n      <th>1</th>\n      <td>Abraham</td>\n      <td>French</td>\n    </tr>\n    <tr>\n      <th>2</th>\n      <td>Adam</td>\n      <td>French</td>\n    </tr>\n    <tr>\n      <th>3</th>\n      <td>Albert</td>\n      <td>French</td>\n    </tr>\n    <tr>\n      <th>4</th>\n      <td>Allard</td>\n      <td>French</td>\n    </tr>\n    <tr>\n      <th>...</th>\n      <td>...</td>\n      <td>...</td>\n    </tr>\n    <tr>\n      <th>20069</th>\n      <td>Daher</td>\n      <td>Arabic</td>\n    </tr>\n    <tr>\n      <th>20070</th>\n      <td>Awad</td>\n      <td>Arabic</td>\n    </tr>\n    <tr>\n      <th>20071</th>\n      <td>Malouf</td>\n      <td>Arabic</td>\n    </tr>\n    <tr>\n      <th>20072</th>\n      <td>Mustafa</td>\n      <td>Arabic</td>\n    </tr>\n    <tr>\n      <th>20073</th>\n      <td>Aswad</td>\n      <td>Arabic</td>\n    </tr>\n  </tbody>\n</table>\n<p>20074 rows × 2 columns</p>\n</div>"
     },
     "metadata": {},
     "execution_count": 8
    }
   ],
   "source": [
    "L = {\n",
    "    \"Name\":[],\n",
    "    \"Class\":[]\n",
    "}\n",
    "for k in category_lines:\n",
    "    for name in category_lines[k]:\n",
    "        L[\"Name\"].append(name)\n",
    "        L[\"Class\"].append(k)\n",
    "df = pd.DataFrame(L)\n",
    "df"
   ]
  },
  {
   "cell_type": "code",
   "execution_count": 11,
   "metadata": {},
   "outputs": [],
   "source": [
    "train, test = train_test_split(df)\n",
    "train.to_csv(\"data/train2.csv\")\n",
    "test.to_csv(\"data/test2.csv\")"
   ]
  },
  {
   "cell_type": "code",
   "execution_count": null,
   "metadata": {},
   "outputs": [],
   "source": []
  }
 ]
}